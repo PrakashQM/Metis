{
 "cells": [
  {
   "cell_type": "markdown",
   "metadata": {},
   "source": [
    "#### Read in the data"
   ]
  },
  {
   "cell_type": "markdown",
   "metadata": {},
   "source": [
    "## Notes, resources, other..."
   ]
  },
  {
   "cell_type": "code",
   "execution_count": null,
   "metadata": {},
   "outputs": [],
   "source": [
    "'''\n",
    "https://stackoverflow.com/questions/22219004/grouping-rows-in-list-in-pandas-groupby\n",
    "\n",
    "# below creates unique set of keys comprised of first 4 columns (C/A, STATION, UNIT, etc.)\n",
    "new_set = set(zip(df['C/A'], df['UNIT'], df['SCP'], df['STATION']))\n",
    "\n",
    "# below works as an initial groupby consolidation\n",
    "df.groupby(['C/A', 'UNIT', 'SCP', 'STATION', 'DATE']).count()\n",
    "'''"
   ]
  },
  {
   "cell_type": "code",
   "execution_count": 26,
   "metadata": {
    "scrolled": false
   },
   "outputs": [
    {
     "name": "stdout",
     "output_type": "stream",
     "text": [
      "<class 'pandas.core.frame.DataFrame'>\n",
      "RangeIndex: 194516 entries, 0 to 194515\n",
      "Data columns (total 11 columns):\n",
      "C/A                                                                     194516 non-null object\n",
      "UNIT                                                                    194516 non-null object\n",
      "SCP                                                                     194516 non-null object\n",
      "STATION                                                                 194516 non-null object\n",
      "LINENAME                                                                194516 non-null object\n",
      "DIVISION                                                                194516 non-null object\n",
      "DATE                                                                    194516 non-null object\n",
      "TIME                                                                    194516 non-null object\n",
      "DESC                                                                    194516 non-null object\n",
      "ENTRIES                                                                 194516 non-null int64\n",
      "EXITS                                                                   194516 non-null int64\n",
      "dtypes: int64(2), object(9)\n",
      "memory usage: 16.3+ MB\n"
     ]
    }
   ],
   "source": [
    "import pandas as pd\n",
    "txt_docs_list = ['turnstile_160409.txt', 'turnstile_180310.txt', 'turnstile_180317.txt',\n",
    "                 'turnstile_180324.txt', 'turnstile_180331.txt', 'turnstile_180407.txt']\n",
    "\n",
    "df_list = []\n",
    "for each in range(1):\n",
    "    df_list.append(pd.read_csv(txt_docs_list[each]))\n",
    "    \n",
    "df = pd.concat(df_list)\n",
    "df.info()"
   ]
  },
  {
   "cell_type": "markdown",
   "metadata": {},
   "source": [
    "# Challenge 1. Build the dictionary"
   ]
  },
  {
   "cell_type": "code",
   "execution_count": 34,
   "metadata": {
    "scrolled": false
   },
   "outputs": [
    {
     "name": "stdout",
     "output_type": "stream",
     "text": [
      "<class 'pandas.core.frame.DataFrame'>\n",
      "RangeIndex: 194516 entries, 0 to 194515\n",
      "Data columns (total 12 columns):\n",
      "C/A                                                                     194516 non-null object\n",
      "UNIT                                                                    194516 non-null object\n",
      "SCP                                                                     194516 non-null object\n",
      "STATION                                                                 194516 non-null object\n",
      "LINENAME                                                                194516 non-null object\n",
      "DIVISION                                                                194516 non-null object\n",
      "DATE                                                                    194516 non-null object\n",
      "TIME                                                                    194516 non-null object\n",
      "DESC                                                                    194516 non-null object\n",
      "ENTRIES                                                                 194516 non-null int64\n",
      "EXITS                                                                   194516 non-null int64\n",
      "DATETIME                                                                194516 non-null datetime64[ns]\n",
      "dtypes: datetime64[ns](1), int64(2), object(9)\n",
      "memory usage: 17.8+ MB\n"
     ]
    }
   ],
   "source": [
    "df['DATETIME'] = df['DATE'] + ' ' + df['TIME']\n",
    "df['DATETIME'] = pd.to_datetime(df['DATETIME'])\n",
    "df.info()"
   ]
  },
  {
   "cell_type": "markdown",
   "metadata": {},
   "source": [
    "#### concat 4 ids for new column to avoid groupby, then sort by dates, then build list for unique vals in each date..."
   ]
  },
  {
   "cell_type": "code",
   "execution_count": 61,
   "metadata": {
    "scrolled": true
   },
   "outputs": [
    {
     "name": "stdout",
     "output_type": "stream",
     "text": [
      "<class 'pandas.core.frame.DataFrame'>\n",
      "RangeIndex: 194516 entries, 0 to 194515\n",
      "Data columns (total 13 columns):\n",
      "C/A          194516 non-null object\n",
      "UNIT         194516 non-null object\n",
      "SCP          194516 non-null object\n",
      "STATION      194516 non-null object\n",
      "LINENAME     194516 non-null object\n",
      "DIVISION     194516 non-null object\n",
      "DATE         194516 non-null object\n",
      "TIME         194516 non-null object\n",
      "DESC         194516 non-null object\n",
      "ENTRIES      194516 non-null int64\n",
      "EXITS        194516 non-null int64\n",
      "DATETIME     194516 non-null datetime64[ns]\n",
      "turnstile    194516 non-null object\n",
      "dtypes: datetime64[ns](1), int64(2), object(10)\n",
      "memory usage: 19.3+ MB\n"
     ]
    }
   ],
   "source": [
    "df['turnstile'] = df['C/A'] + '_' + df['UNIT'] + '_' + df['SCP'] + '_' + df['STATION']\n",
    "df.info()"
   ]
  },
  {
   "cell_type": "code",
   "execution_count": 62,
   "metadata": {},
   "outputs": [
    {
     "data": {
      "text/plain": [
       "Index(['C/A', 'UNIT', 'SCP', 'STATION', 'LINENAME', 'DIVISION', 'DATE', 'TIME',\n",
       "       'DESC', 'ENTRIES', 'EXITS', 'DATETIME', 'turnstile'],\n",
       "      dtype='object')"
      ]
     },
     "execution_count": 62,
     "metadata": {},
     "output_type": "execute_result"
    }
   ],
   "source": [
    "df.columns = df.columns.str.strip()\n",
    "df.columns"
   ]
  },
  {
   "cell_type": "code",
   "execution_count": 74,
   "metadata": {
    "scrolled": true
   },
   "outputs": [
    {
     "data": {
      "text/plain": [
       "turnstile                          DATE      \n",
       "A002_R051_02-00-00_59 ST           04/02/2016    [5600838, 5600863, 5600877, 5600922, 5601172, ...\n",
       "                                   04/03/2016    [5601621, 5601638, 5601643, 5601722, 5601917, ...\n",
       "                                   04/04/2016    [5602244, 5602256, 5602297, 5602326, 5602456, ...\n",
       "                                   04/05/2016        [5603671, 5603729, 5603886, 5604169, 5604944]\n",
       "                                   04/06/2016    [5605129, 5605137, 5605168, 5605278, 5605583, ...\n",
       "                                   04/07/2016    [5606603, 5606619, 5606656, 5606803, 5607108, ...\n",
       "                                   04/08/2016    [5608161, 5608184, 5608228, 5608402, 5608800, ...\n",
       "A002_R051_02-00-01_59 ST           04/02/2016    [5148548, 5148569, 5148583, 5148636, 5148817, ...\n",
       "                                   04/03/2016    [5149186, 5149205, 5149209, 5149260, 5149424, ...\n",
       "                                   04/04/2016    [5149693, 5149697, 5149733, 5149765, 5149905, ...\n",
       "                                   04/05/2016        [5150872, 5150927, 5151109, 5151351, 5151983]\n",
       "                                   04/06/2016    [5152141, 5152149, 5152203, 5152324, 5152600, ...\n",
       "                                   04/07/2016    [5153417, 5153429, 5153475, 5153614, 5153855, ...\n",
       "                                   04/08/2016    [5154701, 5154721, 5154758, 5154947, 5155293, ...\n",
       "A002_R051_02-03-00_59 ST           04/02/2016     [675366, 675375, 675378, 675427, 675511, 675654]\n",
       "                                   04/03/2016     [675752, 675762, 675767, 675799, 675878, 675966]\n",
       "                                   04/04/2016    [676022, 676027, 676038, 676050, 676100, 67623...\n",
       "                                   04/05/2016             [676641, 676660, 676763, 676881, 677230]\n",
       "                                   04/06/2016     [677334, 677337, 677361, 677426, 677530, 677891]\n",
       "                                   04/07/2016     [678011, 678017, 678032, 678091, 678203, 678550]\n",
       "                                   04/08/2016     [678672, 678682, 678692, 678763, 678882, 679231]\n",
       "A002_R051_02-03-01_59 ST           04/02/2016    [5125329, 5125377, 5125392, 5125518, 5125765, ...\n",
       "                                   04/03/2016    [5126335, 5126374, 5126384, 5126483, 5126709, ...\n",
       "                                   04/04/2016    [5127163, 5127185, 5127227, 5127258, 5127434, ...\n",
       "                                   04/05/2016        [5128619, 5128668, 5128913, 5129234, 5129904]\n",
       "                                   04/06/2016    [5130170, 5130195, 5130257, 5130467, 5130763, ...\n",
       "                                   04/07/2016    [5131723, 5131749, 5131811, 5132012, 5132315, ...\n",
       "                                   04/08/2016    [5133276, 5133309, 5133358, 5133563, 5133904, ...\n",
       "A002_R051_02-03-02_59 ST           04/02/2016    [4853293, 4853339, 4853364, 4853479, 4853706, ...\n",
       "                                   04/03/2016    [4854275, 4854321, 4854334, 4854429, 4854649, ...\n",
       "                                                                       ...                        \n",
       "TRAM2_R469_00-00-01_RIT-ROOSEVELT  04/07/2016    [1565786, 1565786, 1566385, 1566863, 1567078, ...\n",
       "                                   04/08/2016    [1567281, 1567281, 1567493, 1567865, 1568365, ...\n",
       "TRAM2_R469_00-03-00_RIT-ROOSEVELT  04/02/2016     [293179, 293180, 293184, 293235, 293337, 293442]\n",
       "                                   04/03/2016     [293461, 293462, 293463, 293524, 293643, 293722]\n",
       "                                   04/04/2016     [293738, 293739, 293780, 293830, 293891, 293923]\n",
       "                                   04/05/2016     [293939, 293941, 294152, 294267, 294329, 294388]\n",
       "                                   04/06/2016    [294397, 294397, 294408, 294411, 294433, 29451...\n",
       "                                   04/07/2016     [294651, 294651, 294675, 294750, 294804, 294878]\n",
       "                                   04/08/2016    [294883, 294883, 294890, 294914, 295027, 29512...\n",
       "TRAM2_R469_00-03-01_RIT-ROOSEVELT  04/02/2016    [2607762, 2607763, 2607768, 2607821, 2607922, ...\n",
       "                                   04/03/2016    [2608058, 2608059, 2608064, 2608120, 2608247, ...\n",
       "                                   04/04/2016    [2608362, 2608362, 2608429, 2608492, 2608559, ...\n",
       "                                   04/05/2016    [2608614, 2608615, 2608870, 2608986, 2609059, ...\n",
       "                                   04/06/2016    [2609118, 2609118, 2609142, 2609149, 2609177, ...\n",
       "                                   04/07/2016    [2609423, 2609423, 2609454, 2609537, 2609600, ...\n",
       "                                   04/08/2016    [2609684, 2609684, 2609692, 2609717, 2609853, ...\n",
       "TRAM2_R469_00-05-00_RIT-ROOSEVELT  04/02/2016                 [2134, 2134, 2134, 2134, 2134, 2134]\n",
       "                                   04/03/2016                 [2134, 2134, 2134, 2134, 2134, 2134]\n",
       "                                   04/04/2016                 [2134, 2134, 2134, 2134, 2134, 2134]\n",
       "                                   04/05/2016                 [2134, 2134, 2134, 2134, 2135, 2135]\n",
       "                                   04/06/2016     [2135, 2135, 2136, 2136, 2136, 2136, 2137, 2137]\n",
       "                                   04/07/2016                 [2137, 2137, 2141, 2146, 2146, 2147]\n",
       "                                   04/08/2016           [2147, 2147, 2147, 2147, 2147, 2147, 2147]\n",
       "TRAM2_R469_00-05-01_RIT-ROOSEVELT  04/02/2016                 [5554, 5554, 5554, 5554, 5554, 5554]\n",
       "                                   04/03/2016                 [5554, 5554, 5554, 5554, 5554, 5554]\n",
       "                                   04/04/2016                 [5554, 5554, 5554, 5554, 5554, 5554]\n",
       "                                   04/05/2016                 [5554, 5554, 5554, 5554, 5554, 5554]\n",
       "                                   04/06/2016     [5554, 5554, 5554, 5554, 5554, 5554, 5554, 5554]\n",
       "                                   04/07/2016                 [5554, 5554, 5554, 5554, 5554, 5554]\n",
       "                                   04/08/2016           [5554, 5554, 5554, 5554, 5554, 5554, 5554]\n",
       "Name: ENTRIES, Length: 32125, dtype: object"
      ]
     },
     "execution_count": 74,
     "metadata": {},
     "output_type": "execute_result"
    }
   ],
   "source": [
    "df.groupby(['turnstile', 'DATE'])['ENTRIES'].apply(list)\n",
    "df2"
   ]
  },
  {
   "cell_type": "code",
   "execution_count": 97,
   "metadata": {
    "scrolled": true
   },
   "outputs": [
    {
     "data": {
      "text/plain": [
       "[646,\n",
       " 1418,\n",
       " 1487,\n",
       " 2681,\n",
       " 906,\n",
       " 372,\n",
       " 257,\n",
       " 14,\n",
       " 1924,\n",
       " 1055,\n",
       " 1448,\n",
       " 1348,\n",
       " 1576,\n",
       " 336,\n",
       " 670,\n",
       " 2401,\n",
       " 1820,\n",
       " 2451,\n",
       " 917,\n",
       " 1789,\n",
       " 389,\n",
       " 249,\n",
       " 1178,\n",
       " 2,\n",
       " 482,\n",
       " 35,\n",
       " 3577,\n",
       " 999,\n",
       " 1816,\n",
       " 474,\n",
       " 1339,\n",
       " 1629,\n",
       " 3461,\n",
       " 1630,\n",
       " 0,\n",
       " 3136,\n",
       " 781,\n",
       " 192,\n",
       " 699,\n",
       " 1026,\n",
       " 593,\n",
       " 0,\n",
       " 1591,\n",
       " 782,\n",
       " 2713,\n",
       " 1378,\n",
       " 565,\n",
       " 68,\n",
       " 408,\n",
       " 871,\n",
       " 14,\n",
       " 2162,\n",
       " 1250,\n",
       " 263,\n",
       " 1218,\n",
       " 1095,\n",
       " 0,\n",
       " 231,\n",
       " 576,\n",
       " 7500,\n",
       " 1428,\n",
       " 578,\n",
       " 0,\n",
       " 1032,\n",
       " 277,\n",
       " 389,\n",
       " 696,\n",
       " 725,\n",
       " 330,\n",
       " 125,\n",
       " 0,\n",
       " 3,\n",
       " 1473,\n",
       " 2010,\n",
       " 1032,\n",
       " 1412,\n",
       " 68,\n",
       " 283,\n",
       " 1862,\n",
       " 2741,\n",
       " 1960,\n",
       " 2932,\n",
       " 481,\n",
       " 729,\n",
       " 386,\n",
       " 1161,\n",
       " -4666,\n",
       " 2300,\n",
       " 245,\n",
       " 428,\n",
       " 2191,\n",
       " 1463,\n",
       " 1099,\n",
       " 0,\n",
       " 487,\n",
       " 0,\n",
       " 694,\n",
       " 2243,\n",
       " 1600,\n",
       " 0]"
      ]
     },
     "execution_count": 97,
     "metadata": {},
     "output_type": "execute_result"
    }
   ],
   "source": [
    "# now figure out how to turn move the series into df column..\n",
    "## separate df that returns only same # of rows as this series (basically agg'd by turnstile & DATE) (32,125 rows)\n",
    "## OR plug back into originally \"grouby'd\" df\n",
    "\n",
    "import numpy as np\n",
    "entries_list = list(df.groupby(['turnstile', 'DATE'])['ENTRIES'].apply(list))\n",
    "exits_list = list(df.groupby(['turnstile', 'DATE'])['EXITS'].apply(list))\n",
    "'''\n",
    "df3 = df.groupby(['C/A', 'UNIT', 'SCP', 'STATION', 'DATE']).count() #df2 already exists above\n",
    "df3['entries_list'] = list(entries_list_srs)\n",
    "df3['entries_dcount'] = (df[entries_list][-1] - df[entries_list][0])\n",
    "df3['exits_list'] = list(exits_list_srs)\n",
    "df3['exits_dcount'] = (df[exits_list][-1] - df[exits_list][0])\n",
    "\n",
    "df3.head()\n",
    "'''\n",
    "\n",
    "entries_count = []\n",
    "for e in entries_list:\n",
    "    entries_count.append(e[-1] - e[0])\n",
    "\n",
    "entries_count[:30000:300]"
   ]
  },
  {
   "cell_type": "markdown",
   "metadata": {},
   "source": [
    "#### Now count for each day..."
   ]
  }
 ],
 "metadata": {
  "kernelspec": {
   "display_name": "Python 3",
   "language": "python",
   "name": "python3"
  },
  "language_info": {
   "codemirror_mode": {
    "name": "ipython",
    "version": 3
   },
   "file_extension": ".py",
   "mimetype": "text/x-python",
   "name": "python",
   "nbconvert_exporter": "python",
   "pygments_lexer": "ipython3",
   "version": "3.6.4"
  }
 },
 "nbformat": 4,
 "nbformat_minor": 2
}
