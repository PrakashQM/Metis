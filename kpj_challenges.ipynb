{
 "cells": [
  {
   "cell_type": "markdown",
   "metadata": {},
   "source": [
    "## Notes, resources, other..."
   ]
  },
  {
   "cell_type": "code",
   "execution_count": 146,
   "metadata": {},
   "outputs": [
    {
     "data": {
      "text/plain": [
       "\"\\nhttps://stackoverflow.com/questions/22219004/grouping-rows-in-list-in-pandas-groupby\\n\\n# below creates unique set of keys comprised of first 4 columns (C/A, STATION, UNIT, etc.)\\nnew_set = set(zip(df['C/A'], df['UNIT'], df['SCP'], df['STATION']))\\n\\n# below works as an initial groupby consolidation\\ndf.groupby(['C/A', 'UNIT', 'SCP', 'STATION', 'DATE']).count()\\n\\n\\n\\nOBJECTIVES / DELIVERABLES:\\n- could suggest when to host the event based on what part of year we can reach most attendees\\n\""
      ]
     },
     "execution_count": 146,
     "metadata": {},
     "output_type": "execute_result"
    }
   ],
   "source": [
    "'''\n",
    "https://stackoverflow.com/questions/22219004/grouping-rows-in-list-in-pandas-groupby\n",
    "\n",
    "# below creates unique set of keys comprised of first 4 columns (C/A, STATION, UNIT, etc.)\n",
    "new_set = set(zip(df['C/A'], df['UNIT'], df['SCP'], df['STATION']))\n",
    "\n",
    "# below works as an initial groupby consolidation\n",
    "df.groupby(['C/A', 'UNIT', 'SCP', 'STATION', 'DATE']).count()\n",
    "\n",
    "\n",
    "\n",
    "OBJECTIVES / DELIVERABLES:\n",
    "- could suggest when to host the event based on what part of year we can reach most attendees\n",
    "'''"
   ]
  },
  {
   "cell_type": "markdown",
   "metadata": {},
   "source": [
    "### Read files into df"
   ]
  },
  {
   "cell_type": "code",
   "execution_count": 147,
   "metadata": {
    "scrolled": false
   },
   "outputs": [
    {
     "name": "stdout",
     "output_type": "stream",
     "text": [
      "<class 'pandas.core.frame.DataFrame'>\n",
      "Int64Index: 982772 entries, 0 to 196653\n",
      "Data columns (total 11 columns):\n",
      "C/A                                                                     982772 non-null object\n",
      "UNIT                                                                    982772 non-null object\n",
      "SCP                                                                     982772 non-null object\n",
      "STATION                                                                 982772 non-null object\n",
      "LINENAME                                                                982772 non-null object\n",
      "DIVISION                                                                982772 non-null object\n",
      "DATE                                                                    982772 non-null object\n",
      "TIME                                                                    982772 non-null object\n",
      "DESC                                                                    982772 non-null object\n",
      "ENTRIES                                                                 982772 non-null int64\n",
      "EXITS                                                                   982772 non-null int64\n",
      "dtypes: int64(2), object(9)\n",
      "memory usage: 90.0+ MB\n"
     ]
    }
   ],
   "source": [
    "import pandas as pd\n",
    "# list of .txt files to be read\n",
    "txt_docs_list = ['turnstile_160409.txt', 'turnstile_180310.txt', 'turnstile_180317.txt',\n",
    "                 'turnstile_180324.txt', 'turnstile_180331.txt', 'turnstile_180407.txt']\n",
    "\n",
    "# reading in the files\n",
    "df_list = []\n",
    "for each in range(5):\n",
    "    df_list.append(pd.read_csv(txt_docs_list[each]))\n",
    "\n",
    "# concatenating the DFs together as 'df'\n",
    "df = pd.concat(df_list)\n",
    "df.info()"
   ]
  },
  {
   "cell_type": "markdown",
   "metadata": {},
   "source": [
    "### clean up formatting of data\n",
    "- strip, astype, other???"
   ]
  },
  {
   "cell_type": "code",
   "execution_count": 148,
   "metadata": {},
   "outputs": [
    {
     "data": {
      "text/plain": [
       "Index(['C/A', 'UNIT', 'SCP', 'STATION', 'LINENAME', 'DIVISION', 'DATE', 'TIME',\n",
       "       'DESC', 'ENTRIES', 'EXITS'],\n",
       "      dtype='object')"
      ]
     },
     "execution_count": 148,
     "metadata": {},
     "output_type": "execute_result"
    }
   ],
   "source": [
    "# Strip column headings\n",
    "df.columns = df.columns.str.strip()\n",
    "df.columns"
   ]
  },
  {
   "cell_type": "markdown",
   "metadata": {},
   "source": [
    "### create 'turnstile' - unique column for counting entries / exits\n",
    " - could use groupby\n",
    " - could avoid groupby, then sort by dates, then build list for unique vals in each date...\n",
    " - could use groupby then .apply(list) to compress the values down into a list entry in a new column <-- Yes"
   ]
  },
  {
   "cell_type": "code",
   "execution_count": 149,
   "metadata": {},
   "outputs": [],
   "source": [
    "# Concat first four rows (rather than groupby) as unique ID for turnstile\n",
    "df['turnstile_id'] = df['C/A'] + '_' + df['UNIT'] + '_' + df['SCP'] + '_' + df['STATION']"
   ]
  },
  {
   "cell_type": "code",
   "execution_count": 150,
   "metadata": {},
   "outputs": [
    {
     "name": "stdout",
     "output_type": "stream",
     "text": [
      "<class 'pandas.core.frame.DataFrame'>\n",
      "Int64Index: 982772 entries, 0 to 196653\n",
      "Data columns (total 12 columns):\n",
      "C/A             982772 non-null category\n",
      "UNIT            982772 non-null category\n",
      "SCP             982772 non-null object\n",
      "STATION         982772 non-null object\n",
      "LINENAME        982772 non-null object\n",
      "DIVISION        982772 non-null category\n",
      "DATE            982772 non-null object\n",
      "TIME            982772 non-null object\n",
      "DESC            982772 non-null object\n",
      "ENTRIES         982772 non-null int32\n",
      "EXITS           982772 non-null int32\n",
      "turnstile_id    982772 non-null object\n",
      "dtypes: category(3), int32(2), object(7)\n",
      "memory usage: 72.2+ MB\n"
     ]
    }
   ],
   "source": [
    "# Convert data types to reduce file size\n",
    "df['C/A'] = df['C/A'].astype('category')\n",
    "df['DIVISION'] = df['DIVISION'].astype('category')\n",
    "df['UNIT'] = df['UNIT'].astype('category')\n",
    "df['ENTRIES'] = df['ENTRIES'].astype('int32')\n",
    "df['EXITS'] = df['EXITS'].astype('int32')\n",
    "df.info()"
   ]
  },
  {
   "cell_type": "markdown",
   "metadata": {},
   "source": [
    "## Datetime adjustments"
   ]
  },
  {
   "cell_type": "code",
   "execution_count": 151,
   "metadata": {
    "scrolled": false
   },
   "outputs": [],
   "source": [
    "# for later... https://stackoverflow.com/questions/24082784/pandas-dataframe-groupby-datetime-month\n",
    "# below datetime column yet unused... find here later.\n",
    "#df['datetime'] = df['DATE'] + ' ' + df['TIME']\n",
    "#df['datetime'] = pd.to_datetime(df['datetime'], format='%m/%d/%Y %H:%M:%S')\n",
    "df['date'] = pd.to_datetime(df['DATE'], format='%m/%d/%Y')\n",
    "#df.info() #confirm changes"
   ]
  },
  {
   "cell_type": "markdown",
   "metadata": {},
   "source": [
    "## Build list for each count within day (list range method)\n",
    "- will eventually need to break out for recorded interval, but start here\n",
    "- after recorded interval, build out on hourly basis"
   ]
  },
  {
   "cell_type": "code",
   "execution_count": 152,
   "metadata": {},
   "outputs": [],
   "source": [
    "# apply list of count recordings to values recorded within each day\n",
    "entries_list = list(df.groupby(['turnstile_id', 'date'])['ENTRIES'].apply(list))\n",
    "exits_list = list(df.groupby(['turnstile_id', 'date'])['EXITS'].apply(list))\n",
    "#len(entries_list)"
   ]
  },
  {
   "cell_type": "code",
   "execution_count": 153,
   "metadata": {},
   "outputs": [],
   "source": [
    "# below just to visualize\n",
    "#type(df.groupby(['turnstile', 'DATE'])['ENTRIES'].apply(list))"
   ]
  },
  {
   "cell_type": "markdown",
   "metadata": {},
   "source": [
    "## Build daily turnstile count (list range method)"
   ]
  },
  {
   "cell_type": "code",
   "execution_count": 154,
   "metadata": {
    "scrolled": true
   },
   "outputs": [],
   "source": [
    "# Use above lists ('entries_list' & 'exits_list') to generate single integer count value for each day\n",
    "# Count value will not necessarilly be accurate due to roll-over counts\n",
    "# Count value ALSO not accurate because if last measurement is 4 hours prior for subsequent day's first measurement,\n",
    "## we will lose that data.\n",
    "##### Below also could use custom aggregation (define function and use .agg(<function_name>) to get what we want)\n",
    "'''\n",
    "def entries_range(series):\n",
    "    return(series.max() - series.min())\n",
    "...then...\n",
    "XXXXXXXX.groupby().agg(entries_range(entries_list))\n",
    "'''\n",
    "entries_count = []\n",
    "for en in entries_list:\n",
    "    entries_count.append(en[-1] - en[0])\n",
    "\n",
    "exits_count = []\n",
    "for ex in exits_list:\n",
    "    exits_count.append(ex[-1] - ex[0])\n",
    "    \n",
    "#entries_count[:30000:300] # confirm it works...\n",
    "#print(len(entries_count)) # confirm length\n",
    "#print(len(exits_count))   # confirm length \n"
   ]
  },
  {
   "cell_type": "markdown",
   "metadata": {},
   "source": [
    "## Build DF of calculated turnstile counts and 'date'\n",
    "- Eliminated 'datetime' and original 'DATE' and 'TIME' columns here. For future reference..."
   ]
  },
  {
   "cell_type": "code",
   "execution_count": 155,
   "metadata": {
    "scrolled": true
   },
   "outputs": [
    {
     "data": {
      "text/html": [
       "<div>\n",
       "<style scoped>\n",
       "    .dataframe tbody tr th:only-of-type {\n",
       "        vertical-align: middle;\n",
       "    }\n",
       "\n",
       "    .dataframe tbody tr th {\n",
       "        vertical-align: top;\n",
       "    }\n",
       "\n",
       "    .dataframe thead th {\n",
       "        text-align: right;\n",
       "    }\n",
       "</style>\n",
       "<table border=\"1\" class=\"dataframe\">\n",
       "  <thead>\n",
       "    <tr style=\"text-align: right;\">\n",
       "      <th></th>\n",
       "      <th>turnstile_id</th>\n",
       "      <th>date</th>\n",
       "      <th>entries_list</th>\n",
       "      <th>exits_list</th>\n",
       "      <th>entries_count</th>\n",
       "      <th>exits_count</th>\n",
       "      <th>entries_exits</th>\n",
       "    </tr>\n",
       "  </thead>\n",
       "  <tbody>\n",
       "    <tr>\n",
       "      <th>0</th>\n",
       "      <td>A002_R051_02-00-00_59 ST</td>\n",
       "      <td>2016-04-02</td>\n",
       "      <td>[5600838, 5600863, 5600877, 5600922, 5601172, ...</td>\n",
       "      <td>[1896290, 1896293, 1896313, 1896375, 1896445, ...</td>\n",
       "      <td>646</td>\n",
       "      <td>234</td>\n",
       "      <td>880</td>\n",
       "    </tr>\n",
       "    <tr>\n",
       "      <th>1</th>\n",
       "      <td>A002_R051_02-00-00_59 ST</td>\n",
       "      <td>2016-04-03</td>\n",
       "      <td>[5601621, 5601638, 5601643, 5601722, 5601917, ...</td>\n",
       "      <td>[1896558, 1896566, 1896578, 1896648, 1896718, ...</td>\n",
       "      <td>529</td>\n",
       "      <td>211</td>\n",
       "      <td>740</td>\n",
       "    </tr>\n",
       "    <tr>\n",
       "      <th>2</th>\n",
       "      <td>A002_R051_02-00-00_59 ST</td>\n",
       "      <td>2016-04-04</td>\n",
       "      <td>[5602244, 5602256, 5602297, 5602326, 5602456, ...</td>\n",
       "      <td>[1896791, 1896793, 1896893, 1896945, 1897174, ...</td>\n",
       "      <td>1189</td>\n",
       "      <td>561</td>\n",
       "      <td>1750</td>\n",
       "    </tr>\n",
       "    <tr>\n",
       "      <th>3</th>\n",
       "      <td>A002_R051_02-00-00_59 ST</td>\n",
       "      <td>2016-04-05</td>\n",
       "      <td>[5603671, 5603729, 5603886, 5604169, 5604944]</td>\n",
       "      <td>[1897387, 1897497, 1897817, 1897905, 1898006]</td>\n",
       "      <td>1273</td>\n",
       "      <td>619</td>\n",
       "      <td>1892</td>\n",
       "    </tr>\n",
       "    <tr>\n",
       "      <th>4</th>\n",
       "      <td>A002_R051_02-00-00_59 ST</td>\n",
       "      <td>2016-04-06</td>\n",
       "      <td>[5605129, 5605137, 5605168, 5605278, 5605583, ...</td>\n",
       "      <td>[1898051, 1898054, 1898158, 1898357, 1898440, ...</td>\n",
       "      <td>1249</td>\n",
       "      <td>478</td>\n",
       "      <td>1727</td>\n",
       "    </tr>\n",
       "  </tbody>\n",
       "</table>\n",
       "</div>"
      ],
      "text/plain": [
       "               turnstile_id       date  \\\n",
       "0  A002_R051_02-00-00_59 ST 2016-04-02   \n",
       "1  A002_R051_02-00-00_59 ST 2016-04-03   \n",
       "2  A002_R051_02-00-00_59 ST 2016-04-04   \n",
       "3  A002_R051_02-00-00_59 ST 2016-04-05   \n",
       "4  A002_R051_02-00-00_59 ST 2016-04-06   \n",
       "\n",
       "                                        entries_list  \\\n",
       "0  [5600838, 5600863, 5600877, 5600922, 5601172, ...   \n",
       "1  [5601621, 5601638, 5601643, 5601722, 5601917, ...   \n",
       "2  [5602244, 5602256, 5602297, 5602326, 5602456, ...   \n",
       "3      [5603671, 5603729, 5603886, 5604169, 5604944]   \n",
       "4  [5605129, 5605137, 5605168, 5605278, 5605583, ...   \n",
       "\n",
       "                                          exits_list  entries_count  \\\n",
       "0  [1896290, 1896293, 1896313, 1896375, 1896445, ...            646   \n",
       "1  [1896558, 1896566, 1896578, 1896648, 1896718, ...            529   \n",
       "2  [1896791, 1896793, 1896893, 1896945, 1897174, ...           1189   \n",
       "3      [1897387, 1897497, 1897817, 1897905, 1898006]           1273   \n",
       "4  [1898051, 1898054, 1898158, 1898357, 1898440, ...           1249   \n",
       "\n",
       "   exits_count  entries_exits  \n",
       "0          234            880  \n",
       "1          211            740  \n",
       "2          561           1750  \n",
       "3          619           1892  \n",
       "4          478           1727  "
      ]
     },
     "execution_count": 155,
     "metadata": {},
     "output_type": "execute_result"
    }
   ],
   "source": [
    "# now build the appropriate df from original data ('unit')\n",
    "## separate df that returns only same # of rows as this series (basically agg'd by turnstile & DATE) (32,125 rows)\n",
    "\n",
    "df_turnstile_counts = df.groupby(['turnstile_id', 'date']).count()\n",
    "df_turnstile_counts.drop(['C/A', 'UNIT', 'SCP', 'STATION', 'LINENAME', 'DIVISION', 'TIME', 'DESC', 'ENTRIES', 'EXITS', 'DATE'], axis=1, inplace=True)\n",
    "df_turnstile_counts['entries_list'] = entries_list\n",
    "df_turnstile_counts['exits_list'] = exits_list\n",
    "df_turnstile_counts['entries_count'] = entries_count\n",
    "df_turnstile_counts['exits_count'] = exits_count\n",
    "df_turnstile_counts['entries_exits'] = df_turnstile_counts['entries_count'] + df_turnstile_counts['exits_count']\n",
    "df_turnstile_counts.reset_index(inplace=True)\n",
    "\n",
    "df_turnstile_counts.head()"
   ]
  },
  {
   "cell_type": "markdown",
   "metadata": {},
   "source": [
    "## Create 'station' column around which to aggregate/group/summarize\n",
    "- in order to: sum by station by week or month\n",
    "- in order to: sum by station then day of week"
   ]
  },
  {
   "cell_type": "code",
   "execution_count": 156,
   "metadata": {},
   "outputs": [
    {
     "name": "stdout",
     "output_type": "stream",
     "text": [
      "STATION NAME: 59 ST TURNSTILE NAME: A002_R051_02-00-00_59 ST\n",
      "STATION NAME: 28 ST TURNSTILE NAME: A027_R082_01-00-00_28 ST\n",
      "STATION NAME: CANAL ST TURNSTILE NAME: A046_R463_00-03-00_CANAL ST\n",
      "STATION NAME: WHITEHALL S-FRY TURNSTILE NAME: A060_R001_00-00-07_WHITEHALL S-FRY\n",
      "STATION NAME: CHURCH AV TURNSTILE NAME: B016_R098_00-00-00_CHURCH AV\n",
      "STATION NAME: SHEEPSHEAD BAY TURNSTILE NAME: B027_R136_00-00-01_SHEEPSHEAD BAY\n",
      "STATION NAME: PROSPECT AV TURNSTILE NAME: C014_R246_00-03-00_PROSPECT AV\n",
      "STATION NAME: 20 AV TURNSTILE NAME: D009_R393_00-00-02_20 AV\n",
      "STATION NAME: W 8 ST-AQUARIUM TURNSTILE NAME: G011_R312_00-00-03_W 8 ST-AQUARIUM\n",
      "STATION NAME: DEKALB AV TURNSTILE NAME: H023_R236_00-06-01_DEKALB AV\n"
     ]
    }
   ],
   "source": [
    "# Create 'station' by slicing from 'turnstile'\n",
    "df_turnstile_counts['station'] = df_turnstile_counts['turnstile_id'].str.slice(19)\n",
    "\n",
    "# below confirms it works\n",
    "for i in range(0,30000,3000):\n",
    "    print('STATION NAME: ' + df_turnstile_counts.station[i], 'TURNSTILE NAME: ' + df_turnstile_counts.turnstile_id[i])\n",
    "    "
   ]
  },
  {
   "cell_type": "code",
   "execution_count": 157,
   "metadata": {},
   "outputs": [
    {
     "data": {
      "text/html": [
       "<div>\n",
       "<style scoped>\n",
       "    .dataframe tbody tr th:only-of-type {\n",
       "        vertical-align: middle;\n",
       "    }\n",
       "\n",
       "    .dataframe tbody tr th {\n",
       "        vertical-align: top;\n",
       "    }\n",
       "\n",
       "    .dataframe thead th {\n",
       "        text-align: right;\n",
       "    }\n",
       "</style>\n",
       "<table border=\"1\" class=\"dataframe\">\n",
       "  <thead>\n",
       "    <tr style=\"text-align: right;\">\n",
       "      <th></th>\n",
       "      <th></th>\n",
       "      <th>entries_count</th>\n",
       "      <th>exits_count</th>\n",
       "      <th>entries_exits</th>\n",
       "    </tr>\n",
       "    <tr>\n",
       "      <th>station</th>\n",
       "      <th>date</th>\n",
       "      <th></th>\n",
       "      <th></th>\n",
       "      <th></th>\n",
       "    </tr>\n",
       "  </thead>\n",
       "  <tbody>\n",
       "    <tr>\n",
       "      <th rowspan=\"5\" valign=\"top\">1 AV</th>\n",
       "      <th>2016-04-02</th>\n",
       "      <td>15739</td>\n",
       "      <td>10625</td>\n",
       "      <td>26364</td>\n",
       "    </tr>\n",
       "    <tr>\n",
       "      <th>2016-04-03</th>\n",
       "      <td>12836</td>\n",
       "      <td>8962</td>\n",
       "      <td>21798</td>\n",
       "    </tr>\n",
       "    <tr>\n",
       "      <th>2016-04-04</th>\n",
       "      <td>19091</td>\n",
       "      <td>13968</td>\n",
       "      <td>33059</td>\n",
       "    </tr>\n",
       "    <tr>\n",
       "      <th>2016-04-05</th>\n",
       "      <td>18673</td>\n",
       "      <td>12222</td>\n",
       "      <td>30895</td>\n",
       "    </tr>\n",
       "    <tr>\n",
       "      <th>2016-04-06</th>\n",
       "      <td>21212</td>\n",
       "      <td>13427</td>\n",
       "      <td>34639</td>\n",
       "    </tr>\n",
       "  </tbody>\n",
       "</table>\n",
       "</div>"
      ],
      "text/plain": [
       "                    entries_count  exits_count  entries_exits\n",
       "station date                                                 \n",
       "1 AV    2016-04-02          15739        10625          26364\n",
       "        2016-04-03          12836         8962          21798\n",
       "        2016-04-04          19091        13968          33059\n",
       "        2016-04-05          18673        12222          30895\n",
       "        2016-04-06          21212        13427          34639"
      ]
     },
     "execution_count": 157,
     "metadata": {},
     "output_type": "execute_result"
    }
   ],
   "source": [
    "# totals by station (but this is TOTALLLLLS of all data. Need to sum by week or day. \n",
    "# Thus, need datetime to define corresponding days of weeks\n",
    "df_station_sum = df_turnstile_counts.groupby(['station', 'date'])[['entries_count','exits_count', 'entries_exits']].sum()\n",
    "df_station_sum.head()"
   ]
  },
  {
   "cell_type": "markdown",
   "metadata": {},
   "source": [
    "Why would above totals per day per station have much, if any, difference between entries and exits?"
   ]
  },
  {
   "cell_type": "markdown",
   "metadata": {},
   "source": [
    "## Build daily turnstile count list (incorporating class's shift method)"
   ]
  },
  {
   "cell_type": "code",
   "execution_count": 158,
   "metadata": {},
   "outputs": [],
   "source": [
    "#df_turnstile_counts.entries_list[0][0]"
   ]
  },
  {
   "cell_type": "code",
   "execution_count": 159,
   "metadata": {},
   "outputs": [],
   "source": [
    "# Class shift process for getting the daily entries/exits\n",
    "#turnstiles_daily = turnstiles_df.groupby([\"C/A\", \"UNIT\", \"SCP\", \"STATION\", \"DATE\"]).ENTRIES.first().reset_index()\n",
    "\n",
    "'''\n",
    "        for x in df.entries_list:\n",
    "    df3_first_entry_list = x\n",
    "'''\n",
    "df_turnstile_counts['first_entry'] = [x[0] for x in df_turnstile_counts.entries_list]\n",
    "df_turnstile_counts['first_exit'] = [x[0] for x in df_turnstile_counts.exits_list]\n",
    "#df_turnstile_counts.first_entry[2000]  # confirming it works"
   ]
  },
  {
   "cell_type": "code",
   "execution_count": 160,
   "metadata": {},
   "outputs": [],
   "source": [
    "# Class shift process cont'd...\n",
    "#turnstiles_daily[[\"PREV_DATE\", \"PREV_ENTRIES\"]] = (turnstiles_daily\n",
    "                                                       #.groupby([\"C/A\", \"UNIT\", \"SCP\", \"STATION\"])[\"DATE\", \"ENTRIES\"]\n",
    "                                                       #.transform(lambda grp: grp.shift(1)))\n",
    "df_turnstile_counts[[\"PREV_DATE\", \"PREV_ENTRIES\"]] = (df_turnstile_counts\n",
    "                                                       .groupby('turnstile_id')['date', 'first_entry']\n",
    "                                                       .transform(lambda grp: grp.shift(1)))\n",
    "df_turnstile_counts['PREV_EXITS'] = (df_turnstile_counts\n",
    "                                                       .groupby('turnstile_id')['first_exit']\n",
    "                                                       .transform(lambda grp: grp.shift(1)))"
   ]
  },
  {
   "cell_type": "code",
   "execution_count": 161,
   "metadata": {},
   "outputs": [
    {
     "data": {
      "text/html": [
       "<div>\n",
       "<style scoped>\n",
       "    .dataframe tbody tr th:only-of-type {\n",
       "        vertical-align: middle;\n",
       "    }\n",
       "\n",
       "    .dataframe tbody tr th {\n",
       "        vertical-align: top;\n",
       "    }\n",
       "\n",
       "    .dataframe thead th {\n",
       "        text-align: right;\n",
       "    }\n",
       "</style>\n",
       "<table border=\"1\" class=\"dataframe\">\n",
       "  <thead>\n",
       "    <tr style=\"text-align: right;\">\n",
       "      <th></th>\n",
       "      <th>turnstile_id</th>\n",
       "      <th>date</th>\n",
       "      <th>entries_list</th>\n",
       "      <th>exits_list</th>\n",
       "      <th>entries_count</th>\n",
       "      <th>exits_count</th>\n",
       "      <th>entries_exits</th>\n",
       "      <th>station</th>\n",
       "      <th>first_entry</th>\n",
       "      <th>first_exit</th>\n",
       "      <th>PREV_DATE</th>\n",
       "      <th>PREV_ENTRIES</th>\n",
       "      <th>PREV_EXITS</th>\n",
       "      <th>shift_entries</th>\n",
       "      <th>shift_exits</th>\n",
       "    </tr>\n",
       "  </thead>\n",
       "  <tbody>\n",
       "    <tr>\n",
       "      <th>1</th>\n",
       "      <td>A002_R051_02-00-00_59 ST</td>\n",
       "      <td>2016-04-03</td>\n",
       "      <td>[5601621, 5601638, 5601643, 5601722, 5601917, ...</td>\n",
       "      <td>[1896558, 1896566, 1896578, 1896648, 1896718, ...</td>\n",
       "      <td>529</td>\n",
       "      <td>211</td>\n",
       "      <td>740</td>\n",
       "      <td>59 ST</td>\n",
       "      <td>5601621</td>\n",
       "      <td>1896558</td>\n",
       "      <td>2016-04-02</td>\n",
       "      <td>5600838.0</td>\n",
       "      <td>1896290.0</td>\n",
       "      <td>783.0</td>\n",
       "      <td>268.0</td>\n",
       "    </tr>\n",
       "    <tr>\n",
       "      <th>2</th>\n",
       "      <td>A002_R051_02-00-00_59 ST</td>\n",
       "      <td>2016-04-04</td>\n",
       "      <td>[5602244, 5602256, 5602297, 5602326, 5602456, ...</td>\n",
       "      <td>[1896791, 1896793, 1896893, 1896945, 1897174, ...</td>\n",
       "      <td>1189</td>\n",
       "      <td>561</td>\n",
       "      <td>1750</td>\n",
       "      <td>59 ST</td>\n",
       "      <td>5602244</td>\n",
       "      <td>1896791</td>\n",
       "      <td>2016-04-03</td>\n",
       "      <td>5601621.0</td>\n",
       "      <td>1896558.0</td>\n",
       "      <td>623.0</td>\n",
       "      <td>233.0</td>\n",
       "    </tr>\n",
       "    <tr>\n",
       "      <th>3</th>\n",
       "      <td>A002_R051_02-00-00_59 ST</td>\n",
       "      <td>2016-04-05</td>\n",
       "      <td>[5603671, 5603729, 5603886, 5604169, 5604944]</td>\n",
       "      <td>[1897387, 1897497, 1897817, 1897905, 1898006]</td>\n",
       "      <td>1273</td>\n",
       "      <td>619</td>\n",
       "      <td>1892</td>\n",
       "      <td>59 ST</td>\n",
       "      <td>5603671</td>\n",
       "      <td>1897387</td>\n",
       "      <td>2016-04-04</td>\n",
       "      <td>5602244.0</td>\n",
       "      <td>1896791.0</td>\n",
       "      <td>1427.0</td>\n",
       "      <td>596.0</td>\n",
       "    </tr>\n",
       "    <tr>\n",
       "      <th>4</th>\n",
       "      <td>A002_R051_02-00-00_59 ST</td>\n",
       "      <td>2016-04-06</td>\n",
       "      <td>[5605129, 5605137, 5605168, 5605278, 5605583, ...</td>\n",
       "      <td>[1898051, 1898054, 1898158, 1898357, 1898440, ...</td>\n",
       "      <td>1249</td>\n",
       "      <td>478</td>\n",
       "      <td>1727</td>\n",
       "      <td>59 ST</td>\n",
       "      <td>5605129</td>\n",
       "      <td>1898051</td>\n",
       "      <td>2016-04-05</td>\n",
       "      <td>5603671.0</td>\n",
       "      <td>1897387.0</td>\n",
       "      <td>1458.0</td>\n",
       "      <td>664.0</td>\n",
       "    </tr>\n",
       "    <tr>\n",
       "      <th>5</th>\n",
       "      <td>A002_R051_02-00-00_59 ST</td>\n",
       "      <td>2016-04-07</td>\n",
       "      <td>[5606603, 5606619, 5606656, 5606803, 5607108, ...</td>\n",
       "      <td>[1898562, 1898565, 1898680, 1898963, 1899032, ...</td>\n",
       "      <td>1265</td>\n",
       "      <td>583</td>\n",
       "      <td>1848</td>\n",
       "      <td>59 ST</td>\n",
       "      <td>5606603</td>\n",
       "      <td>1898562</td>\n",
       "      <td>2016-04-06</td>\n",
       "      <td>5605129.0</td>\n",
       "      <td>1898051.0</td>\n",
       "      <td>1474.0</td>\n",
       "      <td>511.0</td>\n",
       "    </tr>\n",
       "  </tbody>\n",
       "</table>\n",
       "</div>"
      ],
      "text/plain": [
       "               turnstile_id       date  \\\n",
       "1  A002_R051_02-00-00_59 ST 2016-04-03   \n",
       "2  A002_R051_02-00-00_59 ST 2016-04-04   \n",
       "3  A002_R051_02-00-00_59 ST 2016-04-05   \n",
       "4  A002_R051_02-00-00_59 ST 2016-04-06   \n",
       "5  A002_R051_02-00-00_59 ST 2016-04-07   \n",
       "\n",
       "                                        entries_list  \\\n",
       "1  [5601621, 5601638, 5601643, 5601722, 5601917, ...   \n",
       "2  [5602244, 5602256, 5602297, 5602326, 5602456, ...   \n",
       "3      [5603671, 5603729, 5603886, 5604169, 5604944]   \n",
       "4  [5605129, 5605137, 5605168, 5605278, 5605583, ...   \n",
       "5  [5606603, 5606619, 5606656, 5606803, 5607108, ...   \n",
       "\n",
       "                                          exits_list  entries_count  \\\n",
       "1  [1896558, 1896566, 1896578, 1896648, 1896718, ...            529   \n",
       "2  [1896791, 1896793, 1896893, 1896945, 1897174, ...           1189   \n",
       "3      [1897387, 1897497, 1897817, 1897905, 1898006]           1273   \n",
       "4  [1898051, 1898054, 1898158, 1898357, 1898440, ...           1249   \n",
       "5  [1898562, 1898565, 1898680, 1898963, 1899032, ...           1265   \n",
       "\n",
       "   exits_count  entries_exits station  first_entry  first_exit  PREV_DATE  \\\n",
       "1          211            740   59 ST      5601621     1896558 2016-04-02   \n",
       "2          561           1750   59 ST      5602244     1896791 2016-04-03   \n",
       "3          619           1892   59 ST      5603671     1897387 2016-04-04   \n",
       "4          478           1727   59 ST      5605129     1898051 2016-04-05   \n",
       "5          583           1848   59 ST      5606603     1898562 2016-04-06   \n",
       "\n",
       "   PREV_ENTRIES  PREV_EXITS  shift_entries  shift_exits  \n",
       "1     5600838.0   1896290.0          783.0        268.0  \n",
       "2     5601621.0   1896558.0          623.0        233.0  \n",
       "3     5602244.0   1896791.0         1427.0        596.0  \n",
       "4     5603671.0   1897387.0         1458.0        664.0  \n",
       "5     5605129.0   1898051.0         1474.0        511.0  "
      ]
     },
     "execution_count": 161,
     "metadata": {},
     "output_type": "execute_result"
    }
   ],
   "source": [
    "# Drop the NaN rows for last date\n",
    "df_turnstile_counts.dropna(subset=[\"PREV_DATE\"], axis=0, inplace=True)\n",
    "\n",
    "# summarize \n",
    "df_turnstile_counts['shift_entries'] = df_turnstile_counts['first_entry'] - df_turnstile_counts['PREV_ENTRIES']\n",
    "df_turnstile_counts['shift_exits'] = df_turnstile_counts['first_exit'] - df_turnstile_counts['PREV_EXITS']\n",
    "df_turnstile_counts.head()"
   ]
  },
  {
   "cell_type": "markdown",
   "metadata": {},
   "source": [
    "## Final DFs summarized by Turnstile and by Station\n",
    "#### Keep in mind the following:\n",
    "- 'date' column type = datetime\n",
    "- 'entries_count' and 'exits_count' are based on Jonathan's list range method\n",
    "- 'shift_entries' and 'shift_exits' are based on the shift method presented in class"
   ]
  },
  {
   "cell_type": "markdown",
   "metadata": {},
   "source": [
    "### Turnstile Summary"
   ]
  },
  {
   "cell_type": "code",
   "execution_count": 162,
   "metadata": {},
   "outputs": [
    {
     "data": {
      "text/html": [
       "<div>\n",
       "<style scoped>\n",
       "    .dataframe tbody tr th:only-of-type {\n",
       "        vertical-align: middle;\n",
       "    }\n",
       "\n",
       "    .dataframe tbody tr th {\n",
       "        vertical-align: top;\n",
       "    }\n",
       "\n",
       "    .dataframe thead th {\n",
       "        text-align: right;\n",
       "    }\n",
       "</style>\n",
       "<table border=\"1\" class=\"dataframe\">\n",
       "  <thead>\n",
       "    <tr style=\"text-align: right;\">\n",
       "      <th></th>\n",
       "      <th>turnstile_id</th>\n",
       "      <th>date</th>\n",
       "      <th>entries_count</th>\n",
       "      <th>exits_count</th>\n",
       "      <th>entries_exits</th>\n",
       "      <th>station</th>\n",
       "      <th>PREV_DATE</th>\n",
       "      <th>shift_entries</th>\n",
       "      <th>shift_exits</th>\n",
       "    </tr>\n",
       "  </thead>\n",
       "  <tbody>\n",
       "    <tr>\n",
       "      <th>1</th>\n",
       "      <td>A002_R051_02-00-00_59 ST</td>\n",
       "      <td>2016-04-03</td>\n",
       "      <td>529</td>\n",
       "      <td>211</td>\n",
       "      <td>740</td>\n",
       "      <td>59 ST</td>\n",
       "      <td>2016-04-02</td>\n",
       "      <td>783.0</td>\n",
       "      <td>268.0</td>\n",
       "    </tr>\n",
       "    <tr>\n",
       "      <th>2</th>\n",
       "      <td>A002_R051_02-00-00_59 ST</td>\n",
       "      <td>2016-04-04</td>\n",
       "      <td>1189</td>\n",
       "      <td>561</td>\n",
       "      <td>1750</td>\n",
       "      <td>59 ST</td>\n",
       "      <td>2016-04-03</td>\n",
       "      <td>623.0</td>\n",
       "      <td>233.0</td>\n",
       "    </tr>\n",
       "    <tr>\n",
       "      <th>3</th>\n",
       "      <td>A002_R051_02-00-00_59 ST</td>\n",
       "      <td>2016-04-05</td>\n",
       "      <td>1273</td>\n",
       "      <td>619</td>\n",
       "      <td>1892</td>\n",
       "      <td>59 ST</td>\n",
       "      <td>2016-04-04</td>\n",
       "      <td>1427.0</td>\n",
       "      <td>596.0</td>\n",
       "    </tr>\n",
       "    <tr>\n",
       "      <th>4</th>\n",
       "      <td>A002_R051_02-00-00_59 ST</td>\n",
       "      <td>2016-04-06</td>\n",
       "      <td>1249</td>\n",
       "      <td>478</td>\n",
       "      <td>1727</td>\n",
       "      <td>59 ST</td>\n",
       "      <td>2016-04-05</td>\n",
       "      <td>1458.0</td>\n",
       "      <td>664.0</td>\n",
       "    </tr>\n",
       "    <tr>\n",
       "      <th>5</th>\n",
       "      <td>A002_R051_02-00-00_59 ST</td>\n",
       "      <td>2016-04-07</td>\n",
       "      <td>1265</td>\n",
       "      <td>583</td>\n",
       "      <td>1848</td>\n",
       "      <td>59 ST</td>\n",
       "      <td>2016-04-06</td>\n",
       "      <td>1474.0</td>\n",
       "      <td>511.0</td>\n",
       "    </tr>\n",
       "  </tbody>\n",
       "</table>\n",
       "</div>"
      ],
      "text/plain": [
       "               turnstile_id       date  entries_count  exits_count  \\\n",
       "1  A002_R051_02-00-00_59 ST 2016-04-03            529          211   \n",
       "2  A002_R051_02-00-00_59 ST 2016-04-04           1189          561   \n",
       "3  A002_R051_02-00-00_59 ST 2016-04-05           1273          619   \n",
       "4  A002_R051_02-00-00_59 ST 2016-04-06           1249          478   \n",
       "5  A002_R051_02-00-00_59 ST 2016-04-07           1265          583   \n",
       "\n",
       "   entries_exits station  PREV_DATE  shift_entries  shift_exits  \n",
       "1            740   59 ST 2016-04-02          783.0        268.0  \n",
       "2           1750   59 ST 2016-04-03          623.0        233.0  \n",
       "3           1892   59 ST 2016-04-04         1427.0        596.0  \n",
       "4           1727   59 ST 2016-04-05         1458.0        664.0  \n",
       "5           1848   59 ST 2016-04-06         1474.0        511.0  "
      ]
     },
     "execution_count": 162,
     "metadata": {},
     "output_type": "execute_result"
    }
   ],
   "source": [
    "turnstile_df = df_turnstile_counts.drop(['entries_list', 'exits_list', 'first_entry', 'first_exit', 'PREV_ENTRIES', 'PREV_EXITS'], axis=1)\n",
    "turnstile_df.head()"
   ]
  },
  {
   "cell_type": "markdown",
   "metadata": {},
   "source": [
    "### Station Summary"
   ]
  },
  {
   "cell_type": "code",
   "execution_count": 163,
   "metadata": {},
   "outputs": [
    {
     "data": {
      "text/html": [
       "<div>\n",
       "<style scoped>\n",
       "    .dataframe tbody tr th:only-of-type {\n",
       "        vertical-align: middle;\n",
       "    }\n",
       "\n",
       "    .dataframe tbody tr th {\n",
       "        vertical-align: top;\n",
       "    }\n",
       "\n",
       "    .dataframe thead th {\n",
       "        text-align: right;\n",
       "    }\n",
       "</style>\n",
       "<table border=\"1\" class=\"dataframe\">\n",
       "  <thead>\n",
       "    <tr style=\"text-align: right;\">\n",
       "      <th></th>\n",
       "      <th>station</th>\n",
       "      <th>date</th>\n",
       "      <th>entries_count</th>\n",
       "      <th>exits_count</th>\n",
       "      <th>entries_exits</th>\n",
       "      <th>shift_entries</th>\n",
       "      <th>shift_exits</th>\n",
       "    </tr>\n",
       "  </thead>\n",
       "  <tbody>\n",
       "    <tr>\n",
       "      <th>0</th>\n",
       "      <td>1 AV</td>\n",
       "      <td>2016-04-03</td>\n",
       "      <td>12836</td>\n",
       "      <td>8962</td>\n",
       "      <td>21798</td>\n",
       "      <td>20472.0</td>\n",
       "      <td>13691.0</td>\n",
       "    </tr>\n",
       "    <tr>\n",
       "      <th>1</th>\n",
       "      <td>1 AV</td>\n",
       "      <td>2016-04-04</td>\n",
       "      <td>19091</td>\n",
       "      <td>13968</td>\n",
       "      <td>33059</td>\n",
       "      <td>15547.0</td>\n",
       "      <td>10470.0</td>\n",
       "    </tr>\n",
       "    <tr>\n",
       "      <th>2</th>\n",
       "      <td>1 AV</td>\n",
       "      <td>2016-04-05</td>\n",
       "      <td>18673</td>\n",
       "      <td>12222</td>\n",
       "      <td>30895</td>\n",
       "      <td>22231.0</td>\n",
       "      <td>15732.0</td>\n",
       "    </tr>\n",
       "    <tr>\n",
       "      <th>3</th>\n",
       "      <td>1 AV</td>\n",
       "      <td>2016-04-06</td>\n",
       "      <td>21212</td>\n",
       "      <td>13427</td>\n",
       "      <td>34639</td>\n",
       "      <td>22369.0</td>\n",
       "      <td>14272.0</td>\n",
       "    </tr>\n",
       "    <tr>\n",
       "      <th>4</th>\n",
       "      <td>1 AV</td>\n",
       "      <td>2016-04-07</td>\n",
       "      <td>20852</td>\n",
       "      <td>13336</td>\n",
       "      <td>34188</td>\n",
       "      <td>25382.0</td>\n",
       "      <td>15420.0</td>\n",
       "    </tr>\n",
       "  </tbody>\n",
       "</table>\n",
       "</div>"
      ],
      "text/plain": [
       "  station       date  entries_count  exits_count  entries_exits  \\\n",
       "0    1 AV 2016-04-03          12836         8962          21798   \n",
       "1    1 AV 2016-04-04          19091        13968          33059   \n",
       "2    1 AV 2016-04-05          18673        12222          30895   \n",
       "3    1 AV 2016-04-06          21212        13427          34639   \n",
       "4    1 AV 2016-04-07          20852        13336          34188   \n",
       "\n",
       "   shift_entries  shift_exits  \n",
       "0        20472.0      13691.0  \n",
       "1        15547.0      10470.0  \n",
       "2        22231.0      15732.0  \n",
       "3        22369.0      14272.0  \n",
       "4        25382.0      15420.0  "
      ]
     },
     "execution_count": 163,
     "metadata": {},
     "output_type": "execute_result"
    }
   ],
   "source": [
    "turnstile_df['station'] = turnstile_df['turnstile_id'].str.slice(19)\n",
    "station_df = turnstile_df.groupby(['station', 'date'])[['entries_count','exits_count', 'entries_exits', 'shift_entries', 'shift_exits']].sum()\n",
    "station_df.reset_index(inplace=True)\n",
    "station_df.head()"
   ]
  },
  {
   "cell_type": "markdown",
   "metadata": {},
   "source": [
    "# 2. Start the EDA & Plotting/Visualizing\n",
    "#### How to confirm the counts are correct???\n",
    "- option 1: eliminate row if list contains a 0 or counts through zero\n",
    "- option 2: eliminate row if returns (-) value\n",
    "- option 3: determine max count for the counters and look for values approaching max, this also requires confirming that max count is same across all turnstiles)\n",
    "- option 4: identify the 'reset' value / max count within the list and work with it\n",
    "- option 5: ...?"
   ]
  },
  {
   "cell_type": "code",
   "execution_count": 164,
   "metadata": {},
   "outputs": [
    {
     "name": "stdout",
     "output_type": "stream",
     "text": [
      "mean: 7330.709254139431\n",
      "median: 733.0\n",
      "std: 7489070.755480573\n"
     ]
    },
    {
     "data": {
      "image/png": "[encoded data removed]",
      "text/plain": [
       "<matplotlib.figure.Figure at 0x10ca3a860>"
      ]
     },
     "metadata": {},
     "output_type": "display_data"
    }
   ],
   "source": [
    "import numpy as np\n",
    "import matplotlib.pyplot as plt\n",
    "from collections import defaultdict\n",
    "%matplotlib inline\n",
    "\n",
    "print('mean: ' + str(np.mean(entries_count)))\n",
    "print('median: ' + str(np.median(entries_count)))\n",
    "print('std: ' + str(np.std(entries_count)))\n",
    "\n",
    "#below doesn't quite work, but keeping it close for reference...\n",
    "'''\n",
    "entries_dict = defaultdict(int)\n",
    "for k in entries_count:\n",
    "    entries_dict[k] += 1\n",
    "\n",
    "    \n",
    "pos = np.arange(len(entries_dict.keys()))\n",
    "width = 1.0     # gives histogram aspect to the bar diagram\n",
    "\n",
    "ax = plt.axes()\n",
    "ax.set_xticks(pos + (width / 2))\n",
    "ax.set_xticklabels(entries_dict.keys())\n",
    "    \n",
    "plt.bar(list(entries_dict.keys()), entries_dict.values())\n",
    "plt.show()\n",
    "'''\n",
    "\n",
    "plt.hist(entries_count)\n",
    "plt.show()"
   ]
  }
 ],
 "metadata": {
  "kernelspec": {
   "display_name": "Python 3",
   "language": "python",
   "name": "python3"
  },
  "language_info": {
   "codemirror_mode": {
    "name": "ipython",
    "version": 3
   },
   "file_extension": ".py",
   "mimetype": "text/x-python",
   "name": "python",
   "nbconvert_exporter": "python",
   "pygments_lexer": "ipython3",
   "version": "3.6.4"
  }
 },
 "nbformat": 4,
 "nbformat_minor": 2
}
