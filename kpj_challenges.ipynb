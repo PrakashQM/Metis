{
 "cells": [
  {
   "cell_type": "markdown",
   "metadata": {},
   "source": [
    "## Notes, resources, other..."
   ]
  },
  {
   "cell_type": "code",
   "execution_count": 8,
   "metadata": {},
   "outputs": [
    {
     "data": {
      "text/plain": [
       "\"\\nhttps://stackoverflow.com/questions/22219004/grouping-rows-in-list-in-pandas-groupby\\n\\n# below creates unique set of keys comprised of first 4 columns (C/A, STATION, UNIT, etc.)\\nnew_set = set(zip(df['C/A'], df['UNIT'], df['SCP'], df['STATION']))\\n\\n# below works as an initial groupby consolidation\\ndf.groupby(['C/A', 'UNIT', 'SCP', 'STATION', 'DATE']).count()\\n\""
      ]
     },
     "execution_count": 8,
     "metadata": {},
     "output_type": "execute_result"
    }
   ],
   "source": [
    "'''\n",
    "https://stackoverflow.com/questions/22219004/grouping-rows-in-list-in-pandas-groupby\n",
    "\n",
    "# below creates unique set of keys comprised of first 4 columns (C/A, STATION, UNIT, etc.)\n",
    "new_set = set(zip(df['C/A'], df['UNIT'], df['SCP'], df['STATION']))\n",
    "\n",
    "# below works as an initial groupby consolidation\n",
    "df.groupby(['C/A', 'UNIT', 'SCP', 'STATION', 'DATE']).count()\n",
    "'''"
   ]
  },
  {
   "cell_type": "markdown",
   "metadata": {},
   "source": [
    "#### Read files into df"
   ]
  },
  {
   "cell_type": "code",
   "execution_count": 9,
   "metadata": {
    "scrolled": false
   },
   "outputs": [
    {
     "name": "stdout",
     "output_type": "stream",
     "text": [
      "<class 'pandas.core.frame.DataFrame'>\n",
      "RangeIndex: 194516 entries, 0 to 194515\n",
      "Data columns (total 11 columns):\n",
      "C/A                                                                     194516 non-null object\n",
      "UNIT                                                                    194516 non-null object\n",
      "SCP                                                                     194516 non-null object\n",
      "STATION                                                                 194516 non-null object\n",
      "LINENAME                                                                194516 non-null object\n",
      "DIVISION                                                                194516 non-null object\n",
      "DATE                                                                    194516 non-null object\n",
      "TIME                                                                    194516 non-null object\n",
      "DESC                                                                    194516 non-null object\n",
      "ENTRIES                                                                 194516 non-null int64\n",
      "EXITS                                                                   194516 non-null int64\n",
      "dtypes: int64(2), object(9)\n",
      "memory usage: 16.3+ MB\n"
     ]
    }
   ],
   "source": [
    "import pandas as pd\n",
    "txt_docs_list = ['turnstile_160409.txt', 'turnstile_180310.txt', 'turnstile_180317.txt',\n",
    "                 'turnstile_180324.txt', 'turnstile_180331.txt', 'turnstile_180407.txt']\n",
    "\n",
    "df_list = []\n",
    "for each in range(1):\n",
    "    df_list.append(pd.read_csv(txt_docs_list[each]))\n",
    "    \n",
    "df = pd.concat(df_list)\n",
    "df.info()"
   ]
  },
  {
   "cell_type": "markdown",
   "metadata": {},
   "source": [
    "#### clean up formatting of data\n",
    "- strip, astype, other???"
   ]
  },
  {
   "cell_type": "code",
   "execution_count": 10,
   "metadata": {},
   "outputs": [
    {
     "data": {
      "text/plain": [
       "Index(['C/A', 'UNIT', 'SCP', 'STATION', 'LINENAME', 'DIVISION', 'DATE', 'TIME',\n",
       "       'DESC', 'ENTRIES', 'EXITS'],\n",
       "      dtype='object')"
      ]
     },
     "execution_count": 10,
     "metadata": {},
     "output_type": "execute_result"
    }
   ],
   "source": [
    "# Strip column headings\n",
    "df.columns = df.columns.str.strip()\n",
    "df.columns"
   ]
  },
  {
   "cell_type": "markdown",
   "metadata": {},
   "source": [
    "#### create 'turnstile' - unique column for counting entries / exits\n",
    " - could use groupby\n",
    " - could avoid groupby, then sort by dates, then build list for unique vals in each date...\n",
    " - could use groupby then .apply(list) to compress the values down into a list entry in a new column <-- Yes"
   ]
  },
  {
   "cell_type": "code",
   "execution_count": 11,
   "metadata": {},
   "outputs": [
    {
     "name": "stdout",
     "output_type": "stream",
     "text": [
      "<class 'pandas.core.frame.DataFrame'>\n",
      "RangeIndex: 194516 entries, 0 to 194515\n",
      "Data columns (total 12 columns):\n",
      "C/A          194516 non-null object\n",
      "UNIT         194516 non-null object\n",
      "SCP          194516 non-null object\n",
      "STATION      194516 non-null object\n",
      "LINENAME     194516 non-null object\n",
      "DIVISION     194516 non-null object\n",
      "DATE         194516 non-null object\n",
      "TIME         194516 non-null object\n",
      "DESC         194516 non-null object\n",
      "ENTRIES      194516 non-null int64\n",
      "EXITS        194516 non-null int64\n",
      "turnstile    194516 non-null object\n",
      "dtypes: int64(2), object(10)\n",
      "memory usage: 17.8+ MB\n"
     ]
    }
   ],
   "source": [
    "df['turnstile'] = df['C/A'] + '_' + df['UNIT'] + '_' + df['SCP'] + '_' + df['STATION']\n",
    "df.info()"
   ]
  },
  {
   "cell_type": "code",
   "execution_count": 12,
   "metadata": {},
   "outputs": [
    {
     "name": "stdout",
     "output_type": "stream",
     "text": [
      "<class 'pandas.core.frame.DataFrame'>\n",
      "RangeIndex: 194516 entries, 0 to 194515\n",
      "Data columns (total 12 columns):\n",
      "C/A          194516 non-null category\n",
      "UNIT         194516 non-null category\n",
      "SCP          194516 non-null object\n",
      "STATION      194516 non-null object\n",
      "LINENAME     194516 non-null object\n",
      "DIVISION     194516 non-null category\n",
      "DATE         194516 non-null object\n",
      "TIME         194516 non-null object\n",
      "DESC         194516 non-null object\n",
      "ENTRIES      194516 non-null int64\n",
      "EXITS        194516 non-null int64\n",
      "turnstile    194516 non-null object\n",
      "dtypes: category(3), int64(2), object(7)\n",
      "memory usage: 14.3+ MB\n"
     ]
    }
   ],
   "source": [
    "# Convert data types to reduce file size\n",
    "df['C/A'] = df['C/A'].astype('category')\n",
    "df['DIVISION'] = df['DIVISION'].astype('category')\n",
    "df['UNIT'] = df['UNIT'].astype('category')\n",
    "df.info()"
   ]
  },
  {
   "cell_type": "markdown",
   "metadata": {},
   "source": [
    "#### create datetime formatted column from 'DATE' and 'TIME'"
   ]
  },
  {
   "cell_type": "code",
   "execution_count": 13,
   "metadata": {
    "scrolled": false
   },
   "outputs": [
    {
     "name": "stdout",
     "output_type": "stream",
     "text": [
      "<class 'pandas.core.frame.DataFrame'>\n",
      "RangeIndex: 194516 entries, 0 to 194515\n",
      "Data columns (total 13 columns):\n",
      "C/A          194516 non-null category\n",
      "UNIT         194516 non-null category\n",
      "SCP          194516 non-null object\n",
      "STATION      194516 non-null object\n",
      "LINENAME     194516 non-null object\n",
      "DIVISION     194516 non-null category\n",
      "DATE         194516 non-null object\n",
      "TIME         194516 non-null object\n",
      "DESC         194516 non-null object\n",
      "ENTRIES      194516 non-null int64\n",
      "EXITS        194516 non-null int64\n",
      "turnstile    194516 non-null object\n",
      "datetime     194516 non-null datetime64[ns]\n",
      "dtypes: category(3), datetime64[ns](1), int64(2), object(7)\n",
      "memory usage: 15.8+ MB\n"
     ]
    }
   ],
   "source": [
    "df['datetime'] = df['DATE'] + ' ' + df['TIME']\n",
    "df['datetime'] = pd.to_datetime(df['datetime'])\n",
    "df.info()"
   ]
  },
  {
   "cell_type": "markdown",
   "metadata": {},
   "source": [
    "### Build list for each count within day.\n",
    "- will eventually need to break out for recorded interval, but start here\n",
    "- after recorded interval, build out on hourly basis"
   ]
  },
  {
   "cell_type": "code",
   "execution_count": 14,
   "metadata": {
    "scrolled": true
   },
   "outputs": [],
   "source": [
    "#df2 = df.groupby(['turnstile', 'DATE'])['ENTRIES'].apply(list)\n",
    "#df2"
   ]
  },
  {
   "cell_type": "code",
   "execution_count": 15,
   "metadata": {},
   "outputs": [
    {
     "data": {
      "text/plain": [
       "32125"
      ]
     },
     "execution_count": 15,
     "metadata": {},
     "output_type": "execute_result"
    }
   ],
   "source": [
    "# apply list of count recordings to values recorded within each day\n",
    "entries_list = list(df.groupby(['turnstile', 'DATE'])['ENTRIES'].apply(list))\n",
    "exits_list = list(df.groupby(['turnstile', 'DATE'])['EXITS'].apply(list))\n",
    "len(entries_list)"
   ]
  },
  {
   "cell_type": "code",
   "execution_count": 17,
   "metadata": {
    "scrolled": true
   },
   "outputs": [
    {
     "data": {
      "text/plain": [
       "[646,\n",
       " 1418,\n",
       " 1487,\n",
       " 2681,\n",
       " 906,\n",
       " 372,\n",
       " 257,\n",
       " 14,\n",
       " 1924,\n",
       " 1055,\n",
       " 1448,\n",
       " 1348,\n",
       " 1576,\n",
       " 336,\n",
       " 670,\n",
       " 2401,\n",
       " 1820,\n",
       " 2451,\n",
       " 917,\n",
       " 1789,\n",
       " 389,\n",
       " 249,\n",
       " 1178,\n",
       " 2,\n",
       " 482,\n",
       " 35,\n",
       " 3577,\n",
       " 999,\n",
       " 1816,\n",
       " 474,\n",
       " 1339,\n",
       " 1629,\n",
       " 3461,\n",
       " 1630,\n",
       " 0,\n",
       " 3136,\n",
       " 781,\n",
       " 192,\n",
       " 699,\n",
       " 1026,\n",
       " 593,\n",
       " 0,\n",
       " 1591,\n",
       " 782,\n",
       " 2713,\n",
       " 1378,\n",
       " 565,\n",
       " 68,\n",
       " 408,\n",
       " 871,\n",
       " 14,\n",
       " 2162,\n",
       " 1250,\n",
       " 263,\n",
       " 1218,\n",
       " 1095,\n",
       " 0,\n",
       " 231,\n",
       " 576,\n",
       " 7500,\n",
       " 1428,\n",
       " 578,\n",
       " 0,\n",
       " 1032,\n",
       " 277,\n",
       " 389,\n",
       " 696,\n",
       " 725,\n",
       " 330,\n",
       " 125,\n",
       " 0,\n",
       " 3,\n",
       " 1473,\n",
       " 2010,\n",
       " 1032,\n",
       " 1412,\n",
       " 68,\n",
       " 283,\n",
       " 1862,\n",
       " 2741,\n",
       " 1960,\n",
       " 2932,\n",
       " 481,\n",
       " 729,\n",
       " 386,\n",
       " 1161,\n",
       " -4666,\n",
       " 2300,\n",
       " 245,\n",
       " 428,\n",
       " 2191,\n",
       " 1463,\n",
       " 1099,\n",
       " 0,\n",
       " 487,\n",
       " 0,\n",
       " 694,\n",
       " 2243,\n",
       " 1600,\n",
       " 0]"
      ]
     },
     "execution_count": 17,
     "metadata": {},
     "output_type": "execute_result"
    }
   ],
   "source": [
    "# use above list to generate single integer count value for each day\n",
    "# count value will not necessarilly be accurate due to roll-over counts\n",
    "\n",
    "entries_count = []\n",
    "for en in entries_list:\n",
    "    entries_count.append(en[-1] - en[0])\n",
    "\n",
    "exits_count = []\n",
    "for ex in exits_list:\n",
    "    exits_count.append(e[-1] - ex[0])\n",
    "    \n",
    "entries_count[:30000:300] # confirms it works..."
   ]
  },
  {
   "cell_type": "markdown",
   "metadata": {},
   "source": [
    "#### How to confirm the counts are currect???\n",
    "- option 1: eliminate row if list contains a 0 or counts through zero\n",
    "- option 2: eliminate row if returns (-) value\n",
    "- option 3: determine max count for the counters and look for values approaching max, this also requires confirming that max count is same across all turnstiles)\n",
    "- option 4: identify the 'reset' value / max count within the list and work with it\n",
    "- option 5: ...?"
   ]
  },
  {
   "cell_type": "markdown",
   "metadata": {},
   "source": [
    "### Rebuild the df with entry/exit counts\n",
    "- df should include: 'turnstile', 'DATE', 'TIME', 'datetime', 'entries_count', 'exits_count'"
   ]
  },
  {
   "cell_type": "code",
   "execution_count": 18,
   "metadata": {
    "scrolled": true
   },
   "outputs": [
    {
     "data": {
      "text/plain": [
       "\"\\ndf3 = df.groupby(['C/A', 'UNIT', 'SCP', 'STATION', 'DATE']).count() #df2 already exists above\\ndf3['entries_count'] = entries_count\\ndf3['exits_count'] = list(exits_list_srs)\\n\\ndf3.head()\\n\""
      ]
     },
     "execution_count": 18,
     "metadata": {},
     "output_type": "execute_result"
    }
   ],
   "source": [
    "# now build the appropriate df from original data ('unit')\n",
    "## separate df that returns only same # of rows as this series (basically agg'd by turnstile & DATE) (32,125 rows)\n",
    "\n",
    "'''\n",
    "df3 = df.groupby(['C/A', 'UNIT', 'SCP', 'STATION', 'DATE']).count() #df2 already exists above\n",
    "df3['entries_count'] = entries_count\n",
    "df3['exits_count'] = exits_count\n",
    "\n",
    "df3.head()\n",
    "'''\n",
    "\n"
   ]
  }
 ],
 "metadata": {
  "kernelspec": {
   "display_name": "Python 3",
   "language": "python",
   "name": "python3"
  },
  "language_info": {
   "codemirror_mode": {
    "name": "ipython",
    "version": 3
   },
   "file_extension": ".py",
   "mimetype": "text/x-python",
   "name": "python",
   "nbconvert_exporter": "python",
   "pygments_lexer": "ipython3",
   "version": "3.6.4"
  }
 },
 "nbformat": 4,
 "nbformat_minor": 2
}
