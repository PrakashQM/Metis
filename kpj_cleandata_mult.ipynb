{
 "cells": [
  {
   "cell_type": "markdown",
   "metadata": {},
   "source": [
    "# JS to-do list:\n",
    "1. read in multiple files... ensure averaging values of each (day, week, hour), not summing them all.\n",
    "2. graph..."
   ]
  },
  {
   "cell_type": "code",
   "execution_count": 83,
   "metadata": {},
   "outputs": [],
   "source": [
    "# print_function for compatibility with Python 3\n",
    "#from __future__ import print_function \n",
    "#print('Print function from python 3')\n",
    "\n",
    "# NumPy for numerical computing\n",
    "import numpy as np\n",
    "\n",
    "# Pandas for DataFrames\n",
    "import pandas as pd\n",
    "\n",
    "# Matplotlib for visualization\n",
    "import matplotlib.pyplot as plt\n",
    "\n",
    "# display plots in the notebook\n",
    "%matplotlib inline\n",
    "\n",
    "# Seaborn for easier visualization\n",
    "#import seaborn as sns\n",
    "\n",
    "#import calendar\n",
    "import datetime"
   ]
  },
  {
   "cell_type": "code",
   "execution_count": 84,
   "metadata": {},
   "outputs": [
    {
     "name": "stdout",
     "output_type": "stream",
     "text": [
      "<class 'pandas.core.frame.DataFrame'>\n",
      "RangeIndex: 196988 entries, 0 to 196987\n",
      "Data columns (total 11 columns):\n",
      "C/A                                                                     196988 non-null object\n",
      "UNIT                                                                    196988 non-null object\n",
      "SCP                                                                     196988 non-null object\n",
      "STATION                                                                 196988 non-null object\n",
      "LINENAME                                                                196988 non-null object\n",
      "DIVISION                                                                196988 non-null object\n",
      "DATE                                                                    196988 non-null object\n",
      "TIME                                                                    196988 non-null object\n",
      "DESC                                                                    196988 non-null object\n",
      "ENTRIES                                                                 196988 non-null int64\n",
      "EXITS                                                                   196988 non-null int64\n",
      "dtypes: int64(2), object(9)\n",
      "memory usage: 16.5+ MB\n"
     ]
    }
   ],
   "source": [
    "df = pd.read_csv('turnstile_180310.txt')\n",
    "\n",
    "# list of .txt files to be read\n",
    "txt_docs_list = ['turnstile_180310.txt', 'turnstile_180317.txt','turnstile_180324.txt', \n",
    "                 'turnstile_180331.txt', 'turnstile_180407.txt']\n",
    "\n",
    "# reading in the files\n",
    "df_list = []\n",
    "for each in range(4,5):\n",
    "    df_list.append(pd.read_csv(txt_docs_list[each]))\n",
    "    \n",
    "# concatenating the DFs together as 'df'\n",
    "df = pd.concat(df_list)\n",
    "df.info()"
   ]
  },
  {
   "cell_type": "code",
   "execution_count": 85,
   "metadata": {},
   "outputs": [],
   "source": [
    "df.columns = df.columns.str.strip()"
   ]
  },
  {
   "cell_type": "code",
   "execution_count": 86,
   "metadata": {},
   "outputs": [
    {
     "data": {
      "text/html": [
       "<div>\n",
       "<style scoped>\n",
       "    .dataframe tbody tr th:only-of-type {\n",
       "        vertical-align: middle;\n",
       "    }\n",
       "\n",
       "    .dataframe tbody tr th {\n",
       "        vertical-align: top;\n",
       "    }\n",
       "\n",
       "    .dataframe thead th {\n",
       "        text-align: right;\n",
       "    }\n",
       "</style>\n",
       "<table border=\"1\" class=\"dataframe\">\n",
       "  <thead>\n",
       "    <tr style=\"text-align: right;\">\n",
       "      <th></th>\n",
       "      <th>C/A</th>\n",
       "      <th>UNIT</th>\n",
       "      <th>SCP</th>\n",
       "      <th>STATION</th>\n",
       "      <th>DATE</th>\n",
       "      <th>TIME</th>\n",
       "      <th>DESC</th>\n",
       "      <th>ENTRIES</th>\n",
       "      <th>EXITS</th>\n",
       "      <th>turnstile_id</th>\n",
       "      <th>date</th>\n",
       "      <th>DATE_TIME</th>\n",
       "    </tr>\n",
       "  </thead>\n",
       "  <tbody>\n",
       "    <tr>\n",
       "      <th>9214</th>\n",
       "      <td>A050</td>\n",
       "      <td>R088</td>\n",
       "      <td>00-05-03</td>\n",
       "      <td>CORTLANDT ST</td>\n",
       "      <td>04/02/2018</td>\n",
       "      <td>01:00:00</td>\n",
       "      <td>REGULAR</td>\n",
       "      <td>163382</td>\n",
       "      <td>114676</td>\n",
       "      <td>A050_R088_00-05-03_CORTLANDT ST</td>\n",
       "      <td>2018-04-02</td>\n",
       "      <td>2018-04-02 01:00:00</td>\n",
       "    </tr>\n",
       "    <tr>\n",
       "      <th>50366</th>\n",
       "      <td>N067</td>\n",
       "      <td>R012</td>\n",
       "      <td>00-00-01</td>\n",
       "      <td>34 ST-PENN STA</td>\n",
       "      <td>04/06/2018</td>\n",
       "      <td>04:00:00</td>\n",
       "      <td>REGULAR</td>\n",
       "      <td>1959437</td>\n",
       "      <td>2117231</td>\n",
       "      <td>N067_R012_00-00-01_34 ST-PENN STA</td>\n",
       "      <td>2018-04-06</td>\n",
       "      <td>2018-04-06 04:00:00</td>\n",
       "    </tr>\n",
       "    <tr>\n",
       "      <th>149047</th>\n",
       "      <td>R227A</td>\n",
       "      <td>R131</td>\n",
       "      <td>01-00-02</td>\n",
       "      <td>23 ST</td>\n",
       "      <td>04/02/2018</td>\n",
       "      <td>05:00:00</td>\n",
       "      <td>REGULAR</td>\n",
       "      <td>3919772</td>\n",
       "      <td>2004084</td>\n",
       "      <td>R227A_R131_01-00-02_23 ST</td>\n",
       "      <td>2018-04-02</td>\n",
       "      <td>2018-04-02 05:00:00</td>\n",
       "    </tr>\n",
       "    <tr>\n",
       "      <th>31516</th>\n",
       "      <td>H014</td>\n",
       "      <td>R249</td>\n",
       "      <td>00-00-01</td>\n",
       "      <td>GRAHAM AV</td>\n",
       "      <td>04/05/2018</td>\n",
       "      <td>12:00:00</td>\n",
       "      <td>REGULAR</td>\n",
       "      <td>179218</td>\n",
       "      <td>623139</td>\n",
       "      <td>H014_R249_00-00-01_GRAHAM AV</td>\n",
       "      <td>2018-04-05</td>\n",
       "      <td>2018-04-05 12:00:00</td>\n",
       "    </tr>\n",
       "    <tr>\n",
       "      <th>179223</th>\n",
       "      <td>R523</td>\n",
       "      <td>R147</td>\n",
       "      <td>00-06-00</td>\n",
       "      <td>61 ST WOODSIDE</td>\n",
       "      <td>04/01/2018</td>\n",
       "      <td>05:00:00</td>\n",
       "      <td>REGULAR</td>\n",
       "      <td>1476107</td>\n",
       "      <td>1874374</td>\n",
       "      <td>R523_R147_00-06-00_61 ST WOODSIDE</td>\n",
       "      <td>2018-04-01</td>\n",
       "      <td>2018-04-01 05:00:00</td>\n",
       "    </tr>\n",
       "    <tr>\n",
       "      <th>158724</th>\n",
       "      <td>R254</td>\n",
       "      <td>R181</td>\n",
       "      <td>01-00-02</td>\n",
       "      <td>110 ST</td>\n",
       "      <td>04/05/2018</td>\n",
       "      <td>00:00:00</td>\n",
       "      <td>REGULAR</td>\n",
       "      <td>13144952</td>\n",
       "      <td>4315525</td>\n",
       "      <td>R254_R181_01-00-02_110 ST</td>\n",
       "      <td>2018-04-05</td>\n",
       "      <td>2018-04-05 00:00:00</td>\n",
       "    </tr>\n",
       "    <tr>\n",
       "      <th>176381</th>\n",
       "      <td>R510</td>\n",
       "      <td>R090</td>\n",
       "      <td>00-00-00</td>\n",
       "      <td>39 AV</td>\n",
       "      <td>04/01/2018</td>\n",
       "      <td>04:00:00</td>\n",
       "      <td>REGULAR</td>\n",
       "      <td>2271561</td>\n",
       "      <td>696035</td>\n",
       "      <td>R510_R090_00-00-00_39 AV</td>\n",
       "      <td>2018-04-01</td>\n",
       "      <td>2018-04-01 04:00:00</td>\n",
       "    </tr>\n",
       "    <tr>\n",
       "      <th>38413</th>\n",
       "      <td>J028</td>\n",
       "      <td>R004</td>\n",
       "      <td>00-00-00</td>\n",
       "      <td>75 ST-ELDERTS</td>\n",
       "      <td>04/03/2018</td>\n",
       "      <td>20:00:00</td>\n",
       "      <td>REGULAR</td>\n",
       "      <td>512942</td>\n",
       "      <td>291979</td>\n",
       "      <td>J028_R004_00-00-00_75 ST-ELDERTS</td>\n",
       "      <td>2018-04-03</td>\n",
       "      <td>2018-04-03 20:00:00</td>\n",
       "    </tr>\n",
       "    <tr>\n",
       "      <th>83999</th>\n",
       "      <td>N334B</td>\n",
       "      <td>R341</td>\n",
       "      <td>00-06-02</td>\n",
       "      <td>75 AV</td>\n",
       "      <td>04/06/2018</td>\n",
       "      <td>00:00:00</td>\n",
       "      <td>REGULAR</td>\n",
       "      <td>297374819</td>\n",
       "      <td>942547837</td>\n",
       "      <td>N334B_R341_00-06-02_75 AV</td>\n",
       "      <td>2018-04-06</td>\n",
       "      <td>2018-04-06 00:00:00</td>\n",
       "    </tr>\n",
       "    <tr>\n",
       "      <th>181494</th>\n",
       "      <td>R529</td>\n",
       "      <td>R208</td>\n",
       "      <td>00-06-01</td>\n",
       "      <td>103 ST-CORONA</td>\n",
       "      <td>04/01/2018</td>\n",
       "      <td>16:00:00</td>\n",
       "      <td>REGULAR</td>\n",
       "      <td>4042843</td>\n",
       "      <td>7220838</td>\n",
       "      <td>R529_R208_00-06-01_103 ST-CORONA</td>\n",
       "      <td>2018-04-01</td>\n",
       "      <td>2018-04-01 16:00:00</td>\n",
       "    </tr>\n",
       "  </tbody>\n",
       "</table>\n",
       "</div>"
      ],
      "text/plain": [
       "          C/A  UNIT       SCP         STATION        DATE      TIME     DESC  \\\n",
       "9214     A050  R088  00-05-03    CORTLANDT ST  04/02/2018  01:00:00  REGULAR   \n",
       "50366    N067  R012  00-00-01  34 ST-PENN STA  04/06/2018  04:00:00  REGULAR   \n",
       "149047  R227A  R131  01-00-02           23 ST  04/02/2018  05:00:00  REGULAR   \n",
       "31516    H014  R249  00-00-01       GRAHAM AV  04/05/2018  12:00:00  REGULAR   \n",
       "179223   R523  R147  00-06-00  61 ST WOODSIDE  04/01/2018  05:00:00  REGULAR   \n",
       "158724   R254  R181  01-00-02          110 ST  04/05/2018  00:00:00  REGULAR   \n",
       "176381   R510  R090  00-00-00           39 AV  04/01/2018  04:00:00  REGULAR   \n",
       "38413    J028  R004  00-00-00   75 ST-ELDERTS  04/03/2018  20:00:00  REGULAR   \n",
       "83999   N334B  R341  00-06-02           75 AV  04/06/2018  00:00:00  REGULAR   \n",
       "181494   R529  R208  00-06-01   103 ST-CORONA  04/01/2018  16:00:00  REGULAR   \n",
       "\n",
       "          ENTRIES      EXITS                       turnstile_id       date  \\\n",
       "9214       163382     114676    A050_R088_00-05-03_CORTLANDT ST 2018-04-02   \n",
       "50366     1959437    2117231  N067_R012_00-00-01_34 ST-PENN STA 2018-04-06   \n",
       "149047    3919772    2004084          R227A_R131_01-00-02_23 ST 2018-04-02   \n",
       "31516      179218     623139       H014_R249_00-00-01_GRAHAM AV 2018-04-05   \n",
       "179223    1476107    1874374  R523_R147_00-06-00_61 ST WOODSIDE 2018-04-01   \n",
       "158724   13144952    4315525          R254_R181_01-00-02_110 ST 2018-04-05   \n",
       "176381    2271561     696035           R510_R090_00-00-00_39 AV 2018-04-01   \n",
       "38413      512942     291979   J028_R004_00-00-00_75 ST-ELDERTS 2018-04-03   \n",
       "83999   297374819  942547837          N334B_R341_00-06-02_75 AV 2018-04-06   \n",
       "181494    4042843    7220838   R529_R208_00-06-01_103 ST-CORONA 2018-04-01   \n",
       "\n",
       "                 DATE_TIME  \n",
       "9214   2018-04-02 01:00:00  \n",
       "50366  2018-04-06 04:00:00  \n",
       "149047 2018-04-02 05:00:00  \n",
       "31516  2018-04-05 12:00:00  \n",
       "179223 2018-04-01 05:00:00  \n",
       "158724 2018-04-05 00:00:00  \n",
       "176381 2018-04-01 04:00:00  \n",
       "38413  2018-04-03 20:00:00  \n",
       "83999  2018-04-06 00:00:00  \n",
       "181494 2018-04-01 16:00:00  "
      ]
     },
     "execution_count": 86,
     "metadata": {},
     "output_type": "execute_result"
    }
   ],
   "source": [
    "df['turnstile_id'] = df['C/A'] + '_' + df['UNIT'] + '_' + df['SCP'] + '_' + df['STATION']\n",
    "df['date'] = pd.to_datetime(df['DATE'], format='%m/%d/%Y')\n",
    "df['DATE_TIME'] = df['DATE'] + '_' + df['TIME']\n",
    "df['DATE_TIME'] = pd.to_datetime(df['DATE_TIME'],format=\"%m/%d/%Y_%H:%M:%S\")\n",
    "df.drop(['LINENAME', 'DIVISION'], axis=1, inplace=True)\n",
    "df.sample(10)"
   ]
  },
  {
   "cell_type": "code",
   "execution_count": 87,
   "metadata": {},
   "outputs": [
    {
     "data": {
      "text/plain": [
       "{'RECOVR AUD', 'REGULAR'}"
      ]
     },
     "execution_count": 87,
     "metadata": {},
     "output_type": "execute_result"
    }
   ],
   "source": [
    "set(df.DESC.values)"
   ]
  },
  {
   "cell_type": "code",
   "execution_count": 88,
   "metadata": {},
   "outputs": [
    {
     "name": "stdout",
     "output_type": "stream",
     "text": [
      "count    6.490000e+02\n",
      "mean     1.154969e+08\n",
      "std      3.883481e+08\n",
      "min      0.000000e+00\n",
      "25%      4.330230e+05\n",
      "50%      1.661326e+06\n",
      "75%      6.564570e+06\n",
      "max      2.008106e+09\n",
      "Name: ENTRIES, dtype: float64 count    1.963390e+05\n",
      "mean     3.839749e+07\n",
      "std      2.019122e+08\n",
      "min      0.000000e+00\n",
      "25%      5.033890e+05\n",
      "50%      2.585166e+06\n",
      "75%      6.863192e+06\n",
      "max      2.130009e+09\n",
      "Name: ENTRIES, dtype: float64\n"
     ]
    }
   ],
   "source": [
    "# check if DESC column means anything... it doesn't\n",
    "df_recov = df[df.DESC == 'RECOVR AUD']\n",
    "df_regul = df[df.DESC == 'REGULAR']\n",
    "print(df_recov.ENTRIES.describe(), df_regul.ENTRIES.describe())"
   ]
  },
  {
   "cell_type": "markdown",
   "metadata": {},
   "source": [
    "## Scrappy build of new df ('df_final') with ENTRIES/EXITS counts"
   ]
  },
  {
   "cell_type": "code",
   "execution_count": 89,
   "metadata": {},
   "outputs": [],
   "source": [
    "df_temp=df[['turnstile_id','date','DATE_TIME','ENTRIES','EXITS','STATION', 'DATE', 'TIME']]"
   ]
  },
  {
   "cell_type": "code",
   "execution_count": 90,
   "metadata": {},
   "outputs": [
    {
     "name": "stdout",
     "output_type": "stream",
     "text": [
      "<class 'pandas.core.frame.DataFrame'>\n",
      "RangeIndex: 196988 entries, 0 to 196987\n",
      "Data columns (total 8 columns):\n",
      "turnstile_id    196988 non-null object\n",
      "date            196988 non-null datetime64[ns]\n",
      "DATE_TIME       196988 non-null datetime64[ns]\n",
      "ENTRIES         196988 non-null int64\n",
      "EXITS           196988 non-null int64\n",
      "STATION         196988 non-null object\n",
      "DATE            196988 non-null object\n",
      "TIME            196988 non-null object\n",
      "dtypes: datetime64[ns](2), int64(2), object(4)\n",
      "memory usage: 12.0+ MB\n"
     ]
    }
   ],
   "source": [
    "df_temp.info()"
   ]
  },
  {
   "cell_type": "code",
   "execution_count": 91,
   "metadata": {},
   "outputs": [
    {
     "data": {
      "text/html": [
       "<div>\n",
       "<style scoped>\n",
       "    .dataframe tbody tr th:only-of-type {\n",
       "        vertical-align: middle;\n",
       "    }\n",
       "\n",
       "    .dataframe tbody tr th {\n",
       "        vertical-align: top;\n",
       "    }\n",
       "\n",
       "    .dataframe thead th {\n",
       "        text-align: right;\n",
       "    }\n",
       "</style>\n",
       "<table border=\"1\" class=\"dataframe\">\n",
       "  <thead>\n",
       "    <tr style=\"text-align: right;\">\n",
       "      <th></th>\n",
       "      <th>turnstile_id</th>\n",
       "      <th>date</th>\n",
       "      <th>DATE_TIME</th>\n",
       "      <th>ENTRIES</th>\n",
       "      <th>EXITS</th>\n",
       "      <th>STATION</th>\n",
       "      <th>DATE</th>\n",
       "      <th>TIME</th>\n",
       "    </tr>\n",
       "  </thead>\n",
       "  <tbody>\n",
       "    <tr>\n",
       "      <th>102307</th>\n",
       "      <td>N546_R204_00-00-02_CHURCH AV</td>\n",
       "      <td>2018-04-05</td>\n",
       "      <td>2018-04-05 04:00:00</td>\n",
       "      <td>4598855</td>\n",
       "      <td>5432812</td>\n",
       "      <td>CHURCH AV</td>\n",
       "      <td>04/05/2018</td>\n",
       "      <td>04:00:00</td>\n",
       "    </tr>\n",
       "    <tr>\n",
       "      <th>23943</th>\n",
       "      <td>C025_R215_00-03-02_86 ST</td>\n",
       "      <td>2018-04-01</td>\n",
       "      <td>2018-04-01 20:00:00</td>\n",
       "      <td>17828274</td>\n",
       "      <td>10785439</td>\n",
       "      <td>86 ST</td>\n",
       "      <td>04/01/2018</td>\n",
       "      <td>20:00:00</td>\n",
       "    </tr>\n",
       "    <tr>\n",
       "      <th>98925</th>\n",
       "      <td>N528_R257_01-00-02_EAST BROADWAY</td>\n",
       "      <td>2018-04-01</td>\n",
       "      <td>2018-04-01 04:00:00</td>\n",
       "      <td>5779520</td>\n",
       "      <td>1698169</td>\n",
       "      <td>EAST BROADWAY</td>\n",
       "      <td>04/01/2018</td>\n",
       "      <td>04:00:00</td>\n",
       "    </tr>\n",
       "    <tr>\n",
       "      <th>356</th>\n",
       "      <td>A002_R051_02-03-06_59 ST</td>\n",
       "      <td>2018-04-03</td>\n",
       "      <td>2018-04-03 08:00:00</td>\n",
       "      <td>8429207</td>\n",
       "      <td>489158</td>\n",
       "      <td>59 ST</td>\n",
       "      <td>04/03/2018</td>\n",
       "      <td>08:00:00</td>\n",
       "    </tr>\n",
       "    <tr>\n",
       "      <th>159040</th>\n",
       "      <td>R257_R182_01-03-01_116 ST</td>\n",
       "      <td>2018-04-01</td>\n",
       "      <td>2018-04-01 17:00:00</td>\n",
       "      <td>1903122</td>\n",
       "      <td>1733415</td>\n",
       "      <td>116 ST</td>\n",
       "      <td>04/01/2018</td>\n",
       "      <td>17:00:00</td>\n",
       "    </tr>\n",
       "    <tr>\n",
       "      <th>120900</th>\n",
       "      <td>PTH21_R540_01-00-04_PATH WTC 2</td>\n",
       "      <td>2018-04-02</td>\n",
       "      <td>2018-04-02 13:54:15</td>\n",
       "      <td>223960</td>\n",
       "      <td>719888</td>\n",
       "      <td>PATH WTC 2</td>\n",
       "      <td>04/02/2018</td>\n",
       "      <td>13:54:15</td>\n",
       "    </tr>\n",
       "    <tr>\n",
       "      <th>118632</th>\n",
       "      <td>PTH18_R549_01-00-01_NEWARK BM BW</td>\n",
       "      <td>2018-04-04</td>\n",
       "      <td>2018-04-04 06:29:31</td>\n",
       "      <td>158382</td>\n",
       "      <td>10788</td>\n",
       "      <td>NEWARK BM BW</td>\n",
       "      <td>04/04/2018</td>\n",
       "      <td>06:29:31</td>\n",
       "    </tr>\n",
       "    <tr>\n",
       "      <th>101164</th>\n",
       "      <td>N541_R241_01-05-00_15 ST-PROSPECT</td>\n",
       "      <td>2018-04-03</td>\n",
       "      <td>2018-04-03 16:30:00</td>\n",
       "      <td>458756</td>\n",
       "      <td>0</td>\n",
       "      <td>15 ST-PROSPECT</td>\n",
       "      <td>04/03/2018</td>\n",
       "      <td>16:30:00</td>\n",
       "    </tr>\n",
       "    <tr>\n",
       "      <th>109704</th>\n",
       "      <td>N702A_R572_01-00-00_96 ST-2 AVE</td>\n",
       "      <td>2018-04-05</td>\n",
       "      <td>2018-04-05 13:00:00</td>\n",
       "      <td>626881</td>\n",
       "      <td>581792</td>\n",
       "      <td>96 ST-2 AVE</td>\n",
       "      <td>04/05/2018</td>\n",
       "      <td>13:00:00</td>\n",
       "    </tr>\n",
       "    <tr>\n",
       "      <th>147709</th>\n",
       "      <td>R221_R170_01-00-01_14 ST-UNION SQ</td>\n",
       "      <td>2018-04-02</td>\n",
       "      <td>2018-04-02 01:00:00</td>\n",
       "      <td>8066693</td>\n",
       "      <td>3055445</td>\n",
       "      <td>14 ST-UNION SQ</td>\n",
       "      <td>04/02/2018</td>\n",
       "      <td>01:00:00</td>\n",
       "    </tr>\n",
       "  </tbody>\n",
       "</table>\n",
       "</div>"
      ],
      "text/plain": [
       "                             turnstile_id       date           DATE_TIME  \\\n",
       "102307       N546_R204_00-00-02_CHURCH AV 2018-04-05 2018-04-05 04:00:00   \n",
       "23943            C025_R215_00-03-02_86 ST 2018-04-01 2018-04-01 20:00:00   \n",
       "98925    N528_R257_01-00-02_EAST BROADWAY 2018-04-01 2018-04-01 04:00:00   \n",
       "356              A002_R051_02-03-06_59 ST 2018-04-03 2018-04-03 08:00:00   \n",
       "159040          R257_R182_01-03-01_116 ST 2018-04-01 2018-04-01 17:00:00   \n",
       "120900     PTH21_R540_01-00-04_PATH WTC 2 2018-04-02 2018-04-02 13:54:15   \n",
       "118632   PTH18_R549_01-00-01_NEWARK BM BW 2018-04-04 2018-04-04 06:29:31   \n",
       "101164  N541_R241_01-05-00_15 ST-PROSPECT 2018-04-03 2018-04-03 16:30:00   \n",
       "109704    N702A_R572_01-00-00_96 ST-2 AVE 2018-04-05 2018-04-05 13:00:00   \n",
       "147709  R221_R170_01-00-01_14 ST-UNION SQ 2018-04-02 2018-04-02 01:00:00   \n",
       "\n",
       "         ENTRIES     EXITS         STATION        DATE      TIME  \n",
       "102307   4598855   5432812       CHURCH AV  04/05/2018  04:00:00  \n",
       "23943   17828274  10785439           86 ST  04/01/2018  20:00:00  \n",
       "98925    5779520   1698169   EAST BROADWAY  04/01/2018  04:00:00  \n",
       "356      8429207    489158           59 ST  04/03/2018  08:00:00  \n",
       "159040   1903122   1733415          116 ST  04/01/2018  17:00:00  \n",
       "120900    223960    719888      PATH WTC 2  04/02/2018  13:54:15  \n",
       "118632    158382     10788    NEWARK BM BW  04/04/2018  06:29:31  \n",
       "101164    458756         0  15 ST-PROSPECT  04/03/2018  16:30:00  \n",
       "109704    626881    581792     96 ST-2 AVE  04/05/2018  13:00:00  \n",
       "147709   8066693   3055445  14 ST-UNION SQ  04/02/2018  01:00:00  "
      ]
     },
     "execution_count": 91,
     "metadata": {},
     "output_type": "execute_result"
    }
   ],
   "source": [
    "df_temp.sample(10)"
   ]
  },
  {
   "cell_type": "code",
   "execution_count": 92,
   "metadata": {},
   "outputs": [],
   "source": [
    "df_temp1=(df_temp\n",
    " .sort_values(by=['turnstile_id','DATE_TIME'])\n",
    " .groupby(['turnstile_id','date','STATION'])\n",
    " .diff())"
   ]
  },
  {
   "cell_type": "code",
   "execution_count": 93,
   "metadata": {},
   "outputs": [
    {
     "data": {
      "text/html": [
       "<div>\n",
       "<style scoped>\n",
       "    .dataframe tbody tr th:only-of-type {\n",
       "        vertical-align: middle;\n",
       "    }\n",
       "\n",
       "    .dataframe tbody tr th {\n",
       "        vertical-align: top;\n",
       "    }\n",
       "\n",
       "    .dataframe thead th {\n",
       "        text-align: right;\n",
       "    }\n",
       "</style>\n",
       "<table border=\"1\" class=\"dataframe\">\n",
       "  <thead>\n",
       "    <tr style=\"text-align: right;\">\n",
       "      <th></th>\n",
       "      <th>DATE_TIME</th>\n",
       "      <th>ENTRIES</th>\n",
       "      <th>EXITS</th>\n",
       "    </tr>\n",
       "  </thead>\n",
       "  <tbody>\n",
       "    <tr>\n",
       "      <th>0</th>\n",
       "      <td>NaT</td>\n",
       "      <td>NaN</td>\n",
       "      <td>NaN</td>\n",
       "    </tr>\n",
       "    <tr>\n",
       "      <th>1</th>\n",
       "      <td>04:00:00</td>\n",
       "      <td>7.0</td>\n",
       "      <td>3.0</td>\n",
       "    </tr>\n",
       "    <tr>\n",
       "      <th>2</th>\n",
       "      <td>04:00:00</td>\n",
       "      <td>0.0</td>\n",
       "      <td>0.0</td>\n",
       "    </tr>\n",
       "    <tr>\n",
       "      <th>3</th>\n",
       "      <td>04:00:00</td>\n",
       "      <td>0.0</td>\n",
       "      <td>2.0</td>\n",
       "    </tr>\n",
       "    <tr>\n",
       "      <th>4</th>\n",
       "      <td>04:00:00</td>\n",
       "      <td>0.0</td>\n",
       "      <td>0.0</td>\n",
       "    </tr>\n",
       "    <tr>\n",
       "      <th>5</th>\n",
       "      <td>04:00:00</td>\n",
       "      <td>0.0</td>\n",
       "      <td>0.0</td>\n",
       "    </tr>\n",
       "    <tr>\n",
       "      <th>6</th>\n",
       "      <td>NaT</td>\n",
       "      <td>NaN</td>\n",
       "      <td>NaN</td>\n",
       "    </tr>\n",
       "    <tr>\n",
       "      <th>7</th>\n",
       "      <td>04:00:00</td>\n",
       "      <td>0.0</td>\n",
       "      <td>0.0</td>\n",
       "    </tr>\n",
       "    <tr>\n",
       "      <th>8</th>\n",
       "      <td>04:00:00</td>\n",
       "      <td>0.0</td>\n",
       "      <td>0.0</td>\n",
       "    </tr>\n",
       "    <tr>\n",
       "      <th>9</th>\n",
       "      <td>04:00:00</td>\n",
       "      <td>0.0</td>\n",
       "      <td>0.0</td>\n",
       "    </tr>\n",
       "  </tbody>\n",
       "</table>\n",
       "</div>"
      ],
      "text/plain": [
       "  DATE_TIME  ENTRIES  EXITS\n",
       "0       NaT      NaN    NaN\n",
       "1  04:00:00      7.0    3.0\n",
       "2  04:00:00      0.0    0.0\n",
       "3  04:00:00      0.0    2.0\n",
       "4  04:00:00      0.0    0.0\n",
       "5  04:00:00      0.0    0.0\n",
       "6       NaT      NaN    NaN\n",
       "7  04:00:00      0.0    0.0\n",
       "8  04:00:00      0.0    0.0\n",
       "9  04:00:00      0.0    0.0"
      ]
     },
     "execution_count": 93,
     "metadata": {},
     "output_type": "execute_result"
    }
   ],
   "source": [
    "df_temp1.head(10)"
   ]
  },
  {
   "cell_type": "code",
   "execution_count": 94,
   "metadata": {},
   "outputs": [],
   "source": [
    "# Here we are rebuilding our new df with ENTRIES/EXITS counts (from .diff()) and all other relevant information\n",
    "df_temp2=(df_temp\n",
    " .sort_values(by=['turnstile_id','DATE_TIME']))"
   ]
  },
  {
   "cell_type": "code",
   "execution_count": 95,
   "metadata": {},
   "outputs": [
    {
     "data": {
      "text/html": [
       "<div>\n",
       "<style scoped>\n",
       "    .dataframe tbody tr th:only-of-type {\n",
       "        vertical-align: middle;\n",
       "    }\n",
       "\n",
       "    .dataframe tbody tr th {\n",
       "        vertical-align: top;\n",
       "    }\n",
       "\n",
       "    .dataframe thead th {\n",
       "        text-align: right;\n",
       "    }\n",
       "</style>\n",
       "<table border=\"1\" class=\"dataframe\">\n",
       "  <thead>\n",
       "    <tr style=\"text-align: right;\">\n",
       "      <th></th>\n",
       "      <th>turnstile_id</th>\n",
       "      <th>date</th>\n",
       "      <th>DATE_TIME</th>\n",
       "      <th>ENTRIES</th>\n",
       "      <th>EXITS</th>\n",
       "      <th>STATION</th>\n",
       "      <th>DATE</th>\n",
       "      <th>TIME</th>\n",
       "    </tr>\n",
       "  </thead>\n",
       "  <tbody>\n",
       "    <tr>\n",
       "      <th>0</th>\n",
       "      <td>A002_R051_02-00-00_59 ST</td>\n",
       "      <td>2018-03-31</td>\n",
       "      <td>2018-03-31 00:00:00</td>\n",
       "      <td>6566463</td>\n",
       "      <td>2224050</td>\n",
       "      <td>59 ST</td>\n",
       "      <td>03/31/2018</td>\n",
       "      <td>00:00:00</td>\n",
       "    </tr>\n",
       "    <tr>\n",
       "      <th>1</th>\n",
       "      <td>A002_R051_02-00-00_59 ST</td>\n",
       "      <td>2018-03-31</td>\n",
       "      <td>2018-03-31 04:00:00</td>\n",
       "      <td>6566470</td>\n",
       "      <td>2224053</td>\n",
       "      <td>59 ST</td>\n",
       "      <td>03/31/2018</td>\n",
       "      <td>04:00:00</td>\n",
       "    </tr>\n",
       "    <tr>\n",
       "      <th>2</th>\n",
       "      <td>A002_R051_02-00-00_59 ST</td>\n",
       "      <td>2018-03-31</td>\n",
       "      <td>2018-03-31 08:00:00</td>\n",
       "      <td>6566470</td>\n",
       "      <td>2224053</td>\n",
       "      <td>59 ST</td>\n",
       "      <td>03/31/2018</td>\n",
       "      <td>08:00:00</td>\n",
       "    </tr>\n",
       "    <tr>\n",
       "      <th>3</th>\n",
       "      <td>A002_R051_02-00-00_59 ST</td>\n",
       "      <td>2018-03-31</td>\n",
       "      <td>2018-03-31 12:00:00</td>\n",
       "      <td>6566470</td>\n",
       "      <td>2224055</td>\n",
       "      <td>59 ST</td>\n",
       "      <td>03/31/2018</td>\n",
       "      <td>12:00:00</td>\n",
       "    </tr>\n",
       "    <tr>\n",
       "      <th>4</th>\n",
       "      <td>A002_R051_02-00-00_59 ST</td>\n",
       "      <td>2018-03-31</td>\n",
       "      <td>2018-03-31 16:00:00</td>\n",
       "      <td>6566470</td>\n",
       "      <td>2224055</td>\n",
       "      <td>59 ST</td>\n",
       "      <td>03/31/2018</td>\n",
       "      <td>16:00:00</td>\n",
       "    </tr>\n",
       "  </tbody>\n",
       "</table>\n",
       "</div>"
      ],
      "text/plain": [
       "               turnstile_id       date           DATE_TIME  ENTRIES    EXITS  \\\n",
       "0  A002_R051_02-00-00_59 ST 2018-03-31 2018-03-31 00:00:00  6566463  2224050   \n",
       "1  A002_R051_02-00-00_59 ST 2018-03-31 2018-03-31 04:00:00  6566470  2224053   \n",
       "2  A002_R051_02-00-00_59 ST 2018-03-31 2018-03-31 08:00:00  6566470  2224053   \n",
       "3  A002_R051_02-00-00_59 ST 2018-03-31 2018-03-31 12:00:00  6566470  2224055   \n",
       "4  A002_R051_02-00-00_59 ST 2018-03-31 2018-03-31 16:00:00  6566470  2224055   \n",
       "\n",
       "  STATION        DATE      TIME  \n",
       "0   59 ST  03/31/2018  00:00:00  \n",
       "1   59 ST  03/31/2018  04:00:00  \n",
       "2   59 ST  03/31/2018  08:00:00  \n",
       "3   59 ST  03/31/2018  12:00:00  \n",
       "4   59 ST  03/31/2018  16:00:00  "
      ]
     },
     "execution_count": 95,
     "metadata": {},
     "output_type": "execute_result"
    }
   ],
   "source": [
    "df_temp2.head()"
   ]
  },
  {
   "cell_type": "code",
   "execution_count": 96,
   "metadata": {},
   "outputs": [],
   "source": [
    "df_temp1['turnstile_id']=df_temp2['turnstile_id']"
   ]
  },
  {
   "cell_type": "code",
   "execution_count": 97,
   "metadata": {},
   "outputs": [],
   "source": [
    "df_temp1['STATION']=df_temp2['STATION']"
   ]
  },
  {
   "cell_type": "code",
   "execution_count": 98,
   "metadata": {},
   "outputs": [],
   "source": [
    "df_temp1['date']=df_temp2['date']\n",
    "df_temp1['DATE_TIME']=df_temp2['DATE_TIME']"
   ]
  },
  {
   "cell_type": "code",
   "execution_count": 99,
   "metadata": {},
   "outputs": [
    {
     "data": {
      "text/html": [
       "<div>\n",
       "<style scoped>\n",
       "    .dataframe tbody tr th:only-of-type {\n",
       "        vertical-align: middle;\n",
       "    }\n",
       "\n",
       "    .dataframe tbody tr th {\n",
       "        vertical-align: top;\n",
       "    }\n",
       "\n",
       "    .dataframe thead th {\n",
       "        text-align: right;\n",
       "    }\n",
       "</style>\n",
       "<table border=\"1\" class=\"dataframe\">\n",
       "  <thead>\n",
       "    <tr style=\"text-align: right;\">\n",
       "      <th></th>\n",
       "      <th>DATE_TIME</th>\n",
       "      <th>ENTRIES</th>\n",
       "      <th>EXITS</th>\n",
       "      <th>turnstile_id</th>\n",
       "      <th>STATION</th>\n",
       "      <th>date</th>\n",
       "    </tr>\n",
       "  </thead>\n",
       "  <tbody>\n",
       "    <tr>\n",
       "      <th>0</th>\n",
       "      <td>2018-03-31 00:00:00</td>\n",
       "      <td>NaN</td>\n",
       "      <td>NaN</td>\n",
       "      <td>A002_R051_02-00-00_59 ST</td>\n",
       "      <td>59 ST</td>\n",
       "      <td>2018-03-31</td>\n",
       "    </tr>\n",
       "    <tr>\n",
       "      <th>1</th>\n",
       "      <td>2018-03-31 04:00:00</td>\n",
       "      <td>7.0</td>\n",
       "      <td>3.0</td>\n",
       "      <td>A002_R051_02-00-00_59 ST</td>\n",
       "      <td>59 ST</td>\n",
       "      <td>2018-03-31</td>\n",
       "    </tr>\n",
       "    <tr>\n",
       "      <th>2</th>\n",
       "      <td>2018-03-31 08:00:00</td>\n",
       "      <td>0.0</td>\n",
       "      <td>0.0</td>\n",
       "      <td>A002_R051_02-00-00_59 ST</td>\n",
       "      <td>59 ST</td>\n",
       "      <td>2018-03-31</td>\n",
       "    </tr>\n",
       "    <tr>\n",
       "      <th>3</th>\n",
       "      <td>2018-03-31 12:00:00</td>\n",
       "      <td>0.0</td>\n",
       "      <td>2.0</td>\n",
       "      <td>A002_R051_02-00-00_59 ST</td>\n",
       "      <td>59 ST</td>\n",
       "      <td>2018-03-31</td>\n",
       "    </tr>\n",
       "    <tr>\n",
       "      <th>4</th>\n",
       "      <td>2018-03-31 16:00:00</td>\n",
       "      <td>0.0</td>\n",
       "      <td>0.0</td>\n",
       "      <td>A002_R051_02-00-00_59 ST</td>\n",
       "      <td>59 ST</td>\n",
       "      <td>2018-03-31</td>\n",
       "    </tr>\n",
       "    <tr>\n",
       "      <th>5</th>\n",
       "      <td>2018-03-31 20:00:00</td>\n",
       "      <td>0.0</td>\n",
       "      <td>0.0</td>\n",
       "      <td>A002_R051_02-00-00_59 ST</td>\n",
       "      <td>59 ST</td>\n",
       "      <td>2018-03-31</td>\n",
       "    </tr>\n",
       "    <tr>\n",
       "      <th>6</th>\n",
       "      <td>2018-04-01 00:00:00</td>\n",
       "      <td>NaN</td>\n",
       "      <td>NaN</td>\n",
       "      <td>A002_R051_02-00-00_59 ST</td>\n",
       "      <td>59 ST</td>\n",
       "      <td>2018-04-01</td>\n",
       "    </tr>\n",
       "    <tr>\n",
       "      <th>7</th>\n",
       "      <td>2018-04-01 04:00:00</td>\n",
       "      <td>0.0</td>\n",
       "      <td>0.0</td>\n",
       "      <td>A002_R051_02-00-00_59 ST</td>\n",
       "      <td>59 ST</td>\n",
       "      <td>2018-04-01</td>\n",
       "    </tr>\n",
       "    <tr>\n",
       "      <th>8</th>\n",
       "      <td>2018-04-01 08:00:00</td>\n",
       "      <td>0.0</td>\n",
       "      <td>0.0</td>\n",
       "      <td>A002_R051_02-00-00_59 ST</td>\n",
       "      <td>59 ST</td>\n",
       "      <td>2018-04-01</td>\n",
       "    </tr>\n",
       "    <tr>\n",
       "      <th>9</th>\n",
       "      <td>2018-04-01 12:00:00</td>\n",
       "      <td>0.0</td>\n",
       "      <td>0.0</td>\n",
       "      <td>A002_R051_02-00-00_59 ST</td>\n",
       "      <td>59 ST</td>\n",
       "      <td>2018-04-01</td>\n",
       "    </tr>\n",
       "  </tbody>\n",
       "</table>\n",
       "</div>"
      ],
      "text/plain": [
       "            DATE_TIME  ENTRIES  EXITS              turnstile_id STATION  \\\n",
       "0 2018-03-31 00:00:00      NaN    NaN  A002_R051_02-00-00_59 ST   59 ST   \n",
       "1 2018-03-31 04:00:00      7.0    3.0  A002_R051_02-00-00_59 ST   59 ST   \n",
       "2 2018-03-31 08:00:00      0.0    0.0  A002_R051_02-00-00_59 ST   59 ST   \n",
       "3 2018-03-31 12:00:00      0.0    2.0  A002_R051_02-00-00_59 ST   59 ST   \n",
       "4 2018-03-31 16:00:00      0.0    0.0  A002_R051_02-00-00_59 ST   59 ST   \n",
       "5 2018-03-31 20:00:00      0.0    0.0  A002_R051_02-00-00_59 ST   59 ST   \n",
       "6 2018-04-01 00:00:00      NaN    NaN  A002_R051_02-00-00_59 ST   59 ST   \n",
       "7 2018-04-01 04:00:00      0.0    0.0  A002_R051_02-00-00_59 ST   59 ST   \n",
       "8 2018-04-01 08:00:00      0.0    0.0  A002_R051_02-00-00_59 ST   59 ST   \n",
       "9 2018-04-01 12:00:00      0.0    0.0  A002_R051_02-00-00_59 ST   59 ST   \n",
       "\n",
       "        date  \n",
       "0 2018-03-31  \n",
       "1 2018-03-31  \n",
       "2 2018-03-31  \n",
       "3 2018-03-31  \n",
       "4 2018-03-31  \n",
       "5 2018-03-31  \n",
       "6 2018-04-01  \n",
       "7 2018-04-01  \n",
       "8 2018-04-01  \n",
       "9 2018-04-01  "
      ]
     },
     "execution_count": 99,
     "metadata": {},
     "output_type": "execute_result"
    }
   ],
   "source": [
    "df_temp1.head(10)"
   ]
  },
  {
   "cell_type": "code",
   "execution_count": 100,
   "metadata": {},
   "outputs": [],
   "source": [
    "df_temp1.dropna(axis=0,inplace=True)"
   ]
  },
  {
   "cell_type": "code",
   "execution_count": 101,
   "metadata": {},
   "outputs": [
    {
     "name": "stdout",
     "output_type": "stream",
     "text": [
      "R246_R177_00-00-04_68ST-HUNTER CO\n",
      "R246_R177_00-00-04_68ST-HUNTER CO\n"
     ]
    }
   ],
   "source": [
    "# Confirm temp1 and temp2 are equivalent - Good, move on.\n",
    "print(df_temp1.turnstile_id[156050])\n",
    "print(df_temp2.turnstile_id[156050])"
   ]
  },
  {
   "cell_type": "markdown",
   "metadata": {},
   "source": [
    "# 'df_final' with ENTRIES/EXITS counts"
   ]
  },
  {
   "cell_type": "code",
   "execution_count": 102,
   "metadata": {},
   "outputs": [],
   "source": [
    "df_final=df_temp1[['ENTRIES', 'EXITS','turnstile_id','STATION','date', 'DATE_TIME']]"
   ]
  },
  {
   "cell_type": "code",
   "execution_count": 103,
   "metadata": {},
   "outputs": [
    {
     "data": {
      "text/html": [
       "<div>\n",
       "<style scoped>\n",
       "    .dataframe tbody tr th:only-of-type {\n",
       "        vertical-align: middle;\n",
       "    }\n",
       "\n",
       "    .dataframe tbody tr th {\n",
       "        vertical-align: top;\n",
       "    }\n",
       "\n",
       "    .dataframe thead th {\n",
       "        text-align: right;\n",
       "    }\n",
       "</style>\n",
       "<table border=\"1\" class=\"dataframe\">\n",
       "  <thead>\n",
       "    <tr style=\"text-align: right;\">\n",
       "      <th></th>\n",
       "      <th>ENTRIES</th>\n",
       "      <th>EXITS</th>\n",
       "      <th>turnstile_id</th>\n",
       "      <th>STATION</th>\n",
       "      <th>date</th>\n",
       "      <th>DATE_TIME</th>\n",
       "    </tr>\n",
       "  </thead>\n",
       "  <tbody>\n",
       "    <tr>\n",
       "      <th>1</th>\n",
       "      <td>7.0</td>\n",
       "      <td>3.0</td>\n",
       "      <td>A002_R051_02-00-00_59 ST</td>\n",
       "      <td>59 ST</td>\n",
       "      <td>2018-03-31</td>\n",
       "      <td>2018-03-31 04:00:00</td>\n",
       "    </tr>\n",
       "    <tr>\n",
       "      <th>2</th>\n",
       "      <td>0.0</td>\n",
       "      <td>0.0</td>\n",
       "      <td>A002_R051_02-00-00_59 ST</td>\n",
       "      <td>59 ST</td>\n",
       "      <td>2018-03-31</td>\n",
       "      <td>2018-03-31 08:00:00</td>\n",
       "    </tr>\n",
       "    <tr>\n",
       "      <th>3</th>\n",
       "      <td>0.0</td>\n",
       "      <td>2.0</td>\n",
       "      <td>A002_R051_02-00-00_59 ST</td>\n",
       "      <td>59 ST</td>\n",
       "      <td>2018-03-31</td>\n",
       "      <td>2018-03-31 12:00:00</td>\n",
       "    </tr>\n",
       "    <tr>\n",
       "      <th>4</th>\n",
       "      <td>0.0</td>\n",
       "      <td>0.0</td>\n",
       "      <td>A002_R051_02-00-00_59 ST</td>\n",
       "      <td>59 ST</td>\n",
       "      <td>2018-03-31</td>\n",
       "      <td>2018-03-31 16:00:00</td>\n",
       "    </tr>\n",
       "    <tr>\n",
       "      <th>5</th>\n",
       "      <td>0.0</td>\n",
       "      <td>0.0</td>\n",
       "      <td>A002_R051_02-00-00_59 ST</td>\n",
       "      <td>59 ST</td>\n",
       "      <td>2018-03-31</td>\n",
       "      <td>2018-03-31 20:00:00</td>\n",
       "    </tr>\n",
       "  </tbody>\n",
       "</table>\n",
       "</div>"
      ],
      "text/plain": [
       "   ENTRIES  EXITS              turnstile_id STATION       date  \\\n",
       "1      7.0    3.0  A002_R051_02-00-00_59 ST   59 ST 2018-03-31   \n",
       "2      0.0    0.0  A002_R051_02-00-00_59 ST   59 ST 2018-03-31   \n",
       "3      0.0    2.0  A002_R051_02-00-00_59 ST   59 ST 2018-03-31   \n",
       "4      0.0    0.0  A002_R051_02-00-00_59 ST   59 ST 2018-03-31   \n",
       "5      0.0    0.0  A002_R051_02-00-00_59 ST   59 ST 2018-03-31   \n",
       "\n",
       "            DATE_TIME  \n",
       "1 2018-03-31 04:00:00  \n",
       "2 2018-03-31 08:00:00  \n",
       "3 2018-03-31 12:00:00  \n",
       "4 2018-03-31 16:00:00  \n",
       "5 2018-03-31 20:00:00  "
      ]
     },
     "execution_count": 103,
     "metadata": {},
     "output_type": "execute_result"
    }
   ],
   "source": [
    "df_final.head()"
   ]
  },
  {
   "cell_type": "markdown",
   "metadata": {},
   "source": [
    "## Looks OK, check the details..."
   ]
  },
  {
   "cell_type": "code",
   "execution_count": 104,
   "metadata": {},
   "outputs": [
    {
     "data": {
      "text/plain": [
       "'\\nprint(df_final.ENTRIES.describe())\\nprint(df_final.EXITS.describe())\\n'"
      ]
     },
     "execution_count": 104,
     "metadata": {},
     "output_type": "execute_result"
    }
   ],
   "source": [
    "# Mean is negative, which is strange. Given the min val, must be a handful of massively negative outliers\n",
    "'''\n",
    "print(df_final.ENTRIES.describe())\n",
    "print(df_final.EXITS.describe())\n",
    "'''"
   ]
  },
  {
   "cell_type": "markdown",
   "metadata": {},
   "source": [
    "## Hugely negative values...lots of them."
   ]
  },
  {
   "cell_type": "code",
   "execution_count": 105,
   "metadata": {},
   "outputs": [
    {
     "data": {
      "text/plain": [
       "\"\\nneg_en_test = df_final[df_final.ENTRIES < 0]\\nneg_ex_test = df_final[df_final.EXITS < 0]\\nsum_en = neg_en_test.ENTRIES.sum()\\nsum_ex = neg_ex_test.EXITS.sum()\\nprint('negative ENTRIES count: '+str(len(neg_en_test.ENTRIES)))\\nprint('negative EXITS count: '+str(len(neg_ex_test.EXITS)))\\nprint('negative ENTRIES SUM: ' + str(sum_en))\\nprint('negative EXITS SUM: ' + str(sum_ex))\\n\""
      ]
     },
     "execution_count": 105,
     "metadata": {},
     "output_type": "execute_result"
    }
   ],
   "source": [
    "# We know the data is off, so just correct for it in the multi-doc flow...\n",
    "'''\n",
    "neg_en_test = df_final[df_final.ENTRIES < 0]\n",
    "neg_ex_test = df_final[df_final.EXITS < 0]\n",
    "sum_en = neg_en_test.ENTRIES.sum()\n",
    "sum_ex = neg_ex_test.EXITS.sum()\n",
    "print('negative ENTRIES count: '+str(len(neg_en_test.ENTRIES)))\n",
    "print('negative EXITS count: '+str(len(neg_ex_test.EXITS)))\n",
    "print('negative ENTRIES SUM: ' + str(sum_en))\n",
    "print('negative EXITS SUM: ' + str(sum_ex))\n",
    "'''"
   ]
  },
  {
   "cell_type": "code",
   "execution_count": 106,
   "metadata": {},
   "outputs": [
    {
     "name": "stderr",
     "output_type": "stream",
     "text": [
      "/Users/jas/anaconda3/lib/python3.6/site-packages/ipykernel_launcher.py:9: SettingWithCopyWarning: \n",
      "A value is trying to be set on a copy of a slice from a DataFrame.\n",
      "Try using .loc[row_indexer,col_indexer] = value instead\n",
      "\n",
      "See the caveats in the documentation: http://pandas.pydata.org/pandas-docs/stable/indexing.html#indexing-view-versus-copy\n",
      "  if __name__ == '__main__':\n",
      "/Users/jas/anaconda3/lib/python3.6/site-packages/ipykernel_launcher.py:10: SettingWithCopyWarning: \n",
      "A value is trying to be set on a copy of a slice from a DataFrame.\n",
      "Try using .loc[row_indexer,col_indexer] = value instead\n",
      "\n",
      "See the caveats in the documentation: http://pandas.pydata.org/pandas-docs/stable/indexing.html#indexing-view-versus-copy\n",
      "  # Remove the CWD from sys.path while we load stuff.\n"
     ]
    }
   ],
   "source": [
    "# removing the negatives with new DF... 'nn_df_final' (non-negative_df_final)\n",
    "#df_final['nn_entries'] = [abs(x) for x in df_final.ENTRIES]\n",
    "#df_final['nn_exits'] = [abs(x) for x in df_final.EXITS]\n",
    "\n",
    "# build the lists...\n",
    "nn_entries_list = [abs(x) for x in df_final.ENTRIES]\n",
    "nn_exits_list = [abs(x) for x in df_final.EXITS]\n",
    "# throw them in df_final as columns...\n",
    "df_final['nn_entries'] = nn_entries_list\n",
    "df_final['nn_exits'] = nn_exits_list\n",
    "# df_final.describe() # confirms cleaning has been performed\n"
   ]
  },
  {
   "cell_type": "code",
   "execution_count": 107,
   "metadata": {},
   "outputs": [
    {
     "data": {
      "text/html": [
       "<div>\n",
       "<style scoped>\n",
       "    .dataframe tbody tr th:only-of-type {\n",
       "        vertical-align: middle;\n",
       "    }\n",
       "\n",
       "    .dataframe tbody tr th {\n",
       "        vertical-align: top;\n",
       "    }\n",
       "\n",
       "    .dataframe thead th {\n",
       "        text-align: right;\n",
       "    }\n",
       "</style>\n",
       "<table border=\"1\" class=\"dataframe\">\n",
       "  <thead>\n",
       "    <tr style=\"text-align: right;\">\n",
       "      <th></th>\n",
       "      <th>turnstile_id</th>\n",
       "      <th>STATION</th>\n",
       "      <th>date</th>\n",
       "      <th>DATE_TIME</th>\n",
       "      <th>nn99_entries</th>\n",
       "      <th>nn99_exits</th>\n",
       "    </tr>\n",
       "  </thead>\n",
       "  <tbody>\n",
       "    <tr>\n",
       "      <th>1</th>\n",
       "      <td>A002_R051_02-00-00_59 ST</td>\n",
       "      <td>59 ST</td>\n",
       "      <td>2018-03-31</td>\n",
       "      <td>2018-03-31 04:00:00</td>\n",
       "      <td>7.0</td>\n",
       "      <td>3.0</td>\n",
       "    </tr>\n",
       "    <tr>\n",
       "      <th>2</th>\n",
       "      <td>A002_R051_02-00-00_59 ST</td>\n",
       "      <td>59 ST</td>\n",
       "      <td>2018-03-31</td>\n",
       "      <td>2018-03-31 08:00:00</td>\n",
       "      <td>0.0</td>\n",
       "      <td>0.0</td>\n",
       "    </tr>\n",
       "    <tr>\n",
       "      <th>3</th>\n",
       "      <td>A002_R051_02-00-00_59 ST</td>\n",
       "      <td>59 ST</td>\n",
       "      <td>2018-03-31</td>\n",
       "      <td>2018-03-31 12:00:00</td>\n",
       "      <td>0.0</td>\n",
       "      <td>2.0</td>\n",
       "    </tr>\n",
       "    <tr>\n",
       "      <th>4</th>\n",
       "      <td>A002_R051_02-00-00_59 ST</td>\n",
       "      <td>59 ST</td>\n",
       "      <td>2018-03-31</td>\n",
       "      <td>2018-03-31 16:00:00</td>\n",
       "      <td>0.0</td>\n",
       "      <td>0.0</td>\n",
       "    </tr>\n",
       "    <tr>\n",
       "      <th>5</th>\n",
       "      <td>A002_R051_02-00-00_59 ST</td>\n",
       "      <td>59 ST</td>\n",
       "      <td>2018-03-31</td>\n",
       "      <td>2018-03-31 20:00:00</td>\n",
       "      <td>0.0</td>\n",
       "      <td>0.0</td>\n",
       "    </tr>\n",
       "  </tbody>\n",
       "</table>\n",
       "</div>"
      ],
      "text/plain": [
       "               turnstile_id STATION       date           DATE_TIME  \\\n",
       "1  A002_R051_02-00-00_59 ST   59 ST 2018-03-31 2018-03-31 04:00:00   \n",
       "2  A002_R051_02-00-00_59 ST   59 ST 2018-03-31 2018-03-31 08:00:00   \n",
       "3  A002_R051_02-00-00_59 ST   59 ST 2018-03-31 2018-03-31 12:00:00   \n",
       "4  A002_R051_02-00-00_59 ST   59 ST 2018-03-31 2018-03-31 16:00:00   \n",
       "5  A002_R051_02-00-00_59 ST   59 ST 2018-03-31 2018-03-31 20:00:00   \n",
       "\n",
       "   nn99_entries  nn99_exits  \n",
       "1           7.0         3.0  \n",
       "2           0.0         0.0  \n",
       "3           0.0         2.0  \n",
       "4           0.0         0.0  \n",
       "5           0.0         0.0  "
      ]
     },
     "execution_count": 107,
     "metadata": {},
     "output_type": "execute_result"
    }
   ],
   "source": [
    "# remove anything above or below 99% quantile.\n",
    "en_q99 = df_final['nn_entries'].quantile(0.99)\n",
    "ex_q99 = df_final['nn_exits'].quantile(0.99)\n",
    "\n",
    "#df_final_c = df_final[(df_final['nn_entries'] < en_q99) & (df_final['nn_exits'] < ex_q99)]\n",
    "#df_final_c.drop(['ENTRIES','EXITS'], axis=1)\n",
    "\n",
    "df_final_c = df_final[(df_final['nn_entries'] < en_q99) & (df_final['nn_exits'] < ex_q99)].drop(['ENTRIES','EXITS'], axis=1)\n",
    "df_final_c.rename(columns={'nn_entries': 'nn99_entries', 'nn_exits': 'nn99_exits'}, inplace=True)\n",
    "df_final_c.head()"
   ]
  },
  {
   "cell_type": "markdown",
   "metadata": {},
   "source": [
    "# use 'df_final'"
   ]
  },
  {
   "cell_type": "code",
   "execution_count": 108,
   "metadata": {},
   "outputs": [
    {
     "name": "stdout",
     "output_type": "stream",
     "text": [
      "Index(['turnstile_id', 'STATION', 'date', 'DATE_TIME', 'nn99_entries',\n",
      "       'nn99_exits'],\n",
      "      dtype='object')\n",
      "Int64Index([     1,      2,      3,      4,      5,      7,      8,      9,\n",
      "                10,     11,\n",
      "            ...\n",
      "            196977, 196978, 196979, 196980, 196981, 196983, 196984, 196985,\n",
      "            196986, 196987],\n",
      "           dtype='int64', length=160822)\n"
     ]
    }
   ],
   "source": [
    "# df_final_c --> negative counts removed, highest 1% of entries/exits discarded as outliers.\n",
    "print(df_final_c.columns)\n",
    "print(df_final_c.index)"
   ]
  },
  {
   "cell_type": "code",
   "execution_count": 115,
   "metadata": {},
   "outputs": [
    {
     "data": {
      "text/html": [
       "<div>\n",
       "<style scoped>\n",
       "    .dataframe tbody tr th:only-of-type {\n",
       "        vertical-align: middle;\n",
       "    }\n",
       "\n",
       "    .dataframe tbody tr th {\n",
       "        vertical-align: top;\n",
       "    }\n",
       "\n",
       "    .dataframe thead th {\n",
       "        text-align: right;\n",
       "    }\n",
       "</style>\n",
       "<table border=\"1\" class=\"dataframe\">\n",
       "  <thead>\n",
       "    <tr style=\"text-align: right;\">\n",
       "      <th></th>\n",
       "      <th>STATION</th>\n",
       "      <th>date</th>\n",
       "      <th>turnstile_id</th>\n",
       "      <th>nn99_entries</th>\n",
       "      <th>nn99_exits</th>\n",
       "      <th>day_of_week</th>\n",
       "    </tr>\n",
       "  </thead>\n",
       "  <tbody>\n",
       "    <tr>\n",
       "      <th>193987</th>\n",
       "      <td>FLATBUSH AV-B.C</td>\n",
       "      <td>2018-04-05</td>\n",
       "      <td>R645_R110_00-05-00_FLATBUSH AV-B.C</td>\n",
       "      <td>0.0</td>\n",
       "      <td>0.0</td>\n",
       "      <td>Thursday</td>\n",
       "    </tr>\n",
       "    <tr>\n",
       "      <th>80051</th>\n",
       "      <td>JKSN HT-ROOSVLT</td>\n",
       "      <td>2018-04-01</td>\n",
       "      <td>N324_R018_00-06-02_JKSN HT-ROOSVLT</td>\n",
       "      <td>600.0</td>\n",
       "      <td>137.0</td>\n",
       "      <td>Sunday</td>\n",
       "    </tr>\n",
       "    <tr>\n",
       "      <th>16077</th>\n",
       "      <td>AVENUE J</td>\n",
       "      <td>2018-04-05</td>\n",
       "      <td>B021_R228_00-03-00_AVENUE J</td>\n",
       "      <td>15.0</td>\n",
       "      <td>179.0</td>\n",
       "      <td>Thursday</td>\n",
       "    </tr>\n",
       "    <tr>\n",
       "      <th>15087</th>\n",
       "      <td>NEWKIRK PLAZA</td>\n",
       "      <td>2018-04-01</td>\n",
       "      <td>B019_R149_00-00-02_NEWKIRK PLAZA</td>\n",
       "      <td>126.0</td>\n",
       "      <td>279.0</td>\n",
       "      <td>Sunday</td>\n",
       "    </tr>\n",
       "    <tr>\n",
       "      <th>128249</th>\n",
       "      <td>14 ST</td>\n",
       "      <td>2018-04-03</td>\n",
       "      <td>R128_R105_01-03-02_14 ST</td>\n",
       "      <td>38.0</td>\n",
       "      <td>6.0</td>\n",
       "      <td>Tuesday</td>\n",
       "    </tr>\n",
       "    <tr>\n",
       "      <th>33212</th>\n",
       "      <td>HALSEY ST</td>\n",
       "      <td>2018-04-02</td>\n",
       "      <td>H028_R266_00-00-00_HALSEY ST</td>\n",
       "      <td>546.0</td>\n",
       "      <td>116.0</td>\n",
       "      <td>Monday</td>\n",
       "    </tr>\n",
       "    <tr>\n",
       "      <th>93844</th>\n",
       "      <td>42 ST-BRYANT PK</td>\n",
       "      <td>2018-03-31</td>\n",
       "      <td>N504_R021_02-06-01_42 ST-BRYANT PK</td>\n",
       "      <td>16.0</td>\n",
       "      <td>49.0</td>\n",
       "      <td>Saturday</td>\n",
       "    </tr>\n",
       "    <tr>\n",
       "      <th>32649</th>\n",
       "      <td>DEKALB AV</td>\n",
       "      <td>2018-04-05</td>\n",
       "      <td>H023_R236_00-06-02_DEKALB AV</td>\n",
       "      <td>196.0</td>\n",
       "      <td>90.0</td>\n",
       "      <td>Thursday</td>\n",
       "    </tr>\n",
       "    <tr>\n",
       "      <th>43129</th>\n",
       "      <td>145 ST</td>\n",
       "      <td>2018-04-05</td>\n",
       "      <td>N020_R101_00-00-00_145 ST</td>\n",
       "      <td>835.0</td>\n",
       "      <td>474.0</td>\n",
       "      <td>Thursday</td>\n",
       "    </tr>\n",
       "    <tr>\n",
       "      <th>34038</th>\n",
       "      <td>SUTTER AV</td>\n",
       "      <td>2018-03-31</td>\n",
       "      <td>H037_R349_00-00-01_SUTTER AV</td>\n",
       "      <td>31.0</td>\n",
       "      <td>20.0</td>\n",
       "      <td>Saturday</td>\n",
       "    </tr>\n",
       "    <tr>\n",
       "      <th>99220</th>\n",
       "      <td>EAST BROADWAY</td>\n",
       "      <td>2018-04-01</td>\n",
       "      <td>N529_R257_00-00-01_EAST BROADWAY</td>\n",
       "      <td>44.0</td>\n",
       "      <td>24.0</td>\n",
       "      <td>Sunday</td>\n",
       "    </tr>\n",
       "    <tr>\n",
       "      <th>195066</th>\n",
       "      <td>BAYCHESTER AV</td>\n",
       "      <td>2018-04-03</td>\n",
       "      <td>R729_R292_00-00-02_BAYCHESTER AV</td>\n",
       "      <td>203.0</td>\n",
       "      <td>26.0</td>\n",
       "      <td>Tuesday</td>\n",
       "    </tr>\n",
       "    <tr>\n",
       "      <th>136857</th>\n",
       "      <td>86 ST</td>\n",
       "      <td>2018-04-04</td>\n",
       "      <td>R165_R167_01-00-03_86 ST</td>\n",
       "      <td>339.0</td>\n",
       "      <td>568.0</td>\n",
       "      <td>Wednesday</td>\n",
       "    </tr>\n",
       "    <tr>\n",
       "      <th>100122</th>\n",
       "      <td>CARROLL ST</td>\n",
       "      <td>2018-04-04</td>\n",
       "      <td>N534_R220_01-06-00_CARROLL ST</td>\n",
       "      <td>193.0</td>\n",
       "      <td>94.0</td>\n",
       "      <td>Wednesday</td>\n",
       "    </tr>\n",
       "    <tr>\n",
       "      <th>26358</th>\n",
       "      <td>FT HAMILTON PKY</td>\n",
       "      <td>2018-04-06</td>\n",
       "      <td>E003_R369_00-00-02_FT HAMILTON PKY</td>\n",
       "      <td>111.0</td>\n",
       "      <td>22.0</td>\n",
       "      <td>Friday</td>\n",
       "    </tr>\n",
       "    <tr>\n",
       "      <th>130482</th>\n",
       "      <td>34 ST-PENN STA</td>\n",
       "      <td>2018-04-04</td>\n",
       "      <td>R139_R031_04-00-01_34 ST-PENN STA</td>\n",
       "      <td>109.0</td>\n",
       "      <td>17.0</td>\n",
       "      <td>Wednesday</td>\n",
       "    </tr>\n",
       "    <tr>\n",
       "      <th>25512</th>\n",
       "      <td>BAY PKWY</td>\n",
       "      <td>2018-04-05</td>\n",
       "      <td>D011_R394_01-06-00_BAY PKWY</td>\n",
       "      <td>616.0</td>\n",
       "      <td>34.0</td>\n",
       "      <td>Thursday</td>\n",
       "    </tr>\n",
       "    <tr>\n",
       "      <th>137342</th>\n",
       "      <td>96 ST</td>\n",
       "      <td>2018-04-01</td>\n",
       "      <td>R169_R168_01-00-00_96 ST</td>\n",
       "      <td>163.0</td>\n",
       "      <td>145.0</td>\n",
       "      <td>Sunday</td>\n",
       "    </tr>\n",
       "    <tr>\n",
       "      <th>61965</th>\n",
       "      <td>NOSTRAND AV</td>\n",
       "      <td>2018-04-06</td>\n",
       "      <td>N116_R198_00-03-01_NOSTRAND AV</td>\n",
       "      <td>630.0</td>\n",
       "      <td>371.0</td>\n",
       "      <td>Friday</td>\n",
       "    </tr>\n",
       "    <tr>\n",
       "      <th>115067</th>\n",
       "      <td>CITY / BUS</td>\n",
       "      <td>2018-04-06</td>\n",
       "      <td>PTH07_R550_00-01-05_CITY / BUS</td>\n",
       "      <td>37.0</td>\n",
       "      <td>0.0</td>\n",
       "      <td>Friday</td>\n",
       "    </tr>\n",
       "  </tbody>\n",
       "</table>\n",
       "</div>"
      ],
      "text/plain": [
       "                STATION       date                        turnstile_id  \\\n",
       "193987  FLATBUSH AV-B.C 2018-04-05  R645_R110_00-05-00_FLATBUSH AV-B.C   \n",
       "80051   JKSN HT-ROOSVLT 2018-04-01  N324_R018_00-06-02_JKSN HT-ROOSVLT   \n",
       "16077          AVENUE J 2018-04-05         B021_R228_00-03-00_AVENUE J   \n",
       "15087     NEWKIRK PLAZA 2018-04-01    B019_R149_00-00-02_NEWKIRK PLAZA   \n",
       "128249            14 ST 2018-04-03            R128_R105_01-03-02_14 ST   \n",
       "33212         HALSEY ST 2018-04-02        H028_R266_00-00-00_HALSEY ST   \n",
       "93844   42 ST-BRYANT PK 2018-03-31  N504_R021_02-06-01_42 ST-BRYANT PK   \n",
       "32649         DEKALB AV 2018-04-05        H023_R236_00-06-02_DEKALB AV   \n",
       "43129            145 ST 2018-04-05           N020_R101_00-00-00_145 ST   \n",
       "34038         SUTTER AV 2018-03-31        H037_R349_00-00-01_SUTTER AV   \n",
       "99220     EAST BROADWAY 2018-04-01    N529_R257_00-00-01_EAST BROADWAY   \n",
       "195066    BAYCHESTER AV 2018-04-03    R729_R292_00-00-02_BAYCHESTER AV   \n",
       "136857            86 ST 2018-04-04            R165_R167_01-00-03_86 ST   \n",
       "100122       CARROLL ST 2018-04-04       N534_R220_01-06-00_CARROLL ST   \n",
       "26358   FT HAMILTON PKY 2018-04-06  E003_R369_00-00-02_FT HAMILTON PKY   \n",
       "130482   34 ST-PENN STA 2018-04-04   R139_R031_04-00-01_34 ST-PENN STA   \n",
       "25512          BAY PKWY 2018-04-05         D011_R394_01-06-00_BAY PKWY   \n",
       "137342            96 ST 2018-04-01            R169_R168_01-00-00_96 ST   \n",
       "61965       NOSTRAND AV 2018-04-06      N116_R198_00-03-01_NOSTRAND AV   \n",
       "115067       CITY / BUS 2018-04-06      PTH07_R550_00-01-05_CITY / BUS   \n",
       "\n",
       "        nn99_entries  nn99_exits day_of_week  \n",
       "193987           0.0         0.0    Thursday  \n",
       "80051          600.0       137.0      Sunday  \n",
       "16077           15.0       179.0    Thursday  \n",
       "15087          126.0       279.0      Sunday  \n",
       "128249          38.0         6.0     Tuesday  \n",
       "33212          546.0       116.0      Monday  \n",
       "93844           16.0        49.0    Saturday  \n",
       "32649          196.0        90.0    Thursday  \n",
       "43129          835.0       474.0    Thursday  \n",
       "34038           31.0        20.0    Saturday  \n",
       "99220           44.0        24.0      Sunday  \n",
       "195066         203.0        26.0     Tuesday  \n",
       "136857         339.0       568.0   Wednesday  \n",
       "100122         193.0        94.0   Wednesday  \n",
       "26358          111.0        22.0      Friday  \n",
       "130482         109.0        17.0   Wednesday  \n",
       "25512          616.0        34.0    Thursday  \n",
       "137342         163.0       145.0      Sunday  \n",
       "61965          630.0       371.0      Friday  \n",
       "115067          37.0         0.0      Friday  "
      ]
     },
     "execution_count": 115,
     "metadata": {},
     "output_type": "execute_result"
    }
   ],
   "source": [
    "df_final_date = df_final_c[['STATION', 'date', 'turnstile_id', 'nn99_entries', 'nn99_exits']] # cut DATE_TIME out here..\n",
    "df_final_date['day_of_week'] = df_final_date['date'].dt.weekday_name\n",
    "df_final_date.sample(20)"
   ]
  },
  {
   "cell_type": "markdown",
   "metadata": {},
   "source": [
    "# This is where multi-weeks could get tricky..."
   ]
  },
  {
   "cell_type": "markdown",
   "metadata": {},
   "source": [
    "### Build df to summarize stations by DATE"
   ]
  },
  {
   "cell_type": "code",
   "execution_count": 110,
   "metadata": {},
   "outputs": [
    {
     "data": {
      "text/plain": [
       "Int64Index([     1,      2,      3,      4,      5,      7,      8,      9,\n",
       "                10,     11,\n",
       "            ...\n",
       "            196977, 196978, 196979, 196980, 196981, 196983, 196984, 196985,\n",
       "            196986, 196987],\n",
       "           dtype='int64', length=160822)"
      ]
     },
     "execution_count": 110,
     "metadata": {},
     "output_type": "execute_result"
    }
   ],
   "source": [
    "#df_final_date = df_final_date.set_index('date')\n",
    "df_final_date.index"
   ]
  },
  {
   "cell_type": "markdown",
   "metadata": {},
   "source": [
    "## Below is final(ish) data for week of April 07, by STATION, by weekday"
   ]
  },
  {
   "cell_type": "code",
   "execution_count": 111,
   "metadata": {
    "scrolled": true
   },
   "outputs": [
    {
     "name": "stdout",
     "output_type": "stream",
     "text": [
      "  STATION       date  nn99_entries  nn99_exits day_of_week\n",
      "0    1 AV 2018-03-31       12327.0     13248.0    Saturday\n",
      "1    1 AV 2018-04-01        9766.0     11258.0      Sunday\n",
      "2    1 AV 2018-04-02       11995.0     12169.0      Monday\n",
      "3    1 AV 2018-04-03       10583.0     12106.0     Tuesday\n",
      "4    1 AV 2018-04-04       10791.0     12052.0   Wednesday\n",
      "<class 'pandas.core.frame.DataFrame'>\n",
      "RangeIndex: 2604 entries, 0 to 2603\n",
      "Data columns (total 5 columns):\n",
      "STATION         2604 non-null object\n",
      "date            2604 non-null datetime64[ns]\n",
      "nn99_entries    2604 non-null float64\n",
      "nn99_exits      2604 non-null float64\n",
      "day_of_week     2604 non-null object\n",
      "dtypes: datetime64[ns](1), float64(2), object(2)\n",
      "memory usage: 101.8+ KB\n",
      "None\n"
     ]
    }
   ],
   "source": [
    "df_final_date = df_final_date.groupby(['STATION', 'date'])[['nn99_entries', 'nn99_exits']].sum()\n",
    "df_final_date.reset_index(inplace=True)\n",
    "df_final_date['day_of_week'] = df_final_date['date'].dt.weekday_name\n",
    "#df_final_date.sort_values(by=['STATION', 'day_of_week'])\n",
    "print(df_final_date.head())\n",
    "print(df_final_date.info()) # 1st week data... 2603 rows. Check with multi-weeks"
   ]
  },
  {
   "cell_type": "code",
   "execution_count": null,
   "metadata": {},
   "outputs": [],
   "source": [
    "# to csv for Tableau / visualizations"
   ]
  },
  {
   "cell_type": "code",
   "execution_count": 116,
   "metadata": {},
   "outputs": [],
   "source": [
    "df_final_date.to_csv('cleanwk_apr07.csv')"
   ]
  },
  {
   "cell_type": "code",
   "execution_count": 112,
   "metadata": {},
   "outputs": [
    {
     "ename": "TypeError",
     "evalue": "Only valid with DatetimeIndex, TimedeltaIndex or PeriodIndex, but got an instance of 'RangeIndex'",
     "output_type": "error",
     "traceback": [
      "\u001b[0;31m---------------------------------------------------------------------------\u001b[0m",
      "\u001b[0;31mTypeError\u001b[0m                                 Traceback (most recent call last)",
      "\u001b[0;32m<ipython-input-112-e2a1da4b12e0>\u001b[0m in \u001b[0;36m<module>\u001b[0;34m()\u001b[0m\n\u001b[1;32m      1\u001b[0m \u001b[0;31m# trial 1 to see if resampling of multiple datasets is functional\u001b[0m\u001b[0;34m\u001b[0m\u001b[0;34m\u001b[0m\u001b[0m\n\u001b[1;32m      2\u001b[0m \u001b[0;31m#df_final_date = df_final_date.set_index('date')\u001b[0m\u001b[0;34m\u001b[0m\u001b[0;34m\u001b[0m\u001b[0m\n\u001b[0;32m----> 3\u001b[0;31m \u001b[0mdf_final_date\u001b[0m\u001b[0;34m.\u001b[0m\u001b[0mdate\u001b[0m\u001b[0;34m.\u001b[0m\u001b[0mresample\u001b[0m\u001b[0;34m(\u001b[0m\u001b[0;34m'D'\u001b[0m\u001b[0;34m)\u001b[0m\u001b[0;34m.\u001b[0m\u001b[0mmean\u001b[0m\u001b[0;34m(\u001b[0m\u001b[0;34m)\u001b[0m\u001b[0;34m\u001b[0m\u001b[0m\n\u001b[0m\u001b[1;32m      4\u001b[0m \u001b[0mdf_final_date\u001b[0m\u001b[0;34m.\u001b[0m\u001b[0mgroupby\u001b[0m\u001b[0;34m(\u001b[0m\u001b[0;34m'STATION'\u001b[0m\u001b[0;34m)\u001b[0m\u001b[0;34m.\u001b[0m\u001b[0mresample\u001b[0m\u001b[0;34m(\u001b[0m\u001b[0;34m'D'\u001b[0m\u001b[0;34m)\u001b[0m\u001b[0;34m.\u001b[0m\u001b[0mmean\u001b[0m\u001b[0;34m(\u001b[0m\u001b[0;34m)\u001b[0m \u001b[0;31m# <<---- this is the key to averaging, not adding, each data set\u001b[0m\u001b[0;34m\u001b[0m\u001b[0m\n\u001b[1;32m      5\u001b[0m \u001b[0mprint\u001b[0m\u001b[0;34m(\u001b[0m\u001b[0mdf_final_date\u001b[0m\u001b[0;34m.\u001b[0m\u001b[0minfo\u001b[0m\u001b[0;34m(\u001b[0m\u001b[0;34m)\u001b[0m\u001b[0;34m)\u001b[0m\u001b[0;34m\u001b[0m\u001b[0m\n",
      "\u001b[0;32m~/anaconda3/lib/python3.6/site-packages/pandas/core/generic.py\u001b[0m in \u001b[0;36mresample\u001b[0;34m(self, rule, how, axis, fill_method, closed, label, convention, kind, loffset, limit, base, on, level)\u001b[0m\n\u001b[1;32m   5520\u001b[0m                      \u001b[0maxis\u001b[0m\u001b[0;34m=\u001b[0m\u001b[0maxis\u001b[0m\u001b[0;34m,\u001b[0m \u001b[0mkind\u001b[0m\u001b[0;34m=\u001b[0m\u001b[0mkind\u001b[0m\u001b[0;34m,\u001b[0m \u001b[0mloffset\u001b[0m\u001b[0;34m=\u001b[0m\u001b[0mloffset\u001b[0m\u001b[0;34m,\u001b[0m\u001b[0;34m\u001b[0m\u001b[0m\n\u001b[1;32m   5521\u001b[0m                      \u001b[0mconvention\u001b[0m\u001b[0;34m=\u001b[0m\u001b[0mconvention\u001b[0m\u001b[0;34m,\u001b[0m\u001b[0;34m\u001b[0m\u001b[0m\n\u001b[0;32m-> 5522\u001b[0;31m                      base=base, key=on, level=level)\n\u001b[0m\u001b[1;32m   5523\u001b[0m         return _maybe_process_deprecations(r,\n\u001b[1;32m   5524\u001b[0m                                            \u001b[0mhow\u001b[0m\u001b[0;34m=\u001b[0m\u001b[0mhow\u001b[0m\u001b[0;34m,\u001b[0m\u001b[0;34m\u001b[0m\u001b[0m\n",
      "\u001b[0;32m~/anaconda3/lib/python3.6/site-packages/pandas/core/resample.py\u001b[0m in \u001b[0;36mresample\u001b[0;34m(obj, kind, **kwds)\u001b[0m\n\u001b[1;32m    997\u001b[0m     \u001b[0;34m\"\"\" create a TimeGrouper and return our resampler \"\"\"\u001b[0m\u001b[0;34m\u001b[0m\u001b[0m\n\u001b[1;32m    998\u001b[0m     \u001b[0mtg\u001b[0m \u001b[0;34m=\u001b[0m \u001b[0mTimeGrouper\u001b[0m\u001b[0;34m(\u001b[0m\u001b[0;34m**\u001b[0m\u001b[0mkwds\u001b[0m\u001b[0;34m)\u001b[0m\u001b[0;34m\u001b[0m\u001b[0m\n\u001b[0;32m--> 999\u001b[0;31m     \u001b[0;32mreturn\u001b[0m \u001b[0mtg\u001b[0m\u001b[0;34m.\u001b[0m\u001b[0m_get_resampler\u001b[0m\u001b[0;34m(\u001b[0m\u001b[0mobj\u001b[0m\u001b[0;34m,\u001b[0m \u001b[0mkind\u001b[0m\u001b[0;34m=\u001b[0m\u001b[0mkind\u001b[0m\u001b[0;34m)\u001b[0m\u001b[0;34m\u001b[0m\u001b[0m\n\u001b[0m\u001b[1;32m   1000\u001b[0m \u001b[0;34m\u001b[0m\u001b[0m\n\u001b[1;32m   1001\u001b[0m \u001b[0;34m\u001b[0m\u001b[0m\n",
      "\u001b[0;32m~/anaconda3/lib/python3.6/site-packages/pandas/core/resample.py\u001b[0m in \u001b[0;36m_get_resampler\u001b[0;34m(self, obj, kind)\u001b[0m\n\u001b[1;32m   1114\u001b[0m         raise TypeError(\"Only valid with DatetimeIndex, \"\n\u001b[1;32m   1115\u001b[0m                         \u001b[0;34m\"TimedeltaIndex or PeriodIndex, \"\u001b[0m\u001b[0;34m\u001b[0m\u001b[0m\n\u001b[0;32m-> 1116\u001b[0;31m                         \"but got an instance of %r\" % type(ax).__name__)\n\u001b[0m\u001b[1;32m   1117\u001b[0m \u001b[0;34m\u001b[0m\u001b[0m\n\u001b[1;32m   1118\u001b[0m     \u001b[0;32mdef\u001b[0m \u001b[0m_get_grouper\u001b[0m\u001b[0;34m(\u001b[0m\u001b[0mself\u001b[0m\u001b[0;34m,\u001b[0m \u001b[0mobj\u001b[0m\u001b[0;34m,\u001b[0m \u001b[0mvalidate\u001b[0m\u001b[0;34m=\u001b[0m\u001b[0;32mTrue\u001b[0m\u001b[0;34m)\u001b[0m\u001b[0;34m:\u001b[0m\u001b[0;34m\u001b[0m\u001b[0m\n",
      "\u001b[0;31mTypeError\u001b[0m: Only valid with DatetimeIndex, TimedeltaIndex or PeriodIndex, but got an instance of 'RangeIndex'"
     ]
    }
   ],
   "source": [
    "# trial 1 to see if resampling of multiple datasets is functional\n",
    "#df_final_date = df_final_date.set_index('date')\n",
    "df_final_date.date.resample('D').mean()\n",
    "df_final_date.groupby('STATION').resample('D').mean() # <<---- this is the key to averaging, not adding, each data set\n",
    "print(df_final_date.info())\n",
    "print(df_final_date.head())"
   ]
  },
  {
   "cell_type": "code",
   "execution_count": null,
   "metadata": {},
   "outputs": [],
   "source": []
  },
  {
   "cell_type": "markdown",
   "metadata": {},
   "source": [
    "### Build df to summarize stations by DATE_TIME"
   ]
  },
  {
   "cell_type": "code",
   "execution_count": null,
   "metadata": {
    "scrolled": true
   },
   "outputs": [],
   "source": [
    "df_final_datetime = df_final_c[['DATE_TIME', 'STATION', 'nn99_entries', 'nn99_exits', 'turnstile_id']]\n",
    "df_final_datetime = df_final_datetime.groupby(['STATION', 'DATE_TIME'])[['nn99_entries','nn99_exits']].sum()\n",
    "df_final_datetime.reset_index(inplace=True)\n",
    "df_final_datetime.sample(10)\n"
   ]
  },
  {
   "cell_type": "markdown",
   "metadata": {},
   "source": [
    "## top 10 stations"
   ]
  },
  {
   "cell_type": "code",
   "execution_count": null,
   "metadata": {
    "scrolled": true
   },
   "outputs": [],
   "source": [
    "top10_stations = df_final_datetime.groupby('STATION')[['nn99_entries','nn99_exits']].sum()\n",
    "top10_stations.sort_values('nn99_entries', ascending=False, inplace=True)\n",
    "top10_list = top10_stations.index[:10]\n",
    "top10_list"
   ]
  },
  {
   "cell_type": "markdown",
   "metadata": {},
   "source": [
    "## Resampling..."
   ]
  },
  {
   "cell_type": "code",
   "execution_count": null,
   "metadata": {},
   "outputs": [],
   "source": [
    "#df_final_datetime.DATE_TIME.resample('H')\n",
    "#hourly_counts = df_final_datetime.DATE_TIME.DatetimeIndex.resample('H', how='mean')"
   ]
  },
  {
   "cell_type": "code",
   "execution_count": null,
   "metadata": {
    "scrolled": false
   },
   "outputs": [],
   "source": [
    "df_final_datetime_dti = df_final_datetime.set_index('DATE_TIME')\n",
    "df_final_datetime_dti.index"
   ]
  },
  {
   "cell_type": "markdown",
   "metadata": {},
   "source": [
    "## Good until here --> keep going!"
   ]
  },
  {
   "cell_type": "code",
   "execution_count": null,
   "metadata": {},
   "outputs": [],
   "source": [
    "dti_re = df_final_datetime_dti.resample('H')\n",
    "dti_re"
   ]
  },
  {
   "cell_type": "code",
   "execution_count": null,
   "metadata": {},
   "outputs": [],
   "source": [
    "df_final_datetime_dti.backfill()"
   ]
  },
  {
   "cell_type": "code",
   "execution_count": null,
   "metadata": {},
   "outputs": [],
   "source": [
    "# https://pandas.pydata.org/pandas-docs/stable/generated/pandas.core.resample.Resampler.aggregate.html\n",
    "''' upsampled = series.resample('D')\n",
    "    interpolated = upsampled.interpolate(method='spline', order=2)\n",
    "'''\n",
    "dti_re.agg({'STATIONS': lambda x: x in x, 'nn99_entries': lambda x: x/4, 'nn99_exits': lambda x: x/4})"
   ]
  },
  {
   "cell_type": "markdown",
   "metadata": {},
   "source": [
    "## testing resampling processes...\n",
    "- 1. use lambda function within resampled series to define what exactly to do with other column values\n",
    "- 2. cut resampled info out to build it, then rematch it to dataframe with merge/join/other???"
   ]
  },
  {
   "cell_type": "markdown",
   "metadata": {},
   "source": [
    "## Now to visualize..."
   ]
  },
  {
   "cell_type": "markdown",
   "metadata": {},
   "source": [
    "# - BONUS - We can drill into specific stations for visuals, if wanted / needed..."
   ]
  },
  {
   "cell_type": "code",
   "execution_count": null,
   "metadata": {},
   "outputs": [],
   "source": [
    "df_59st = df_final_datetime[df_final_datetime.STATION == '59 ST']\n",
    "df_59st.sample(10)"
   ]
  },
  {
   "cell_type": "code",
   "execution_count": null,
   "metadata": {},
   "outputs": [],
   "source": [
    "#df_59st.groupby('day_of_week')[['ENTRIES','EXITS']].sum()"
   ]
  },
  {
   "cell_type": "code",
   "execution_count": null,
   "metadata": {
    "scrolled": true
   },
   "outputs": [],
   "source": [
    "kelly_df = df_final_datetime.groupby(['STATION', 'date'], as_index=False).sum()\n",
    "kelly_df.set_index('STATION', inplace=True)\n",
    "kelly_df.sample(50)"
   ]
  },
  {
   "cell_type": "code",
   "execution_count": null,
   "metadata": {},
   "outputs": [],
   "source": [
    "#kelly_df.to_csv(r'\\Users\\jas\\Desktop\\jstationcsv.csv')"
   ]
  }
 ],
 "metadata": {
  "kernelspec": {
   "display_name": "Python 3",
   "language": "python",
   "name": "python3"
  },
  "language_info": {
   "codemirror_mode": {
    "name": "ipython",
    "version": 3
   },
   "file_extension": ".py",
   "mimetype": "text/x-python",
   "name": "python",
   "nbconvert_exporter": "python",
   "pygments_lexer": "ipython3",
   "version": "3.6.4"
  }
 },
 "nbformat": 4,
 "nbformat_minor": 2
}
