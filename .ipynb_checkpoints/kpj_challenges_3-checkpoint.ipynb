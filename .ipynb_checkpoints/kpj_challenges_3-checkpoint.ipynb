{
 "cells": [
  {
   "cell_type": "markdown",
   "metadata": {},
   "source": [
    "## Notes, resources, other..."
   ]
  },
  {
   "cell_type": "code",
   "execution_count": 1,
   "metadata": {},
   "outputs": [
    {
     "data": {
      "text/plain": [
       "\"\\nhttps://stackoverflow.com/questions/22219004/grouping-rows-in-list-in-pandas-groupby\\n\\n# below creates unique set of keys comprised of first 4 columns (C/A, STATION, UNIT, etc.)\\nnew_set = set(zip(df['C/A'], df['UNIT'], df['SCP'], df['STATION']))\\n\\n# below works as an initial groupby consolidation\\ndf.groupby(['C/A', 'UNIT', 'SCP', 'STATION', 'DATE']).count()\\n\\n\\n\\nOBJECTIVES / DELIVERABLES:\\n- could suggest when to host the event based on what part of year we can reach most attendees\\n\\n\\nQUESTIONS:\\n- why would there be significant difference between turnstile entries and exits? Intuitively they would be very similar\\n- \\n\""
      ]
     },
     "execution_count": 1,
     "metadata": {},
     "output_type": "execute_result"
    }
   ],
   "source": [
    "'''\n",
    "https://stackoverflow.com/questions/22219004/grouping-rows-in-list-in-pandas-groupby\n",
    "\n",
    "# below creates unique set of keys comprised of first 4 columns (C/A, STATION, UNIT, etc.)\n",
    "new_set = set(zip(df['C/A'], df['UNIT'], df['SCP'], df['STATION']))\n",
    "\n",
    "# below works as an initial groupby consolidation\n",
    "df.groupby(['C/A', 'UNIT', 'SCP', 'STATION', 'DATE']).count()\n",
    "\n",
    "\n",
    "\n",
    "OBJECTIVES / DELIVERABLES:\n",
    "- could suggest when to host the event based on what part of year we can reach most attendees\n",
    "\n",
    "\n",
    "QUESTIONS:\n",
    "- why would there be significant difference between turnstile entries and exits? Intuitively they would be very similar\n",
    "- \n",
    "'''"
   ]
  },
  {
   "cell_type": "markdown",
   "metadata": {},
   "source": [
    "# 1. Read files into df and formatting"
   ]
  },
  {
   "cell_type": "code",
   "execution_count": 2,
   "metadata": {
    "scrolled": false
   },
   "outputs": [
    {
     "name": "stdout",
     "output_type": "stream",
     "text": [
      "<class 'pandas.core.frame.DataFrame'>\n",
      "Int64Index: 393632 entries, 0 to 199115\n",
      "Data columns (total 11 columns):\n",
      "C/A                                                                     393632 non-null object\n",
      "UNIT                                                                    393632 non-null object\n",
      "SCP                                                                     393632 non-null object\n",
      "STATION                                                                 393632 non-null object\n",
      "LINENAME                                                                393632 non-null object\n",
      "DIVISION                                                                393632 non-null object\n",
      "DATE                                                                    393632 non-null object\n",
      "TIME                                                                    393632 non-null object\n",
      "DESC                                                                    393632 non-null object\n",
      "ENTRIES                                                                 393632 non-null int64\n",
      "EXITS                                                                   393632 non-null int64\n",
      "dtypes: int64(2), object(9)\n",
      "memory usage: 36.0+ MB\n"
     ]
    }
   ],
   "source": [
    "#import glob\n",
    "import numpy as np\n",
    "import pandas as pd\n",
    "#import matplotlib.pyplot as plt\n",
    "#import seaborn as sns\n",
    "\n",
    "#%matplotlib inline\n",
    "'''\n",
    "# get data file names\n",
    "path ='data/' \n",
    "filenames = glob.glob(path + \"*.txt\")\n",
    "\n",
    "df_list = []\n",
    "for filename in filenames: # remove counter to load all locally available data.\n",
    "    counter = 0\n",
    "    while counter < 2:\n",
    "        df_list.append(pd.read_csv(filename))\n",
    "        counter += 1\n",
    "'''\n",
    "\n",
    "# list of .txt files to be read\n",
    "txt_docs_list = ['turnstile_160409.txt', 'turnstile_180310.txt', 'turnstile_180317.txt',\n",
    "                 'turnstile_180324.txt', 'turnstile_180331.txt', 'turnstile_180407.txt']\n",
    "\n",
    "# reading in the files\n",
    "df_list = []\n",
    "for each in range(2):\n",
    "    df_list.append(pd.read_csv(txt_docs_list[each]))\n",
    "    \n",
    "# concatenating the DFs together as 'df'\n",
    "df = pd.concat(df_list)\n",
    "df.info()"
   ]
  },
  {
   "cell_type": "markdown",
   "metadata": {},
   "source": [
    "### formatting"
   ]
  },
  {
   "cell_type": "code",
   "execution_count": 3,
   "metadata": {},
   "outputs": [
    {
     "data": {
      "text/plain": [
       "Index(['C/A', 'UNIT', 'SCP', 'STATION', 'LINENAME', 'DIVISION', 'DATE', 'TIME',\n",
       "       'DESC', 'ENTRIES', 'EXITS'],\n",
       "      dtype='object')"
      ]
     },
     "execution_count": 3,
     "metadata": {},
     "output_type": "execute_result"
    }
   ],
   "source": [
    "# Strip column headings\n",
    "df.columns = df.columns.str.strip()\n",
    "df.columns"
   ]
  },
  {
   "cell_type": "code",
   "execution_count": 8,
   "metadata": {},
   "outputs": [
    {
     "name": "stdout",
     "output_type": "stream",
     "text": [
      "<class 'pandas.core.frame.DataFrame'>\n",
      "Int64Index: 393632 entries, 0 to 199115\n",
      "Data columns (total 15 columns):\n",
      "C/A             393632 non-null object\n",
      "UNIT            393632 non-null object\n",
      "SCP             393632 non-null object\n",
      "STATION         393632 non-null object\n",
      "LINENAME        393632 non-null object\n",
      "DIVISION        393632 non-null object\n",
      "DATE            393632 non-null object\n",
      "TIME            393632 non-null object\n",
      "DESC            393632 non-null object\n",
      "ENTRIES         393632 non-null int32\n",
      "EXITS           393632 non-null int32\n",
      "date            393632 non-null datetime64[ns]\n",
      "time            393632 non-null datetime64[ns]\n",
      "turnstile_id    393632 non-null object\n",
      "datetime        393632 non-null datetime64[ns]\n",
      "dtypes: datetime64[ns](3), int32(2), object(10)\n",
      "memory usage: 55.0+ MB\n"
     ]
    }
   ],
   "source": [
    "# Convert data types to reduce file size (20% size reduction)\n",
    "#df['C/A'] = df['C/A'].astype('category')\n",
    "#df['DIVISION'] = df['DIVISION'].astype('category')\n",
    "#df['UNIT'] = df['UNIT'].astype('category')\n",
    "df['ENTRIES'] = df['ENTRIES'].astype('int32')\n",
    "df['EXITS'] = df['EXITS'].astype('int32')\n",
    "\n",
    "# ... and DATETIME formatting\n",
    "df['datetime'] = df['DATE'] + ' ' + df['TIME']\n",
    "df['datetime'] = pd.to_datetime(df['datetime'], format='%m/%d/%Y %H:%M:%S')\n",
    "#df['date'] = pd.to_datetime(df['DATE'], format='%m/%d/%Y')\n",
    "#df['time'] = pd.to_datetime(df['TIME'], format='%H:%M:%S')\n",
    "\n",
    "# Concat first four rows (rather than groupby) as unique ID for turnstile\n",
    "df['turnstile_id'] = df['C/A'] + '_' + df['UNIT'] + '_' + df['SCP'] + '_' + df['STATION']\n",
    "\n",
    "df.info()"
   ]
  },
  {
   "cell_type": "markdown",
   "metadata": {},
   "source": [
    "# 2. Derive turnstile counts\n",
    "- Here we introduce groupby to consolidate information based on unique turnstile identifiers (first 4 columns)"
   ]
  },
  {
   "cell_type": "markdown",
   "metadata": {},
   "source": [
    "## Use Groupby to get 'df_turnstile' and 'df_station'"
   ]
  },
  {
   "cell_type": "code",
   "execution_count": 15,
   "metadata": {},
   "outputs": [
    {
     "data": {
      "text/html": [
       "<div>\n",
       "<style scoped>\n",
       "    .dataframe tbody tr th:only-of-type {\n",
       "        vertical-align: middle;\n",
       "    }\n",
       "\n",
       "    .dataframe tbody tr th {\n",
       "        vertical-align: top;\n",
       "    }\n",
       "\n",
       "    .dataframe thead th {\n",
       "        text-align: right;\n",
       "    }\n",
       "</style>\n",
       "<table border=\"1\" class=\"dataframe\">\n",
       "  <thead>\n",
       "    <tr style=\"text-align: right;\">\n",
       "      <th></th>\n",
       "    </tr>\n",
       "  </thead>\n",
       "  <tbody>\n",
       "  </tbody>\n",
       "</table>\n",
       "</div>"
      ],
      "text/plain": [
       "Empty DataFrame\n",
       "Columns: []\n",
       "Index: []"
      ]
     },
     "execution_count": 15,
     "metadata": {},
     "output_type": "execute_result"
    }
   ],
   "source": [
    "df.set_index('datetime')\n",
    "df2.sort_index(inplace=True)\n",
    "df2 = df.groupby(['C/A', 'UNIT', 'SCP', 'STATION'])[['ENTRIES']].diff()\n",
    "df2"
   ]
  },
  {
   "cell_type": "code",
   "execution_count": 125,
   "metadata": {},
   "outputs": [
    {
     "name": "stdout",
     "output_type": "stream",
     "text": [
      "<class 'pandas.core.frame.DataFrame'>\n",
      "MultiIndex: 393632 entries, (A002, R051, 02-00-00, 59 ST, 03/03/2018, 03:00:00) to (TRAM2, R469, 00-05-01, RIT-ROOSEVELT, 04/08/2016, 21:00:00)\n",
      "Data columns (total 10 columns):\n",
      "LINENAME        393632 non-null object\n",
      "DIVISION        393632 non-null object\n",
      "DESC            393632 non-null object\n",
      "ENTRIES         393632 non-null int32\n",
      "EXITS           393632 non-null int32\n",
      "date            393632 non-null datetime64[ns]\n",
      "time            393632 non-null datetime64[ns]\n",
      "turnstile_id    393632 non-null object\n",
      "diff_entries    0 non-null float64\n",
      "diff_exits      0 non-null float64\n",
      "dtypes: datetime64[ns](2), float64(2), int32(2), object(4)\n",
      "memory usage: 31.3+ MB\n",
      "None\n"
     ]
    }
   ],
   "source": [
    "# first: set the index\n",
    "df2 = df.set_index(['C/A', 'UNIT', 'SCP', 'STATION', 'DATE', 'TIME'])#[['ENTRIES', 'EXITS']].diff()\n",
    "df2.sort_index(inplace=True)\n",
    "df2['diff_entries'] = np.nan\n",
    "df2['diff_exits'] = np.nan\n",
    "\n",
    "print(df2.info())"
   ]
  },
  {
   "cell_type": "code",
   "execution_count": 129,
   "metadata": {},
   "outputs": [
    {
     "data": {
      "text/plain": [
       "'00:00:15'"
      ]
     },
     "execution_count": 129,
     "metadata": {},
     "output_type": "execute_result"
    }
   ],
   "source": [
    "df2.index.levels[5][4]"
   ]
  },
  {
   "cell_type": "code",
   "execution_count": 131,
   "metadata": {},
   "outputs": [
    {
     "ename": "KeyError",
     "evalue": "'03/03/2018'",
     "output_type": "error",
     "traceback": [
      "\u001b[0;31m---------------------------------------------------------------------------\u001b[0m",
      "\u001b[0;31mTypeError\u001b[0m                                 Traceback (most recent call last)",
      "\u001b[0;32m~/anaconda3/lib/python3.6/site-packages/pandas/core/indexes/multi.py\u001b[0m in \u001b[0;36mget_value\u001b[0;34m(self, series, key)\u001b[0m\n\u001b[1;32m    859\u001b[0m         \u001b[0;32mtry\u001b[0m\u001b[0;34m:\u001b[0m\u001b[0;34m\u001b[0m\u001b[0m\n\u001b[0;32m--> 860\u001b[0;31m             \u001b[0;32mreturn\u001b[0m \u001b[0mself\u001b[0m\u001b[0;34m.\u001b[0m\u001b[0m_engine\u001b[0m\u001b[0;34m.\u001b[0m\u001b[0mget_value\u001b[0m\u001b[0;34m(\u001b[0m\u001b[0ms\u001b[0m\u001b[0;34m,\u001b[0m \u001b[0mk\u001b[0m\u001b[0;34m)\u001b[0m\u001b[0;34m\u001b[0m\u001b[0m\n\u001b[0m\u001b[1;32m    861\u001b[0m         \u001b[0;32mexcept\u001b[0m \u001b[0mKeyError\u001b[0m \u001b[0;32mas\u001b[0m \u001b[0me1\u001b[0m\u001b[0;34m:\u001b[0m\u001b[0;34m\u001b[0m\u001b[0m\n",
      "\u001b[0;32mpandas/_libs/index.pyx\u001b[0m in \u001b[0;36mpandas._libs.index.IndexEngine.get_value\u001b[0;34m()\u001b[0m\n",
      "\u001b[0;32mpandas/_libs/index.pyx\u001b[0m in \u001b[0;36mpandas._libs.index.IndexEngine.get_value\u001b[0;34m()\u001b[0m\n",
      "\u001b[0;32mpandas/_libs/index.pyx\u001b[0m in \u001b[0;36mpandas._libs.index.MultiIndexHashEngine.get_loc\u001b[0;34m()\u001b[0m\n",
      "\u001b[0;32mpandas/_libs/index.pyx\u001b[0m in \u001b[0;36mpandas._libs.index.IndexEngine._get_loc_duplicates\u001b[0;34m()\u001b[0m\n",
      "\u001b[0;32m~/anaconda3/lib/python3.6/site-packages/pandas/util/_decorators.py\u001b[0m in \u001b[0;36mwrapper\u001b[0;34m(*args, **kwargs)\u001b[0m\n\u001b[1;32m    117\u001b[0m                     \u001b[0mkwargs\u001b[0m\u001b[0;34m[\u001b[0m\u001b[0mnew_arg_name\u001b[0m\u001b[0;34m]\u001b[0m \u001b[0;34m=\u001b[0m \u001b[0mnew_arg_value\u001b[0m\u001b[0;34m\u001b[0m\u001b[0m\n\u001b[0;32m--> 118\u001b[0;31m             \u001b[0;32mreturn\u001b[0m \u001b[0mfunc\u001b[0m\u001b[0;34m(\u001b[0m\u001b[0;34m*\u001b[0m\u001b[0margs\u001b[0m\u001b[0;34m,\u001b[0m \u001b[0;34m**\u001b[0m\u001b[0mkwargs\u001b[0m\u001b[0;34m)\u001b[0m\u001b[0;34m\u001b[0m\u001b[0m\n\u001b[0m\u001b[1;32m    119\u001b[0m         \u001b[0;32mreturn\u001b[0m \u001b[0mwrapper\u001b[0m\u001b[0;34m\u001b[0m\u001b[0m\n",
      "\u001b[0;32m~/anaconda3/lib/python3.6/site-packages/pandas/core/base.py\u001b[0m in \u001b[0;36msearchsorted\u001b[0;34m(self, value, side, sorter)\u001b[0m\n\u001b[1;32m   1098\u001b[0m         \u001b[0;31m# needs coercion on the key (DatetimeIndex does already)\u001b[0m\u001b[0;34m\u001b[0m\u001b[0;34m\u001b[0m\u001b[0m\n\u001b[0;32m-> 1099\u001b[0;31m         \u001b[0;32mreturn\u001b[0m \u001b[0mself\u001b[0m\u001b[0;34m.\u001b[0m\u001b[0mvalues\u001b[0m\u001b[0;34m.\u001b[0m\u001b[0msearchsorted\u001b[0m\u001b[0;34m(\u001b[0m\u001b[0mvalue\u001b[0m\u001b[0;34m,\u001b[0m \u001b[0mside\u001b[0m\u001b[0;34m=\u001b[0m\u001b[0mside\u001b[0m\u001b[0;34m,\u001b[0m \u001b[0msorter\u001b[0m\u001b[0;34m=\u001b[0m\u001b[0msorter\u001b[0m\u001b[0;34m)\u001b[0m\u001b[0;34m\u001b[0m\u001b[0m\n\u001b[0m\u001b[1;32m   1100\u001b[0m \u001b[0;34m\u001b[0m\u001b[0m\n",
      "\u001b[0;31mTypeError\u001b[0m: '<' not supported between instances of 'tuple' and 'str'",
      "\nDuring handling of the above exception, another exception occurred:\n",
      "\u001b[0;31mKeyError\u001b[0m                                  Traceback (most recent call last)",
      "\u001b[0;32m~/anaconda3/lib/python3.6/site-packages/pandas/core/indexes/base.py\u001b[0m in \u001b[0;36mget_loc\u001b[0;34m(self, key, method, tolerance)\u001b[0m\n\u001b[1;32m   2524\u001b[0m             \u001b[0;32mtry\u001b[0m\u001b[0;34m:\u001b[0m\u001b[0;34m\u001b[0m\u001b[0m\n\u001b[0;32m-> 2525\u001b[0;31m                 \u001b[0;32mreturn\u001b[0m \u001b[0mself\u001b[0m\u001b[0;34m.\u001b[0m\u001b[0m_engine\u001b[0m\u001b[0;34m.\u001b[0m\u001b[0mget_loc\u001b[0m\u001b[0;34m(\u001b[0m\u001b[0mkey\u001b[0m\u001b[0;34m)\u001b[0m\u001b[0;34m\u001b[0m\u001b[0m\n\u001b[0m\u001b[1;32m   2526\u001b[0m             \u001b[0;32mexcept\u001b[0m \u001b[0mKeyError\u001b[0m\u001b[0;34m:\u001b[0m\u001b[0;34m\u001b[0m\u001b[0m\n",
      "\u001b[0;32mpandas/_libs/index.pyx\u001b[0m in \u001b[0;36mpandas._libs.index.IndexEngine.get_loc\u001b[0;34m()\u001b[0m\n",
      "\u001b[0;32mpandas/_libs/index.pyx\u001b[0m in \u001b[0;36mpandas._libs.index.IndexEngine.get_loc\u001b[0;34m()\u001b[0m\n",
      "\u001b[0;32mpandas/_libs/hashtable_class_helper.pxi\u001b[0m in \u001b[0;36mpandas._libs.hashtable.PyObjectHashTable.get_item\u001b[0;34m()\u001b[0m\n",
      "\u001b[0;32mpandas/_libs/hashtable_class_helper.pxi\u001b[0m in \u001b[0;36mpandas._libs.hashtable.PyObjectHashTable.get_item\u001b[0;34m()\u001b[0m\n",
      "\u001b[0;31mKeyError\u001b[0m: '03/03/2018'",
      "\nDuring handling of the above exception, another exception occurred:\n",
      "\u001b[0;31mKeyError\u001b[0m                                  Traceback (most recent call last)",
      "\u001b[0;32m<ipython-input-131-b6e27bc69f1d>\u001b[0m in \u001b[0;36m<module>\u001b[0;34m()\u001b[0m\n\u001b[1;32m      1\u001b[0m \u001b[0;31m# now add .diff values at index.levels[0]\u001b[0m\u001b[0;34m\u001b[0m\u001b[0;34m\u001b[0m\u001b[0m\n\u001b[1;32m      2\u001b[0m \u001b[0;32mfor\u001b[0m \u001b[0midx\u001b[0m \u001b[0;32min\u001b[0m \u001b[0mdf2\u001b[0m\u001b[0;34m.\u001b[0m\u001b[0mindex\u001b[0m\u001b[0;34m.\u001b[0m\u001b[0mlevels\u001b[0m\u001b[0;34m[\u001b[0m\u001b[0;36m4\u001b[0m\u001b[0;34m]\u001b[0m\u001b[0;34m:\u001b[0m\u001b[0;34m\u001b[0m\u001b[0m\n\u001b[0;32m----> 3\u001b[0;31m     \u001b[0mdf2\u001b[0m\u001b[0;34m.\u001b[0m\u001b[0mdiff_entries\u001b[0m\u001b[0;34m[\u001b[0m\u001b[0midx\u001b[0m\u001b[0;34m]\u001b[0m \u001b[0;34m=\u001b[0m \u001b[0mdf2\u001b[0m\u001b[0;34m.\u001b[0m\u001b[0mENTRIES\u001b[0m\u001b[0;34m[\u001b[0m\u001b[0midx\u001b[0m\u001b[0;34m]\u001b[0m\u001b[0;34m.\u001b[0m\u001b[0mdiff\u001b[0m\u001b[0;34m(\u001b[0m\u001b[0;34m)\u001b[0m\u001b[0;34m\u001b[0m\u001b[0m\n\u001b[0m\u001b[1;32m      4\u001b[0m     \u001b[0mdf2\u001b[0m\u001b[0;34m.\u001b[0m\u001b[0mdiff_exits\u001b[0m\u001b[0;34m[\u001b[0m\u001b[0midx\u001b[0m\u001b[0;34m]\u001b[0m \u001b[0;34m=\u001b[0m \u001b[0mdf2\u001b[0m\u001b[0;34m.\u001b[0m\u001b[0mEXITS\u001b[0m\u001b[0;34m[\u001b[0m\u001b[0midx\u001b[0m\u001b[0;34m]\u001b[0m\u001b[0;34m.\u001b[0m\u001b[0mdiff\u001b[0m\u001b[0;34m(\u001b[0m\u001b[0;34m)\u001b[0m\u001b[0;34m\u001b[0m\u001b[0m\n\u001b[1;32m      5\u001b[0m \u001b[0mprint\u001b[0m\u001b[0;34m(\u001b[0m\u001b[0mdf2\u001b[0m\u001b[0;34m.\u001b[0m\u001b[0minfo\u001b[0m\u001b[0;34m(\u001b[0m\u001b[0;34m)\u001b[0m\u001b[0;34m)\u001b[0m\u001b[0;34m\u001b[0m\u001b[0m\n",
      "\u001b[0;32m~/anaconda3/lib/python3.6/site-packages/pandas/core/series.py\u001b[0m in \u001b[0;36m__getitem__\u001b[0;34m(self, key)\u001b[0m\n\u001b[1;32m    621\u001b[0m         \u001b[0mkey\u001b[0m \u001b[0;34m=\u001b[0m \u001b[0mcom\u001b[0m\u001b[0;34m.\u001b[0m\u001b[0m_apply_if_callable\u001b[0m\u001b[0;34m(\u001b[0m\u001b[0mkey\u001b[0m\u001b[0;34m,\u001b[0m \u001b[0mself\u001b[0m\u001b[0;34m)\u001b[0m\u001b[0;34m\u001b[0m\u001b[0m\n\u001b[1;32m    622\u001b[0m         \u001b[0;32mtry\u001b[0m\u001b[0;34m:\u001b[0m\u001b[0;34m\u001b[0m\u001b[0m\n\u001b[0;32m--> 623\u001b[0;31m             \u001b[0mresult\u001b[0m \u001b[0;34m=\u001b[0m \u001b[0mself\u001b[0m\u001b[0;34m.\u001b[0m\u001b[0mindex\u001b[0m\u001b[0;34m.\u001b[0m\u001b[0mget_value\u001b[0m\u001b[0;34m(\u001b[0m\u001b[0mself\u001b[0m\u001b[0;34m,\u001b[0m \u001b[0mkey\u001b[0m\u001b[0;34m)\u001b[0m\u001b[0;34m\u001b[0m\u001b[0m\n\u001b[0m\u001b[1;32m    624\u001b[0m \u001b[0;34m\u001b[0m\u001b[0m\n\u001b[1;32m    625\u001b[0m             \u001b[0;32mif\u001b[0m \u001b[0;32mnot\u001b[0m \u001b[0mis_scalar\u001b[0m\u001b[0;34m(\u001b[0m\u001b[0mresult\u001b[0m\u001b[0;34m)\u001b[0m\u001b[0;34m:\u001b[0m\u001b[0;34m\u001b[0m\u001b[0m\n",
      "\u001b[0;32m~/anaconda3/lib/python3.6/site-packages/pandas/core/indexes/multi.py\u001b[0m in \u001b[0;36mget_value\u001b[0;34m(self, series, key)\u001b[0m\n\u001b[1;32m    886\u001b[0m                     (compat.PY3 and isinstance(key, compat.string_types))):\n\u001b[1;32m    887\u001b[0m                 \u001b[0;32mtry\u001b[0m\u001b[0;34m:\u001b[0m\u001b[0;34m\u001b[0m\u001b[0m\n\u001b[0;32m--> 888\u001b[0;31m                     \u001b[0;32mreturn\u001b[0m \u001b[0m_try_mi\u001b[0m\u001b[0;34m(\u001b[0m\u001b[0mkey\u001b[0m\u001b[0;34m)\u001b[0m\u001b[0;34m\u001b[0m\u001b[0m\n\u001b[0m\u001b[1;32m    889\u001b[0m                 \u001b[0;32mexcept\u001b[0m \u001b[0;34m(\u001b[0m\u001b[0mKeyError\u001b[0m\u001b[0;34m)\u001b[0m\u001b[0;34m:\u001b[0m\u001b[0;34m\u001b[0m\u001b[0m\n\u001b[1;32m    890\u001b[0m                     \u001b[0;32mraise\u001b[0m\u001b[0;34m\u001b[0m\u001b[0m\n",
      "\u001b[0;32m~/anaconda3/lib/python3.6/site-packages/pandas/core/indexes/multi.py\u001b[0m in \u001b[0;36m_try_mi\u001b[0;34m(k)\u001b[0m\n\u001b[1;32m    850\u001b[0m         \u001b[0;32mdef\u001b[0m \u001b[0m_try_mi\u001b[0m\u001b[0;34m(\u001b[0m\u001b[0mk\u001b[0m\u001b[0;34m)\u001b[0m\u001b[0;34m:\u001b[0m\u001b[0;34m\u001b[0m\u001b[0m\n\u001b[1;32m    851\u001b[0m             \u001b[0;31m# TODO: what if a level contains tuples??\u001b[0m\u001b[0;34m\u001b[0m\u001b[0;34m\u001b[0m\u001b[0m\n\u001b[0;32m--> 852\u001b[0;31m             \u001b[0mloc\u001b[0m \u001b[0;34m=\u001b[0m \u001b[0mself\u001b[0m\u001b[0;34m.\u001b[0m\u001b[0mget_loc\u001b[0m\u001b[0;34m(\u001b[0m\u001b[0mk\u001b[0m\u001b[0;34m)\u001b[0m\u001b[0;34m\u001b[0m\u001b[0m\n\u001b[0m\u001b[1;32m    853\u001b[0m             \u001b[0mnew_values\u001b[0m \u001b[0;34m=\u001b[0m \u001b[0mseries\u001b[0m\u001b[0;34m.\u001b[0m\u001b[0m_values\u001b[0m\u001b[0;34m[\u001b[0m\u001b[0mloc\u001b[0m\u001b[0;34m]\u001b[0m\u001b[0;34m\u001b[0m\u001b[0m\n\u001b[1;32m    854\u001b[0m             \u001b[0mnew_index\u001b[0m \u001b[0;34m=\u001b[0m \u001b[0mself\u001b[0m\u001b[0;34m[\u001b[0m\u001b[0mloc\u001b[0m\u001b[0;34m]\u001b[0m\u001b[0;34m\u001b[0m\u001b[0m\n",
      "\u001b[0;32m~/anaconda3/lib/python3.6/site-packages/pandas/core/indexes/multi.py\u001b[0m in \u001b[0;36mget_loc\u001b[0;34m(self, key, method)\u001b[0m\n\u001b[1;32m   2070\u001b[0m \u001b[0;34m\u001b[0m\u001b[0m\n\u001b[1;32m   2071\u001b[0m         \u001b[0;32mif\u001b[0m \u001b[0;32mnot\u001b[0m \u001b[0misinstance\u001b[0m\u001b[0;34m(\u001b[0m\u001b[0mkey\u001b[0m\u001b[0;34m,\u001b[0m \u001b[0mtuple\u001b[0m\u001b[0;34m)\u001b[0m\u001b[0;34m:\u001b[0m\u001b[0;34m\u001b[0m\u001b[0m\n\u001b[0;32m-> 2072\u001b[0;31m             \u001b[0mloc\u001b[0m \u001b[0;34m=\u001b[0m \u001b[0mself\u001b[0m\u001b[0;34m.\u001b[0m\u001b[0m_get_level_indexer\u001b[0m\u001b[0;34m(\u001b[0m\u001b[0mkey\u001b[0m\u001b[0;34m,\u001b[0m \u001b[0mlevel\u001b[0m\u001b[0;34m=\u001b[0m\u001b[0;36m0\u001b[0m\u001b[0;34m)\u001b[0m\u001b[0;34m\u001b[0m\u001b[0m\n\u001b[0m\u001b[1;32m   2073\u001b[0m             \u001b[0;32mreturn\u001b[0m \u001b[0m_maybe_to_slice\u001b[0m\u001b[0;34m(\u001b[0m\u001b[0mloc\u001b[0m\u001b[0;34m)\u001b[0m\u001b[0;34m\u001b[0m\u001b[0m\n\u001b[1;32m   2074\u001b[0m \u001b[0;34m\u001b[0m\u001b[0m\n",
      "\u001b[0;32m~/anaconda3/lib/python3.6/site-packages/pandas/core/indexes/multi.py\u001b[0m in \u001b[0;36m_get_level_indexer\u001b[0;34m(self, key, level, indexer)\u001b[0m\n\u001b[1;32m   2360\u001b[0m         \u001b[0;32melse\u001b[0m\u001b[0;34m:\u001b[0m\u001b[0;34m\u001b[0m\u001b[0m\n\u001b[1;32m   2361\u001b[0m \u001b[0;34m\u001b[0m\u001b[0m\n\u001b[0;32m-> 2362\u001b[0;31m             \u001b[0mloc\u001b[0m \u001b[0;34m=\u001b[0m \u001b[0mlevel_index\u001b[0m\u001b[0;34m.\u001b[0m\u001b[0mget_loc\u001b[0m\u001b[0;34m(\u001b[0m\u001b[0mkey\u001b[0m\u001b[0;34m)\u001b[0m\u001b[0;34m\u001b[0m\u001b[0m\n\u001b[0m\u001b[1;32m   2363\u001b[0m             \u001b[0;32mif\u001b[0m \u001b[0misinstance\u001b[0m\u001b[0;34m(\u001b[0m\u001b[0mloc\u001b[0m\u001b[0;34m,\u001b[0m \u001b[0mslice\u001b[0m\u001b[0;34m)\u001b[0m\u001b[0;34m:\u001b[0m\u001b[0;34m\u001b[0m\u001b[0m\n\u001b[1;32m   2364\u001b[0m                 \u001b[0;32mreturn\u001b[0m \u001b[0mloc\u001b[0m\u001b[0;34m\u001b[0m\u001b[0m\n",
      "\u001b[0;32m~/anaconda3/lib/python3.6/site-packages/pandas/core/indexes/base.py\u001b[0m in \u001b[0;36mget_loc\u001b[0;34m(self, key, method, tolerance)\u001b[0m\n\u001b[1;32m   2525\u001b[0m                 \u001b[0;32mreturn\u001b[0m \u001b[0mself\u001b[0m\u001b[0;34m.\u001b[0m\u001b[0m_engine\u001b[0m\u001b[0;34m.\u001b[0m\u001b[0mget_loc\u001b[0m\u001b[0;34m(\u001b[0m\u001b[0mkey\u001b[0m\u001b[0;34m)\u001b[0m\u001b[0;34m\u001b[0m\u001b[0m\n\u001b[1;32m   2526\u001b[0m             \u001b[0;32mexcept\u001b[0m \u001b[0mKeyError\u001b[0m\u001b[0;34m:\u001b[0m\u001b[0;34m\u001b[0m\u001b[0m\n\u001b[0;32m-> 2527\u001b[0;31m                 \u001b[0;32mreturn\u001b[0m \u001b[0mself\u001b[0m\u001b[0;34m.\u001b[0m\u001b[0m_engine\u001b[0m\u001b[0;34m.\u001b[0m\u001b[0mget_loc\u001b[0m\u001b[0;34m(\u001b[0m\u001b[0mself\u001b[0m\u001b[0;34m.\u001b[0m\u001b[0m_maybe_cast_indexer\u001b[0m\u001b[0;34m(\u001b[0m\u001b[0mkey\u001b[0m\u001b[0;34m)\u001b[0m\u001b[0;34m)\u001b[0m\u001b[0;34m\u001b[0m\u001b[0m\n\u001b[0m\u001b[1;32m   2528\u001b[0m \u001b[0;34m\u001b[0m\u001b[0m\n\u001b[1;32m   2529\u001b[0m         \u001b[0mindexer\u001b[0m \u001b[0;34m=\u001b[0m \u001b[0mself\u001b[0m\u001b[0;34m.\u001b[0m\u001b[0mget_indexer\u001b[0m\u001b[0;34m(\u001b[0m\u001b[0;34m[\u001b[0m\u001b[0mkey\u001b[0m\u001b[0;34m]\u001b[0m\u001b[0;34m,\u001b[0m \u001b[0mmethod\u001b[0m\u001b[0;34m=\u001b[0m\u001b[0mmethod\u001b[0m\u001b[0;34m,\u001b[0m \u001b[0mtolerance\u001b[0m\u001b[0;34m=\u001b[0m\u001b[0mtolerance\u001b[0m\u001b[0;34m)\u001b[0m\u001b[0;34m\u001b[0m\u001b[0m\n",
      "\u001b[0;32mpandas/_libs/index.pyx\u001b[0m in \u001b[0;36mpandas._libs.index.IndexEngine.get_loc\u001b[0;34m()\u001b[0m\n",
      "\u001b[0;32mpandas/_libs/index.pyx\u001b[0m in \u001b[0;36mpandas._libs.index.IndexEngine.get_loc\u001b[0;34m()\u001b[0m\n",
      "\u001b[0;32mpandas/_libs/hashtable_class_helper.pxi\u001b[0m in \u001b[0;36mpandas._libs.hashtable.PyObjectHashTable.get_item\u001b[0;34m()\u001b[0m\n",
      "\u001b[0;32mpandas/_libs/hashtable_class_helper.pxi\u001b[0m in \u001b[0;36mpandas._libs.hashtable.PyObjectHashTable.get_item\u001b[0;34m()\u001b[0m\n",
      "\u001b[0;31mKeyError\u001b[0m: '03/03/2018'"
     ]
    }
   ],
   "source": [
    "# now add .diff values at index.levels[0]\n",
    "for idx in df2.index.levels[4]:\n",
    "    df2.diff_entries[idx] = df2.ENTRIES[idx].diff()\n",
    "    df2.diff_exits[idx] = df2.EXITS[idx].diff()\n",
    "print(df2.info())"
   ]
  },
  {
   "cell_type": "code",
   "execution_count": null,
   "metadata": {},
   "outputs": [],
   "source": [
    "# df.sort_values(by=['userid','product'])[['userid','price']].groupby(['userid']).diff()\n",
    "#df1_entries = df.sort_values(['C/A', 'UNIT', 'SCP', 'STATION', 'DATE'])[['DATE','ENTRIES']].groupby(['C/A', 'UNIT', 'SCP', 'STATION','DATE']).diff()\n",
    "#df1_entries.reset_index(inplace=True)\n",
    "#df2 = df.sort_values(by=['C/A', 'UNIT', 'SCP', 'STATION'])[['date', 'ENTRIES']].groupby(['date']).diff()\n",
    "#df2.head\n",
    "\n",
    "# .sort_values(by = ['C/A', 'UNIT', 'SCP', 'STATION', 'date'])\n",
    "#df2 = df.set_index(['C/A', 'UNIT', 'SCP', 'STATION', 'DATE', 'TIME'])[['ENTRIES', 'EXITS']].diff()\n",
    "#df2 = df.groupby(['turnstile_id', 'DATE', 'TIME'], as_index=False)[['ENTRIES', 'EXITS']].diff()  <---- does not work\n",
    "#df2.reset_index(inplace=True)\n",
    "#df2.info()"
   ]
  },
  {
   "cell_type": "code",
   "execution_count": 114,
   "metadata": {},
   "outputs": [],
   "source": [
    "#df2.to_csv('/Users/jas/Desktop/trialcsv.txt')"
   ]
  },
  {
   "cell_type": "markdown",
   "metadata": {},
   "source": [
    "## df_turnstile_day\n",
    "- Eliminated 'datetime' and original 'DATE' and 'TIME' columns here. For future reference..."
   ]
  },
  {
   "cell_type": "markdown",
   "metadata": {},
   "source": [
    "## df_turnstile_hour\n",
    "- 1. groupby 'datetime'.sum()\n",
    "- 2. "
   ]
  },
  {
   "cell_type": "markdown",
   "metadata": {},
   "source": [
    "## Create 'station' column around which to aggregate/group/summarize\n",
    "- in order to: sum by station by week or month\n",
    "- in order to: sum by station then day of week"
   ]
  },
  {
   "cell_type": "markdown",
   "metadata": {},
   "source": [
    "## Build daily turnstile count list (incorporating class's shift method)"
   ]
  },
  {
   "cell_type": "code",
   "execution_count": 15,
   "metadata": {},
   "outputs": [],
   "source": [
    "# Class shift process cont'd...\n",
    "#turnstiles_daily[[\"PREV_DATE\", \"PREV_ENTRIES\"]] = (turnstiles_daily\n",
    "                                                       #.groupby([\"C/A\", \"UNIT\", \"SCP\", \"STATION\"])[\"DATE\", \"ENTRIES\"]\n",
    "                                                       #.transform(lambda grp: grp.shift(1)))\n",
    "df_turnstile_counts[[\"PREV_DATE\", \"PREV_ENTRIES\"]] = (df_turnstile_counts\n",
    "                                                       .groupby('turnstile_id')['date', 'first_entry']\n",
    "                                                       .transform(lambda grp: grp.shift(1)))\n",
    "df_turnstile_counts['PREV_EXITS'] = (df_turnstile_counts\n",
    "                                                       .groupby('turnstile_id')['first_exit']\n",
    "                                                       .transform(lambda grp: grp.shift(1)))"
   ]
  },
  {
   "cell_type": "code",
   "execution_count": 16,
   "metadata": {},
   "outputs": [
    {
     "data": {
      "text/html": [
       "<div>\n",
       "<style scoped>\n",
       "    .dataframe tbody tr th:only-of-type {\n",
       "        vertical-align: middle;\n",
       "    }\n",
       "\n",
       "    .dataframe tbody tr th {\n",
       "        vertical-align: top;\n",
       "    }\n",
       "\n",
       "    .dataframe thead th {\n",
       "        text-align: right;\n",
       "    }\n",
       "</style>\n",
       "<table border=\"1\" class=\"dataframe\">\n",
       "  <thead>\n",
       "    <tr style=\"text-align: right;\">\n",
       "      <th></th>\n",
       "      <th>turnstile_id</th>\n",
       "      <th>date</th>\n",
       "      <th>time</th>\n",
       "      <th>entries_list</th>\n",
       "      <th>exits_list</th>\n",
       "      <th>entries_count</th>\n",
       "      <th>exits_count</th>\n",
       "      <th>entries_exits</th>\n",
       "      <th>station</th>\n",
       "      <th>first_entry</th>\n",
       "      <th>first_exit</th>\n",
       "      <th>PREV_DATE</th>\n",
       "      <th>PREV_ENTRIES</th>\n",
       "      <th>PREV_EXITS</th>\n",
       "      <th>shift_entries</th>\n",
       "      <th>shift_exits</th>\n",
       "    </tr>\n",
       "  </thead>\n",
       "  <tbody>\n",
       "    <tr>\n",
       "      <th>1</th>\n",
       "      <td>A002_R051_02-00-00_59 ST</td>\n",
       "      <td>2016-04-03</td>\n",
       "      <td>6</td>\n",
       "      <td>[5601621, 5601638, 5601643, 5601722, 5601917, ...</td>\n",
       "      <td>[1896558, 1896566, 1896578, 1896648, 1896718, ...</td>\n",
       "      <td>529</td>\n",
       "      <td>211</td>\n",
       "      <td>740</td>\n",
       "      <td>59 ST</td>\n",
       "      <td>5601621</td>\n",
       "      <td>1896558</td>\n",
       "      <td>2016-04-02</td>\n",
       "      <td>5600838.0</td>\n",
       "      <td>1896290.0</td>\n",
       "      <td>783.0</td>\n",
       "      <td>268.0</td>\n",
       "    </tr>\n",
       "    <tr>\n",
       "      <th>2</th>\n",
       "      <td>A002_R051_02-00-00_59 ST</td>\n",
       "      <td>2016-04-04</td>\n",
       "      <td>7</td>\n",
       "      <td>[5602244, 5602256, 5602297, 5602326, 5602456, ...</td>\n",
       "      <td>[1896791, 1896793, 1896893, 1896945, 1897174, ...</td>\n",
       "      <td>1189</td>\n",
       "      <td>561</td>\n",
       "      <td>1750</td>\n",
       "      <td>59 ST</td>\n",
       "      <td>5602244</td>\n",
       "      <td>1896791</td>\n",
       "      <td>2016-04-03</td>\n",
       "      <td>5601621.0</td>\n",
       "      <td>1896558.0</td>\n",
       "      <td>623.0</td>\n",
       "      <td>233.0</td>\n",
       "    </tr>\n",
       "    <tr>\n",
       "      <th>3</th>\n",
       "      <td>A002_R051_02-00-00_59 ST</td>\n",
       "      <td>2016-04-05</td>\n",
       "      <td>5</td>\n",
       "      <td>[5603671, 5603729, 5603886, 5604169, 5604944]</td>\n",
       "      <td>[1897387, 1897497, 1897817, 1897905, 1898006]</td>\n",
       "      <td>1273</td>\n",
       "      <td>619</td>\n",
       "      <td>1892</td>\n",
       "      <td>59 ST</td>\n",
       "      <td>5603671</td>\n",
       "      <td>1897387</td>\n",
       "      <td>2016-04-04</td>\n",
       "      <td>5602244.0</td>\n",
       "      <td>1896791.0</td>\n",
       "      <td>1427.0</td>\n",
       "      <td>596.0</td>\n",
       "    </tr>\n",
       "    <tr>\n",
       "      <th>4</th>\n",
       "      <td>A002_R051_02-00-00_59 ST</td>\n",
       "      <td>2016-04-06</td>\n",
       "      <td>6</td>\n",
       "      <td>[5605129, 5605137, 5605168, 5605278, 5605583, ...</td>\n",
       "      <td>[1898051, 1898054, 1898158, 1898357, 1898440, ...</td>\n",
       "      <td>1249</td>\n",
       "      <td>478</td>\n",
       "      <td>1727</td>\n",
       "      <td>59 ST</td>\n",
       "      <td>5605129</td>\n",
       "      <td>1898051</td>\n",
       "      <td>2016-04-05</td>\n",
       "      <td>5603671.0</td>\n",
       "      <td>1897387.0</td>\n",
       "      <td>1458.0</td>\n",
       "      <td>664.0</td>\n",
       "    </tr>\n",
       "    <tr>\n",
       "      <th>5</th>\n",
       "      <td>A002_R051_02-00-00_59 ST</td>\n",
       "      <td>2016-04-07</td>\n",
       "      <td>6</td>\n",
       "      <td>[5606603, 5606619, 5606656, 5606803, 5607108, ...</td>\n",
       "      <td>[1898562, 1898565, 1898680, 1898963, 1899032, ...</td>\n",
       "      <td>1265</td>\n",
       "      <td>583</td>\n",
       "      <td>1848</td>\n",
       "      <td>59 ST</td>\n",
       "      <td>5606603</td>\n",
       "      <td>1898562</td>\n",
       "      <td>2016-04-06</td>\n",
       "      <td>5605129.0</td>\n",
       "      <td>1898051.0</td>\n",
       "      <td>1474.0</td>\n",
       "      <td>511.0</td>\n",
       "    </tr>\n",
       "  </tbody>\n",
       "</table>\n",
       "</div>"
      ],
      "text/plain": [
       "               turnstile_id       date  time  \\\n",
       "1  A002_R051_02-00-00_59 ST 2016-04-03     6   \n",
       "2  A002_R051_02-00-00_59 ST 2016-04-04     7   \n",
       "3  A002_R051_02-00-00_59 ST 2016-04-05     5   \n",
       "4  A002_R051_02-00-00_59 ST 2016-04-06     6   \n",
       "5  A002_R051_02-00-00_59 ST 2016-04-07     6   \n",
       "\n",
       "                                        entries_list  \\\n",
       "1  [5601621, 5601638, 5601643, 5601722, 5601917, ...   \n",
       "2  [5602244, 5602256, 5602297, 5602326, 5602456, ...   \n",
       "3      [5603671, 5603729, 5603886, 5604169, 5604944]   \n",
       "4  [5605129, 5605137, 5605168, 5605278, 5605583, ...   \n",
       "5  [5606603, 5606619, 5606656, 5606803, 5607108, ...   \n",
       "\n",
       "                                          exits_list  entries_count  \\\n",
       "1  [1896558, 1896566, 1896578, 1896648, 1896718, ...            529   \n",
       "2  [1896791, 1896793, 1896893, 1896945, 1897174, ...           1189   \n",
       "3      [1897387, 1897497, 1897817, 1897905, 1898006]           1273   \n",
       "4  [1898051, 1898054, 1898158, 1898357, 1898440, ...           1249   \n",
       "5  [1898562, 1898565, 1898680, 1898963, 1899032, ...           1265   \n",
       "\n",
       "   exits_count  entries_exits station  first_entry  first_exit  PREV_DATE  \\\n",
       "1          211            740   59 ST      5601621     1896558 2016-04-02   \n",
       "2          561           1750   59 ST      5602244     1896791 2016-04-03   \n",
       "3          619           1892   59 ST      5603671     1897387 2016-04-04   \n",
       "4          478           1727   59 ST      5605129     1898051 2016-04-05   \n",
       "5          583           1848   59 ST      5606603     1898562 2016-04-06   \n",
       "\n",
       "   PREV_ENTRIES  PREV_EXITS  shift_entries  shift_exits  \n",
       "1     5600838.0   1896290.0          783.0        268.0  \n",
       "2     5601621.0   1896558.0          623.0        233.0  \n",
       "3     5602244.0   1896791.0         1427.0        596.0  \n",
       "4     5603671.0   1897387.0         1458.0        664.0  \n",
       "5     5605129.0   1898051.0         1474.0        511.0  "
      ]
     },
     "execution_count": 16,
     "metadata": {},
     "output_type": "execute_result"
    }
   ],
   "source": [
    "# Drop the NaN rows for last date\n",
    "df_turnstile_counts.dropna(subset=[\"PREV_DATE\"], axis=0, inplace=True)\n",
    "\n",
    "# summarize \n",
    "df_turnstile_counts['shift_entries'] = df_turnstile_counts['first_entry'] - df_turnstile_counts['PREV_ENTRIES']\n",
    "df_turnstile_counts['shift_exits'] = df_turnstile_counts['first_exit'] - df_turnstile_counts['PREV_EXITS']\n",
    "df_turnstile_counts.head()"
   ]
  },
  {
   "cell_type": "markdown",
   "metadata": {},
   "source": [
    "## Final DFs summarized by Turnstile and by Station\n",
    "#### Keep in mind the following:\n",
    "- 'date' column type = datetime\n",
    "- 'entries_count' and 'exits_count' are based on Jonathan's list range method\n",
    "- 'shift_entries' and 'shift_exits' are based on the shift method presented in class"
   ]
  },
  {
   "cell_type": "markdown",
   "metadata": {},
   "source": [
    "### Turnstile Summary"
   ]
  },
  {
   "cell_type": "code",
   "execution_count": 17,
   "metadata": {},
   "outputs": [
    {
     "data": {
      "text/html": [
       "<div>\n",
       "<style scoped>\n",
       "    .dataframe tbody tr th:only-of-type {\n",
       "        vertical-align: middle;\n",
       "    }\n",
       "\n",
       "    .dataframe tbody tr th {\n",
       "        vertical-align: top;\n",
       "    }\n",
       "\n",
       "    .dataframe thead th {\n",
       "        text-align: right;\n",
       "    }\n",
       "</style>\n",
       "<table border=\"1\" class=\"dataframe\">\n",
       "  <thead>\n",
       "    <tr style=\"text-align: right;\">\n",
       "      <th></th>\n",
       "      <th>turnstile_id</th>\n",
       "      <th>date</th>\n",
       "      <th>time</th>\n",
       "      <th>entries_count</th>\n",
       "      <th>exits_count</th>\n",
       "      <th>entries_exits</th>\n",
       "      <th>station</th>\n",
       "      <th>PREV_DATE</th>\n",
       "      <th>shift_entries</th>\n",
       "      <th>shift_exits</th>\n",
       "    </tr>\n",
       "  </thead>\n",
       "  <tbody>\n",
       "    <tr>\n",
       "      <th>1</th>\n",
       "      <td>A002_R051_02-00-00_59 ST</td>\n",
       "      <td>2016-04-03</td>\n",
       "      <td>6</td>\n",
       "      <td>529</td>\n",
       "      <td>211</td>\n",
       "      <td>740</td>\n",
       "      <td>59 ST</td>\n",
       "      <td>2016-04-02</td>\n",
       "      <td>783.0</td>\n",
       "      <td>268.0</td>\n",
       "    </tr>\n",
       "    <tr>\n",
       "      <th>2</th>\n",
       "      <td>A002_R051_02-00-00_59 ST</td>\n",
       "      <td>2016-04-04</td>\n",
       "      <td>7</td>\n",
       "      <td>1189</td>\n",
       "      <td>561</td>\n",
       "      <td>1750</td>\n",
       "      <td>59 ST</td>\n",
       "      <td>2016-04-03</td>\n",
       "      <td>623.0</td>\n",
       "      <td>233.0</td>\n",
       "    </tr>\n",
       "    <tr>\n",
       "      <th>3</th>\n",
       "      <td>A002_R051_02-00-00_59 ST</td>\n",
       "      <td>2016-04-05</td>\n",
       "      <td>5</td>\n",
       "      <td>1273</td>\n",
       "      <td>619</td>\n",
       "      <td>1892</td>\n",
       "      <td>59 ST</td>\n",
       "      <td>2016-04-04</td>\n",
       "      <td>1427.0</td>\n",
       "      <td>596.0</td>\n",
       "    </tr>\n",
       "    <tr>\n",
       "      <th>4</th>\n",
       "      <td>A002_R051_02-00-00_59 ST</td>\n",
       "      <td>2016-04-06</td>\n",
       "      <td>6</td>\n",
       "      <td>1249</td>\n",
       "      <td>478</td>\n",
       "      <td>1727</td>\n",
       "      <td>59 ST</td>\n",
       "      <td>2016-04-05</td>\n",
       "      <td>1458.0</td>\n",
       "      <td>664.0</td>\n",
       "    </tr>\n",
       "    <tr>\n",
       "      <th>5</th>\n",
       "      <td>A002_R051_02-00-00_59 ST</td>\n",
       "      <td>2016-04-07</td>\n",
       "      <td>6</td>\n",
       "      <td>1265</td>\n",
       "      <td>583</td>\n",
       "      <td>1848</td>\n",
       "      <td>59 ST</td>\n",
       "      <td>2016-04-06</td>\n",
       "      <td>1474.0</td>\n",
       "      <td>511.0</td>\n",
       "    </tr>\n",
       "  </tbody>\n",
       "</table>\n",
       "</div>"
      ],
      "text/plain": [
       "               turnstile_id       date  time  entries_count  exits_count  \\\n",
       "1  A002_R051_02-00-00_59 ST 2016-04-03     6            529          211   \n",
       "2  A002_R051_02-00-00_59 ST 2016-04-04     7           1189          561   \n",
       "3  A002_R051_02-00-00_59 ST 2016-04-05     5           1273          619   \n",
       "4  A002_R051_02-00-00_59 ST 2016-04-06     6           1249          478   \n",
       "5  A002_R051_02-00-00_59 ST 2016-04-07     6           1265          583   \n",
       "\n",
       "   entries_exits station  PREV_DATE  shift_entries  shift_exits  \n",
       "1            740   59 ST 2016-04-02          783.0        268.0  \n",
       "2           1750   59 ST 2016-04-03          623.0        233.0  \n",
       "3           1892   59 ST 2016-04-04         1427.0        596.0  \n",
       "4           1727   59 ST 2016-04-05         1458.0        664.0  \n",
       "5           1848   59 ST 2016-04-06         1474.0        511.0  "
      ]
     },
     "execution_count": 17,
     "metadata": {},
     "output_type": "execute_result"
    }
   ],
   "source": [
    "turnstile_df = df_turnstile_counts.drop(['entries_list', 'exits_list', 'first_entry', 'first_exit', 'PREV_ENTRIES', 'PREV_EXITS'], axis=1)\n",
    "turnstile_df.head()"
   ]
  },
  {
   "cell_type": "markdown",
   "metadata": {},
   "source": [
    "### Station Summary"
   ]
  },
  {
   "cell_type": "code",
   "execution_count": 18,
   "metadata": {},
   "outputs": [
    {
     "data": {
      "text/html": [
       "<div>\n",
       "<style scoped>\n",
       "    .dataframe tbody tr th:only-of-type {\n",
       "        vertical-align: middle;\n",
       "    }\n",
       "\n",
       "    .dataframe tbody tr th {\n",
       "        vertical-align: top;\n",
       "    }\n",
       "\n",
       "    .dataframe thead th {\n",
       "        text-align: right;\n",
       "    }\n",
       "</style>\n",
       "<table border=\"1\" class=\"dataframe\">\n",
       "  <thead>\n",
       "    <tr style=\"text-align: right;\">\n",
       "      <th></th>\n",
       "      <th>station</th>\n",
       "      <th>date</th>\n",
       "      <th>entries_count</th>\n",
       "      <th>exits_count</th>\n",
       "      <th>entries_exits</th>\n",
       "      <th>shift_entries</th>\n",
       "      <th>shift_exits</th>\n",
       "    </tr>\n",
       "  </thead>\n",
       "  <tbody>\n",
       "    <tr>\n",
       "      <th>0</th>\n",
       "      <td>1 AV</td>\n",
       "      <td>2016-04-03</td>\n",
       "      <td>12836</td>\n",
       "      <td>8962</td>\n",
       "      <td>21798</td>\n",
       "      <td>20472.0</td>\n",
       "      <td>13691.0</td>\n",
       "    </tr>\n",
       "    <tr>\n",
       "      <th>1</th>\n",
       "      <td>1 AV</td>\n",
       "      <td>2016-04-04</td>\n",
       "      <td>19091</td>\n",
       "      <td>13968</td>\n",
       "      <td>33059</td>\n",
       "      <td>15547.0</td>\n",
       "      <td>10470.0</td>\n",
       "    </tr>\n",
       "    <tr>\n",
       "      <th>2</th>\n",
       "      <td>1 AV</td>\n",
       "      <td>2016-04-05</td>\n",
       "      <td>18673</td>\n",
       "      <td>12222</td>\n",
       "      <td>30895</td>\n",
       "      <td>22231.0</td>\n",
       "      <td>15732.0</td>\n",
       "    </tr>\n",
       "    <tr>\n",
       "      <th>3</th>\n",
       "      <td>1 AV</td>\n",
       "      <td>2016-04-06</td>\n",
       "      <td>21212</td>\n",
       "      <td>13427</td>\n",
       "      <td>34639</td>\n",
       "      <td>22369.0</td>\n",
       "      <td>14272.0</td>\n",
       "    </tr>\n",
       "    <tr>\n",
       "      <th>4</th>\n",
       "      <td>1 AV</td>\n",
       "      <td>2016-04-07</td>\n",
       "      <td>20852</td>\n",
       "      <td>13336</td>\n",
       "      <td>34188</td>\n",
       "      <td>25382.0</td>\n",
       "      <td>15420.0</td>\n",
       "    </tr>\n",
       "  </tbody>\n",
       "</table>\n",
       "</div>"
      ],
      "text/plain": [
       "  station       date  entries_count  exits_count  entries_exits  \\\n",
       "0    1 AV 2016-04-03          12836         8962          21798   \n",
       "1    1 AV 2016-04-04          19091        13968          33059   \n",
       "2    1 AV 2016-04-05          18673        12222          30895   \n",
       "3    1 AV 2016-04-06          21212        13427          34639   \n",
       "4    1 AV 2016-04-07          20852        13336          34188   \n",
       "\n",
       "   shift_entries  shift_exits  \n",
       "0        20472.0      13691.0  \n",
       "1        15547.0      10470.0  \n",
       "2        22231.0      15732.0  \n",
       "3        22369.0      14272.0  \n",
       "4        25382.0      15420.0  "
      ]
     },
     "execution_count": 18,
     "metadata": {},
     "output_type": "execute_result"
    }
   ],
   "source": [
    "turnstile_df['station'] = turnstile_df['turnstile_id'].str.slice(19)\n",
    "station_df = turnstile_df.groupby(['station', 'date'])[['entries_count','exits_count', 'entries_exits', 'shift_entries', 'shift_exits']].sum()\n",
    "station_df.reset_index(inplace=True)\n",
    "station_df.head()"
   ]
  },
  {
   "cell_type": "markdown",
   "metadata": {},
   "source": [
    "# 1b. Turnstile & Station by HOUR\n",
    " - convert 'TIME' to 'time' as datetime type\n",
    " - track the data by day... grouby(turnstile_id, date, time)\n",
    " -- this will give each recorded time block, usually 4 hour chunks\n",
    " -- how to create hourly data?????\n",
    " - remove day and review ONLY by 'time' block, see if any trends\n",
    " - "
   ]
  },
  {
   "cell_type": "markdown",
   "metadata": {},
   "source": [
    "### Groupby time... (BELOW NOT CURRENTLY BEING USED FOR ANYTHING)"
   ]
  },
  {
   "cell_type": "code",
   "execution_count": 19,
   "metadata": {},
   "outputs": [
    {
     "name": "stdout",
     "output_type": "stream",
     "text": [
      "<class 'pandas.core.frame.DataFrame'>\n",
      "RangeIndex: 393631 entries, 0 to 393630\n",
      "Data columns (total 14 columns):\n",
      "turnstile_id    393631 non-null object\n",
      "date            393631 non-null datetime64[ns]\n",
      "time            393631 non-null datetime64[ns]\n",
      "C/A             393631 non-null int64\n",
      "UNIT            393631 non-null int64\n",
      "SCP             393631 non-null int64\n",
      "STATION         393631 non-null int64\n",
      "LINENAME        393631 non-null int64\n",
      "DIVISION        393631 non-null int64\n",
      "DATE            393631 non-null int64\n",
      "TIME            393631 non-null int64\n",
      "DESC            393631 non-null int64\n",
      "ENTRIES         393631 non-null int64\n",
      "EXITS           393631 non-null int64\n",
      "dtypes: datetime64[ns](2), int64(11), object(1)\n",
      "memory usage: 42.0+ MB\n"
     ]
    }
   ],
   "source": [
    "# remove below when rerun all...\n",
    "df['time'] = pd.to_datetime(df['TIME'], format='%H:%M:%S') # remove this when rerun all\n",
    "df_turn_time_counts = df.groupby(['turnstile_id', 'date', 'time']).count()\n",
    "df_turn_time_counts.reset_index(inplace=True)\n",
    "df_turn_time_counts.info()"
   ]
  },
  {
   "cell_type": "markdown",
   "metadata": {},
   "source": [
    "### LIST METHOD!!! (taking a swing for intra-day counting)\n",
    "- create new columns for each record "
   ]
  },
  {
   "cell_type": "code",
   "execution_count": null,
   "metadata": {},
   "outputs": [],
   "source": []
  },
  {
   "cell_type": "markdown",
   "metadata": {},
   "source": [
    "# 2. Start the EDA & Plotting/Visualizing\n",
    "#### How to confirm the counts are correct???\n",
    "- option 1: eliminate row if list contains a 0 or counts through zero\n",
    "- option 2: eliminate row if returns (-) value\n",
    "- option 3: determine max count for the counters and look for values approaching max, this also requires confirming that max count is same across all turnstiles)\n",
    "- option 4: identify the 'reset' value / max count within the list and work with it\n",
    "- option 5: ...?"
   ]
  },
  {
   "cell_type": "code",
   "execution_count": 20,
   "metadata": {},
   "outputs": [
    {
     "name": "stdout",
     "output_type": "stream",
     "text": [
      "mean: 8129.736358467661\n",
      "median: 755.0\n",
      "std: 11633334.224401621\n"
     ]
    },
    {
     "data": {
      "image/png": "[encoded data removed]",
      "text/plain": [
       "<matplotlib.figure.Figure at 0x115d2b2b0>"
      ]
     },
     "metadata": {},
     "output_type": "display_data"
    }
   ],
   "source": [
    "import numpy as np\n",
    "import matplotlib.pyplot as plt\n",
    "from collections import defaultdict\n",
    "%matplotlib inline\n",
    "\n",
    "print('mean: ' + str(np.mean(entries_count)))\n",
    "print('median: ' + str(np.median(entries_count)))\n",
    "print('std: ' + str(np.std(entries_count)))\n",
    "\n",
    "#below doesn't quite work, but keeping it close for reference...\n",
    "'''\n",
    "entries_dict = defaultdict(int)\n",
    "for k in entries_count:\n",
    "    entries_dict[k] += 1\n",
    "\n",
    "    \n",
    "pos = np.arange(len(entries_dict.keys()))\n",
    "width = 1.0     # gives histogram aspect to the bar diagram\n",
    "\n",
    "ax = plt.axes()\n",
    "ax.set_xticks(pos + (width / 2))\n",
    "ax.set_xticklabels(entries_dict.keys())\n",
    "    \n",
    "plt.bar(list(entries_dict.keys()), entries_dict.values())\n",
    "plt.show()\n",
    "'''\n",
    "\n",
    "plt.hist(entries_count)\n",
    "plt.show()"
   ]
  }
 ],
 "metadata": {
  "kernelspec": {
   "display_name": "Python 3",
   "language": "python",
   "name": "python3"
  },
  "language_info": {
   "codemirror_mode": {
    "name": "ipython",
    "version": 3
   },
   "file_extension": ".py",
   "mimetype": "text/x-python",
   "name": "python",
   "nbconvert_exporter": "python",
   "pygments_lexer": "ipython3",
   "version": "3.6.4"
  }
 },
 "nbformat": 4,
 "nbformat_minor": 2
}
